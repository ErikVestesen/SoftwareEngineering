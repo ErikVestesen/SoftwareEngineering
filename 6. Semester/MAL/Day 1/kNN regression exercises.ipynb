{
 "cells": [
  {
   "cell_type": "code",
   "execution_count": 34,
   "metadata": {
    "collapsed": true
   },
   "outputs": [],
   "source": [
    "import mglearn\n",
    "%matplotlib inline\n",
    "import numpy as np\n",
    "import matplotlib.pyplot as plt\n",
    "import pandas as pd\n",
    "from IPython.display import display\n",
    "from sklearn.model_selection import train_test_split\n",
    "import scipy as scipy\n",
    "import seaborn as sns"
   ]
  },
  {
   "cell_type": "markdown",
   "metadata": {},
   "source": [
    "# Exercise"
   ]
  },
  {
   "cell_type": "markdown",
   "metadata": {},
   "source": [
    "# Getting the data"
   ]
  },
  {
   "cell_type": "code",
   "execution_count": 35,
   "metadata": {
    "collapsed": true
   },
   "outputs": [],
   "source": [
    "from sklearn.datasets import load_boston\n",
    "data = load_boston()"
   ]
  },
  {
   "cell_type": "markdown",
   "metadata": {},
   "source": [
    "The keys of the object are:"
   ]
  },
  {
   "cell_type": "code",
   "execution_count": 36,
   "metadata": {},
   "outputs": [
    {
     "data": {
      "text/plain": [
       "dict_keys(['data', 'target', 'feature_names', 'DESCR'])"
      ]
     },
     "execution_count": 36,
     "metadata": {},
     "output_type": "execute_result"
    }
   ],
   "source": [
    "data.keys()"
   ]
  },
  {
   "cell_type": "markdown",
   "metadata": {},
   "source": [
    "Let's get a bit acquainted with the data"
   ]
  },
  {
   "cell_type": "code",
   "execution_count": 37,
   "metadata": {},
   "outputs": [
    {
     "name": "stdout",
     "output_type": "stream",
     "text": [
      "Boston House Prices dataset\n",
      "===========================\n",
      "\n",
      "Notes\n",
      "------\n",
      "Data Set Characteristics:  \n",
      "\n",
      "    :Number of Instances: 506 \n",
      "\n",
      "    :Number of Attributes: 13 numeric/categorical predictive\n",
      "    \n",
      "    :Median Value (attribute 14) is usually the target\n",
      "\n",
      "    :Attribute Information (in order):\n",
      "        - CRIM     per capita crime rate by town\n",
      "        - ZN       proportion of residential land zoned for lots over 25,000 sq.ft.\n",
      "        - INDUS    proportion of non-retail business acres per town\n",
      "        - CHAS     Charles River dummy variable (= 1 if tract bounds river; 0 otherwise)\n",
      "        - NOX      nitric oxides concentration (parts per 10 million)\n",
      "        - RM       average number of rooms per dwelling\n",
      "        - AGE      proportion of owner-occupied units built prior to 1940\n",
      "        - DIS      weighted distances to five Boston employment centres\n",
      "        - RAD      index of accessibility to radial highways\n",
      "        - TAX      full-value property-tax rate per $10,000\n",
      "        - PTRATIO  pupil-teacher ratio by town\n",
      "        - B        1000(Bk - 0.63)^2 where Bk is the proportion of blacks by town\n",
      "        - LSTAT    % lower status of the population\n",
      "        - MEDV     Median value of owner-occupied homes in $1000's\n",
      "\n",
      "    :Missing Attribute Values: None\n",
      "\n",
      "    :Creator: Harrison, D. and Rubinfel\n"
     ]
    }
   ],
   "source": [
    "print(data['DESCR'][:1300])"
   ]
  },
  {
   "cell_type": "markdown",
   "metadata": {},
   "source": [
    "In this exercise we will stick to the original target variable. Thus, the first task is to divide the data into a training set and a test set. Remember, the latter represents our future unseen examples"
   ]
  },
  {
   "cell_type": "code",
   "execution_count": 38,
   "metadata": {
    "scrolled": true
   },
   "outputs": [
    {
     "name": "stdout",
     "output_type": "stream",
     "text": [
      "Number of data points in training set and test set, respectively: 379 and 127\n"
     ]
    }
   ],
   "source": [
    "X_train, X_test, y_train, y_test = train_test_split(data['data'], data['target'], random_state=0)\n",
    "print(\"Number of data points in training set and test set, respectively: {} and {}\".format(X_train.shape[0], \n",
    "                                                                                          X_test.shape[0]))"
   ]
  },
  {
   "cell_type": "markdown",
   "metadata": {},
   "source": [
    "# A first k-NN attempt at a model"
   ]
  },
  {
   "cell_type": "code",
   "execution_count": 39,
   "metadata": {
    "collapsed": true
   },
   "outputs": [],
   "source": [
    "from sklearn.neighbors import KNeighborsRegressor\n",
    "knn = KNeighborsRegressor(n_neighbors=5)"
   ]
  },
  {
   "cell_type": "markdown",
   "metadata": {},
   "source": [
    "Learn the model, which is this case simply means storing the training data"
   ]
  },
  {
   "cell_type": "code",
   "execution_count": 40,
   "metadata": {},
   "outputs": [
    {
     "data": {
      "text/plain": [
       "KNeighborsRegressor(algorithm='auto', leaf_size=30, metric='minkowski',\n",
       "          metric_params=None, n_jobs=1, n_neighbors=5, p=2,\n",
       "          weights='uniform')"
      ]
     },
     "execution_count": 40,
     "metadata": {},
     "output_type": "execute_result"
    }
   ],
   "source": [
    "knn.fit(X_train, y_train)"
   ]
  },
  {
   "cell_type": "code",
   "execution_count": 41,
   "metadata": {
    "scrolled": true
   },
   "outputs": [
    {
     "name": "stdout",
     "output_type": "stream",
     "text": [
      "Model score on test set: 0.4616380924610112\n"
     ]
    }
   ],
   "source": [
    "print(\"Model score on test set: {}\".format(knn.score(X_test, y_test)))"
   ]
  },
  {
   "cell_type": "markdown",
   "metadata": {},
   "source": [
    "*Note again:* Accruracy is measured by the R^2 coefficient defined as (1 - u/v), where \n",
    " * u is the residual sum of squares ((y_true - y_pred)^2).sum() \n",
    " * v is the total sum of squares ((y_true - y_true.mean())^2).sum().\n",
    " \n",
    " The values are between 0 and 1, where higher is better."
   ]
  },
  {
   "cell_type": "markdown",
   "metadata": {},
   "source": [
    "### *Exercise:* \n",
    "* Calculate the performance of the model on the training data\n",
    "* Try adusting the number of neighbors and see what impact is has on the two scores"
   ]
  },
  {
   "cell_type": "code",
   "execution_count": 42,
   "metadata": {},
   "outputs": [
    {
     "name": "stdout",
     "output_type": "stream",
     "text": [
      "Test set predictions: [ 19.68  25.64  30.72  13.54  11.2   14.86  22.02  11.66  39.82  28.92\n",
      "  17.16  25.4   10.18  10.38  21.82  38.56  27.82  21.8   16.78  33.06\n",
      "  27.26  13.44  11.04  22.9   27.26  14.76  31.74  17.86  25.34  19.04\n",
      "  17.28  20.8   16.82  10.56  21.    32.58  29.66  31.74  22.5   23.56\n",
      "  22.7   33.44  11.74  31.8   15.36  19.82  21.7   22.5   10.94  19.96\n",
      "  19.96  23.66  24.    14.78   9.96  25.74  23.26  19.56  24.98  24.06\n",
      "  33.32  37.84  13.44   9.36  37.9   25.04  22.1   32.42  26.84  24.44\n",
      "  17.56  23.18  36.62  26.34  15.12  41.88  23.44  18.26  27.26  39.16\n",
      "  25.4   22.96  19.12  25.98  28.66  12.24  23.88  19.12  10.68  15.24\n",
      "  19.96  15.58  25.98  13.44  17.28  20.4   18.26  22.74  19.06  14.1   20.1\n",
      "  22.98  19.56  13.58  22.9   23.    25.4   20.2   22.02  14.86  22.76\n",
      "  41.88  18.72  28.86  25.42  20.38  15.86  32.88  32.88  38.56  19.04\n",
      "  31.68  15.12  10.18  11.74  12.94  31.5   17.04  14.1   22.52  20.74\n",
      "  33.6   30.28  28.82  22.62  22.68  28.04  24.34  13.44  18.34  21.64\n",
      "  20.46  12.94  23.94  14.94  15.24  24.44  18.26  22.64  11.74  15.88\n",
      "  22.84  19.56  23.18  22.68  24.72  27.54  12.28  32.88  28.52  41.28\n",
      "  31.6   36.48  22.18  16.62  23.24  23.64  16.88  20.1   39.16  14.34\n",
      "  14.3   31.88  31.14  19.04  21.82  19.38  20.82  20.72  25.    10.66\n",
      "  19.96  28.04  38.84  25.64  23.94  17.    23.06  18.48  19.92  28.88\n",
      "  27.56  19.56  13.18  16.88  28.8   38.82  30.94  20.96  22.9    8.8\n",
      "  21.84  22.76  13.52  23.54  20.76  22.9   31.74  28.38  13.44  26.06\n",
      "  41.6   20.3   31.74  38.64  21.82  33.24   8.8   22.96  30.08  23.28\n",
      "  13.84  33.24  17.12  24.8   29.42  38.9   21.58  11.2   23.28  38.82\n",
      "  22.12  21.42  24.8   25.36  32.58  21.54  22.68  16.04  11.14  13.86\n",
      "  19.04  27.16  22.06  10.86  18.22  32.88  17.08  25.36  13.34  23.46\n",
      "  28.7   32.72  13.44  28.14  24.44  31.22  23.06  25.42  32.72  38.28\n",
      "  30.1   18.6   29.96  21.84  19.92  20.8   27.38  22.24  25.64  11.68\n",
      "  12.46  20.86  30.58  23.82  17.92  17.16  21.16  33.24  16.04  18.54\n",
      "  12.54  23.94  41.88  22.86  41.28  25.98  20.3   17.04  11.94  12.74\n",
      "  14.34  14.78  23.12  25.22  36.16  20.2   20.76  34.9   38.28  11.74\n",
      "  23.2   42.44  12.02  17.04  25.36  19.56  13.18  19.78  26.88  13.58\n",
      "  29.42  11.74  25.28  16.76  13.34  18.54  34.9   17.92  31.6   26.46\n",
      "  38.84  21.7   22.22  25.42  16.82  15.12  16.06  38.56  14.18  14.7\n",
      "  23.96  13.58   9.2   20.76  17.56  25.    13.02  22.36  25.04  20.72\n",
      "  14.48  12.12  20.72  25.24  23.28  21.98  19.12  12.52  34.6   28.34\n",
      "  23.6   15.1   20.76  24.38  12.6   23.74  18.3   31.88  31.8   23.54\n",
      "  13.98  24.04  21.88  28.34  25.98  31.88  24.48  31.14  22.4   18.82\n",
      "  21.42  34.9   25.4   22.9   32.88  20.1   22.58  19.86]\n"
     ]
    }
   ],
   "source": [
    "print(\"Test set predictions: {}\".format(knn.predict(X_train)))"
   ]
  },
  {
   "cell_type": "code",
   "execution_count": 43,
   "metadata": {},
   "outputs": [
    {
     "name": "stdout",
     "output_type": "stream",
     "text": [
      "Accuracy (R^2) on test set: 0.7061990439169894 \n"
     ]
    }
   ],
   "source": [
    "print(\"Accuracy (R^2) on test set: {} \".format(knn.score(X_train, y_train)))"
   ]
  },
  {
   "cell_type": "markdown",
   "metadata": {},
   "source": [
    "# A second k-NN attempt at a model"
   ]
  },
  {
   "cell_type": "markdown",
   "metadata": {},
   "source": [
    "Let's first take a slightly closer look at our data."
   ]
  },
  {
   "cell_type": "code",
   "execution_count": 9,
   "metadata": {
    "scrolled": true
   },
   "outputs": [
    {
     "data": {
      "text/html": [
       "<div>\n",
       "<style>\n",
       "    .dataframe thead tr:only-child th {\n",
       "        text-align: right;\n",
       "    }\n",
       "\n",
       "    .dataframe thead th {\n",
       "        text-align: left;\n",
       "    }\n",
       "\n",
       "    .dataframe tbody tr th {\n",
       "        vertical-align: top;\n",
       "    }\n",
       "</style>\n",
       "<table border=\"1\" class=\"dataframe\">\n",
       "  <thead>\n",
       "    <tr style=\"text-align: right;\">\n",
       "      <th></th>\n",
       "      <th>CRIM</th>\n",
       "      <th>ZN</th>\n",
       "      <th>INDUS</th>\n",
       "      <th>CHAS</th>\n",
       "      <th>NOX</th>\n",
       "      <th>RM</th>\n",
       "      <th>AGE</th>\n",
       "      <th>DIS</th>\n",
       "      <th>RAD</th>\n",
       "      <th>TAX</th>\n",
       "      <th>PTRATIO</th>\n",
       "      <th>B</th>\n",
       "      <th>LSTAT</th>\n",
       "    </tr>\n",
       "  </thead>\n",
       "  <tbody>\n",
       "    <tr>\n",
       "      <th>count</th>\n",
       "      <td>379.000000</td>\n",
       "      <td>379.000000</td>\n",
       "      <td>379.000000</td>\n",
       "      <td>379.000000</td>\n",
       "      <td>379.000000</td>\n",
       "      <td>379.000000</td>\n",
       "      <td>379.000000</td>\n",
       "      <td>379.000000</td>\n",
       "      <td>379.000000</td>\n",
       "      <td>379.000000</td>\n",
       "      <td>379.000000</td>\n",
       "      <td>379.000000</td>\n",
       "      <td>379.000000</td>\n",
       "    </tr>\n",
       "    <tr>\n",
       "      <th>mean</th>\n",
       "      <td>3.386351</td>\n",
       "      <td>11.861478</td>\n",
       "      <td>11.083509</td>\n",
       "      <td>0.065963</td>\n",
       "      <td>0.556160</td>\n",
       "      <td>6.312683</td>\n",
       "      <td>68.735620</td>\n",
       "      <td>3.781929</td>\n",
       "      <td>9.411609</td>\n",
       "      <td>403.226913</td>\n",
       "      <td>18.489710</td>\n",
       "      <td>358.808232</td>\n",
       "      <td>12.546280</td>\n",
       "    </tr>\n",
       "    <tr>\n",
       "      <th>std</th>\n",
       "      <td>8.250942</td>\n",
       "      <td>23.810122</td>\n",
       "      <td>7.021496</td>\n",
       "      <td>0.248546</td>\n",
       "      <td>0.116179</td>\n",
       "      <td>0.693391</td>\n",
       "      <td>28.214667</td>\n",
       "      <td>2.094931</td>\n",
       "      <td>8.676092</td>\n",
       "      <td>171.319579</td>\n",
       "      <td>2.191971</td>\n",
       "      <td>89.169412</td>\n",
       "      <td>7.202756</td>\n",
       "    </tr>\n",
       "    <tr>\n",
       "      <th>min</th>\n",
       "      <td>0.006320</td>\n",
       "      <td>0.000000</td>\n",
       "      <td>0.460000</td>\n",
       "      <td>0.000000</td>\n",
       "      <td>0.385000</td>\n",
       "      <td>3.561000</td>\n",
       "      <td>2.900000</td>\n",
       "      <td>1.174200</td>\n",
       "      <td>1.000000</td>\n",
       "      <td>187.000000</td>\n",
       "      <td>12.600000</td>\n",
       "      <td>0.320000</td>\n",
       "      <td>1.730000</td>\n",
       "    </tr>\n",
       "    <tr>\n",
       "      <th>25%</th>\n",
       "      <td>0.075200</td>\n",
       "      <td>0.000000</td>\n",
       "      <td>5.040000</td>\n",
       "      <td>0.000000</td>\n",
       "      <td>0.449000</td>\n",
       "      <td>5.904500</td>\n",
       "      <td>45.250000</td>\n",
       "      <td>2.100350</td>\n",
       "      <td>4.000000</td>\n",
       "      <td>276.000000</td>\n",
       "      <td>17.400000</td>\n",
       "      <td>376.125000</td>\n",
       "      <td>6.700000</td>\n",
       "    </tr>\n",
       "    <tr>\n",
       "      <th>50%</th>\n",
       "      <td>0.263630</td>\n",
       "      <td>0.000000</td>\n",
       "      <td>8.560000</td>\n",
       "      <td>0.000000</td>\n",
       "      <td>0.538000</td>\n",
       "      <td>6.229000</td>\n",
       "      <td>78.100000</td>\n",
       "      <td>3.215700</td>\n",
       "      <td>5.000000</td>\n",
       "      <td>329.000000</td>\n",
       "      <td>19.100000</td>\n",
       "      <td>391.930000</td>\n",
       "      <td>11.220000</td>\n",
       "    </tr>\n",
       "    <tr>\n",
       "      <th>75%</th>\n",
       "      <td>3.242325</td>\n",
       "      <td>20.000000</td>\n",
       "      <td>18.100000</td>\n",
       "      <td>0.000000</td>\n",
       "      <td>0.631000</td>\n",
       "      <td>6.676000</td>\n",
       "      <td>93.800000</td>\n",
       "      <td>5.116700</td>\n",
       "      <td>24.000000</td>\n",
       "      <td>666.000000</td>\n",
       "      <td>20.200000</td>\n",
       "      <td>395.960000</td>\n",
       "      <td>17.030000</td>\n",
       "    </tr>\n",
       "    <tr>\n",
       "      <th>max</th>\n",
       "      <td>88.976200</td>\n",
       "      <td>100.000000</td>\n",
       "      <td>27.740000</td>\n",
       "      <td>1.000000</td>\n",
       "      <td>0.871000</td>\n",
       "      <td>8.780000</td>\n",
       "      <td>100.000000</td>\n",
       "      <td>12.126500</td>\n",
       "      <td>24.000000</td>\n",
       "      <td>711.000000</td>\n",
       "      <td>22.000000</td>\n",
       "      <td>396.900000</td>\n",
       "      <td>36.980000</td>\n",
       "    </tr>\n",
       "  </tbody>\n",
       "</table>\n",
       "</div>"
      ],
      "text/plain": [
       "             CRIM          ZN       INDUS        CHAS         NOX          RM  \\\n",
       "count  379.000000  379.000000  379.000000  379.000000  379.000000  379.000000   \n",
       "mean     3.386351   11.861478   11.083509    0.065963    0.556160    6.312683   \n",
       "std      8.250942   23.810122    7.021496    0.248546    0.116179    0.693391   \n",
       "min      0.006320    0.000000    0.460000    0.000000    0.385000    3.561000   \n",
       "25%      0.075200    0.000000    5.040000    0.000000    0.449000    5.904500   \n",
       "50%      0.263630    0.000000    8.560000    0.000000    0.538000    6.229000   \n",
       "75%      3.242325   20.000000   18.100000    0.000000    0.631000    6.676000   \n",
       "max     88.976200  100.000000   27.740000    1.000000    0.871000    8.780000   \n",
       "\n",
       "              AGE         DIS         RAD         TAX     PTRATIO           B  \\\n",
       "count  379.000000  379.000000  379.000000  379.000000  379.000000  379.000000   \n",
       "mean    68.735620    3.781929    9.411609  403.226913   18.489710  358.808232   \n",
       "std     28.214667    2.094931    8.676092  171.319579    2.191971   89.169412   \n",
       "min      2.900000    1.174200    1.000000  187.000000   12.600000    0.320000   \n",
       "25%     45.250000    2.100350    4.000000  276.000000   17.400000  376.125000   \n",
       "50%     78.100000    3.215700    5.000000  329.000000   19.100000  391.930000   \n",
       "75%     93.800000    5.116700   24.000000  666.000000   20.200000  395.960000   \n",
       "max    100.000000   12.126500   24.000000  711.000000   22.000000  396.900000   \n",
       "\n",
       "            LSTAT  \n",
       "count  379.000000  \n",
       "mean    12.546280  \n",
       "std      7.202756  \n",
       "min      1.730000  \n",
       "25%      6.700000  \n",
       "50%     11.220000  \n",
       "75%     17.030000  \n",
       "max     36.980000  "
      ]
     },
     "execution_count": 9,
     "metadata": {},
     "output_type": "execute_result"
    }
   ],
   "source": [
    "data_df = pd.DataFrame(X_train, columns=data['feature_names'])\n",
    "data_df.describe()"
   ]
  },
  {
   "cell_type": "markdown",
   "metadata": {},
   "source": [
    "A box plot can also provide a quick overview:"
   ]
  },
  {
   "cell_type": "code",
   "execution_count": 10,
   "metadata": {
    "scrolled": true
   },
   "outputs": [
    {
     "data": {
      "text/plain": [
       "<matplotlib.axes._subplots.AxesSubplot at 0x22b2ba57898>"
      ]
     },
     "execution_count": 10,
     "metadata": {},
     "output_type": "execute_result"
    },
    {
     "data": {
      "image/png": "[encoded data removed]",
      "text/plain": [
       "<matplotlib.figure.Figure at 0x22b2b9cbe80>"
      ]
     },
     "metadata": {},
     "output_type": "display_data"
    }
   ],
   "source": [
    "sns.boxplot(data=data_df, palette=\"vlag\", orient='h',fliersize=1)"
   ]
  },
  {
   "cell_type": "markdown",
   "metadata": {},
   "source": [
    "From the table and the plot we can see some potential issues with the data. Specifically, the scales of some of the features vary quite a lot. For example, the mean of 'CRIM' is 3.386351 but for 'TAX' it is 403.226913. As we saw on the slides, standard distance measures can have a hard time dealing with this. Thus, we resort to normalization (in this case Z-score): \n",
    "\n",
    "$$ \\mathit{normalized(F)} = \\frac{F-\\mathit{mean}(F)}{\\mathit{std}(F)}$$\n",
    "\n",
    "Note that below:\n",
    "* we only use data from the training set when performing the normalization\n",
    "* the suffix '_n' added to the variables indicates that the features have been normalized."
   ]
  },
  {
   "cell_type": "code",
   "execution_count": 11,
   "metadata": {
    "collapsed": true
   },
   "outputs": [],
   "source": [
    "X_train_n = (X_train-X_train.mean(axis=0))/X_train.std(axis=0)\n",
    "X_test_n = (X_test-X_train.mean(axis=0))/X_train.std(axis=0)"
   ]
  },
  {
   "cell_type": "markdown",
   "metadata": {},
   "source": [
    "The result of the normalization"
   ]
  },
  {
   "cell_type": "code",
   "execution_count": 12,
   "metadata": {},
   "outputs": [
    {
     "data": {
      "text/plain": [
       "<matplotlib.axes._subplots.AxesSubplot at 0x22b2c0580f0>"
      ]
     },
     "execution_count": 12,
     "metadata": {},
     "output_type": "execute_result"
    },
    {
     "data": {
      "image/png": "[encoded data removed]",
      "text/plain": [
       "<matplotlib.figure.Figure at 0x22b2ba242b0>"
      ]
     },
     "metadata": {},
     "output_type": "display_data"
    }
   ],
   "source": [
    "sns.boxplot(data=pd.DataFrame(X_train_n, columns=data['feature_names']), palette=\"vlag\", orient='h',fliersize=1)"
   ]
  },
  {
   "cell_type": "markdown",
   "metadata": {},
   "source": [
    "Now fit the model to the transformed dataset and score the test set"
   ]
  },
  {
   "cell_type": "code",
   "execution_count": 13,
   "metadata": {},
   "outputs": [
    {
     "name": "stdout",
     "output_type": "stream",
     "text": [
      "Model score on Z-score normalized test set: 0.6064585425673015\n"
     ]
    }
   ],
   "source": [
    "knn.fit(X_train_n, y_train)\n",
    "print(\"Model score on Z-score normalized test set: {}\".format(knn.score(X_test_n, y_test)))"
   ]
  },
  {
   "cell_type": "markdown",
   "metadata": {},
   "source": [
    "### *Exercise*: \n",
    "* Try making a min-max normalization of the data:\n",
    "$$ \\mathit{normalized(F)} = \\frac{F-\\mathit{min}(F)}{\\mathit{max}(F)-\\mathit{min}(F)}$$\n",
    "* Make a boxplot of the normalized data and compare with the plot obtained from Z-score normalization\n",
    "* Learn a kNN model and fit it to the new data. Is there a difference in score compared to what was achived using Z-score normalization? Why could that be the case?"
   ]
  },
  {
   "cell_type": "markdown",
   "metadata": {},
   "source": [
    "# A third kNN model\n",
    "\n",
    "The data analysis so far has only focused on the individual variables. Let's now look at the interaction between the variables."
   ]
  },
  {
   "cell_type": "code",
   "execution_count": null,
   "metadata": {
    "collapsed": true,
    "scrolled": false
   },
   "outputs": [],
   "source": [
    "sns.pairplot(data_df.iloc[:, [2,4,5,10,12]])"
   ]
  },
  {
   "cell_type": "markdown",
   "metadata": {},
   "source": [
    "The covariance matrix captures some of the variability in the data. We can see this by plotting it as a heatmap"
   ]
  },
  {
   "cell_type": "code",
   "execution_count": null,
   "metadata": {
    "collapsed": true,
    "scrolled": false
   },
   "outputs": [],
   "source": [
    "train_cov = np.cov(X_train_n, rowvar=False)\n",
    "sns.heatmap(train_cov, \n",
    "        xticklabels=data['feature_names'],\n",
    "        yticklabels=data['feature_names'])\n"
   ]
  },
  {
   "cell_type": "markdown",
   "metadata": {},
   "source": [
    "The joint variability of the variables is not reflected in the Euclidean distance measure used so far (c.f. Slide 7). We may try to account for this variability using the Mahalanobis distance measure."
   ]
  },
  {
   "cell_type": "code",
   "execution_count": null,
   "metadata": {
    "collapsed": true
   },
   "outputs": [],
   "source": [
    "# We need to supply the Mahalanobis distance with the data covariance matrix  \n",
    "knn = KNeighborsRegressor(n_neighbors=5, metric=\"mahalanobis\", metric_params={'V': train_cov})"
   ]
  },
  {
   "cell_type": "markdown",
   "metadata": {},
   "source": [
    "### *Exercise:*\n",
    "* Fit the newly specified model (that relies on the Mahalanobis distance) using both the original data and the normalized data\n",
    "* Evaluate the models with different number of neighbors and compare to the results previously obtained"
   ]
  }
 ],
 "metadata": {
  "kernelspec": {
   "display_name": "Python 3",
   "language": "python",
   "name": "python3"
  },
  "language_info": {
   "codemirror_mode": {
    "name": "ipython",
    "version": 3
   },
   "file_extension": ".py",
   "mimetype": "text/x-python",
   "name": "python",
   "nbconvert_exporter": "python",
   "pygments_lexer": "ipython3",
   "version": "3.6.3"
  }
 },
 "nbformat": 4,
 "nbformat_minor": 2
}
