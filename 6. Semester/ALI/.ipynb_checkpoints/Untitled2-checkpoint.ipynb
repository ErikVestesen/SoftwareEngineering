{
 "cells": [
  {
   "cell_type": "code",
   "execution_count": 1,
   "metadata": {},
   "outputs": [],
   "source": [
    "#import numpy as np\n",
    "from sympy import *\n",
    "from IPython.display import display\n",
    "import numpy as np\n",
    "init_printing()"
   ]
  },
  {
   "cell_type": "code",
   "execution_count": 55,
   "metadata": {},
   "outputs": [],
   "source": [
    "def find_det_co(A, column = 1):\n",
    "    for i in range(0,A.shape[0]):\n",
    "        display('Selected number: {}'.format( A[i,column]))\n",
    "        display(A[i,column]*A.cofactor(i,column))\n",
    "    print('Determinant {}'.format(det(A)))"
   ]
  },
  {
   "cell_type": "code",
   "execution_count": 3,
   "metadata": {},
   "outputs": [
    {
     "data": {
      "text/latex": [
       "$\\displaystyle \\left[\\begin{matrix}-4 & 0 & 2\\\\-8 & 10 & -4\\end{matrix}\\right]$"
      ],
      "text/plain": [
       "⎡-4  0   2 ⎤\n",
       "⎢          ⎥\n",
       "⎣-8  10  -4⎦"
      ]
     },
     "metadata": {},
     "output_type": "display_data"
    },
    {
     "data": {
      "text/latex": [
       "$\\displaystyle \\left[\\begin{matrix}3 & -5 & 3\\\\-7 & 6 & -7\\end{matrix}\\right]$"
      ],
      "text/plain": [
       "⎡3   -5  3 ⎤\n",
       "⎢          ⎥\n",
       "⎣-7  6   -7⎦"
      ]
     },
     "metadata": {},
     "output_type": "display_data"
    },
    {
     "data": {
      "text/latex": [
       "$\\displaystyle \\left[\\begin{matrix}1 & 13\\\\-7 & -6\\end{matrix}\\right]$"
      ],
      "text/plain": [
       "⎡1   13⎤\n",
       "⎢      ⎥\n",
       "⎣-7  -6⎦"
      ]
     },
     "metadata": {},
     "output_type": "display_data"
    }
   ],
   "source": [
    "#Exercise 2.1.1\n",
    "A = Matrix([[2,0,-1],[4,-5,2]])\n",
    "B = Matrix([[7,-5,1],[1,-4,-3]])\n",
    "C = Matrix([[1,2],[-2,1]])\n",
    "D =Matrix([[3,5],[-1,4]])\n",
    "E = Matrix([-5,3])\n",
    "\n",
    "# -2A\n",
    "display(-2*A)\n",
    "\n",
    "# B-2A\n",
    "display(B-2*A)\n",
    "# AC, not possible because A is 3 rows and C is only 2 columns\n",
    "#display(A*C)\n",
    "\n",
    "# CD\n",
    "display(C*D)"
   ]
  },
  {
   "cell_type": "code",
   "execution_count": 9,
   "metadata": {},
   "outputs": [
    {
     "data": {
      "text/latex": [
       "$\\displaystyle \\left[\\begin{matrix}23 & -15 & 2\\\\7 & -17 & -7\\end{matrix}\\right]$"
      ],
      "text/plain": [
       "⎡23  -15  2 ⎤\n",
       "⎢           ⎥\n",
       "⎣7   -17  -7⎦"
      ]
     },
     "metadata": {},
     "output_type": "display_data"
    },
    {
     "data": {
      "text/latex": [
       "$\\displaystyle \\left[\\begin{matrix}26 & -35 & -12\\\\-3 & -11 & -13\\end{matrix}\\right]$"
      ],
      "text/plain": [
       "⎡26  -35  -12⎤\n",
       "⎢            ⎥\n",
       "⎣-3  -11  -13⎦"
      ]
     },
     "metadata": {},
     "output_type": "display_data"
    }
   ],
   "source": [
    "# Exercise 2.1.2\n",
    "A = Matrix([[2,0,-1],[4,-5,2]])\n",
    "B = Matrix([[7,-5,1],[1,-4,-3]])\n",
    "C = Matrix([[1,2],[-2,1]])\n",
    "D = Matrix([[3,5],[-1,4]])\n",
    "E = Matrix([-5,3])\n",
    "\n",
    "display(A+3*B)\n",
    "# display(2*C-3*E) Cant add/substract when they arent the same size\n",
    "display(D*B)\n",
    "# display(E*C), not possible E got 1 column and C got 2 rows"
   ]
  },
  {
   "cell_type": "code",
   "execution_count": 15,
   "metadata": {},
   "outputs": [
    {
     "data": {
      "text/latex": [
       "$\\displaystyle \\left[\\begin{matrix}2 & 6\\\\1 & 3\\end{matrix}\\right]$"
      ],
      "text/plain": [
       "⎡2  6⎤\n",
       "⎢    ⎥\n",
       "⎣1  3⎦"
      ]
     },
     "execution_count": 15,
     "metadata": {},
     "output_type": "execute_result"
    }
   ],
   "source": [
    "# Exercise 2.1.10\n",
    "\n",
    "A = Matrix([[3,-6],[-1,2]])\n",
    "B = Matrix([[-1,1],[3,4]])\n",
    "C = Matrix([[-3,-5],[2,1]])\n",
    "\n",
    "A*B-A*C # Gives 0 in all entries\n",
    "B-C # doesnt give 0 in all entries"
   ]
  },
  {
   "cell_type": "code",
   "execution_count": 18,
   "metadata": {},
   "outputs": [
    {
     "name": "stdout",
     "output_type": "stream",
     "text": [
      "2\n"
     ]
    },
    {
     "data": {
      "text/latex": [
       "$\\displaystyle \\left[\\begin{matrix}0 & 0 & 1 & 0 & 0\\\\0 & 0 & 0 & 1 & 0\\\\0 & 0 & 0 & 0 & 1\\\\0 & 0 & 0 & 0 & 0\\\\0 & 0 & 0 & 0 & 0\\end{matrix}\\right]$"
      ],
      "text/plain": [
       "⎡0  0  1  0  0⎤\n",
       "⎢             ⎥\n",
       "⎢0  0  0  1  0⎥\n",
       "⎢             ⎥\n",
       "⎢0  0  0  0  1⎥\n",
       "⎢             ⎥\n",
       "⎢0  0  0  0  0⎥\n",
       "⎢             ⎥\n",
       "⎣0  0  0  0  0⎦"
      ]
     },
     "metadata": {},
     "output_type": "display_data"
    },
    {
     "name": "stdout",
     "output_type": "stream",
     "text": [
      "3\n"
     ]
    },
    {
     "data": {
      "text/latex": [
       "$\\displaystyle \\left[\\begin{matrix}0 & 0 & 0 & 1 & 0\\\\0 & 0 & 0 & 0 & 1\\\\0 & 0 & 0 & 0 & 0\\\\0 & 0 & 0 & 0 & 0\\\\0 & 0 & 0 & 0 & 0\\end{matrix}\\right]$"
      ],
      "text/plain": [
       "⎡0  0  0  1  0⎤\n",
       "⎢             ⎥\n",
       "⎢0  0  0  0  1⎥\n",
       "⎢             ⎥\n",
       "⎢0  0  0  0  0⎥\n",
       "⎢             ⎥\n",
       "⎢0  0  0  0  0⎥\n",
       "⎢             ⎥\n",
       "⎣0  0  0  0  0⎦"
      ]
     },
     "metadata": {},
     "output_type": "display_data"
    },
    {
     "name": "stdout",
     "output_type": "stream",
     "text": [
      "4\n"
     ]
    },
    {
     "data": {
      "text/latex": [
       "$\\displaystyle \\left[\\begin{matrix}0 & 0 & 0 & 0 & 1\\\\0 & 0 & 0 & 0 & 0\\\\0 & 0 & 0 & 0 & 0\\\\0 & 0 & 0 & 0 & 0\\\\0 & 0 & 0 & 0 & 0\\end{matrix}\\right]$"
      ],
      "text/plain": [
       "⎡0  0  0  0  1⎤\n",
       "⎢             ⎥\n",
       "⎢0  0  0  0  0⎥\n",
       "⎢             ⎥\n",
       "⎢0  0  0  0  0⎥\n",
       "⎢             ⎥\n",
       "⎢0  0  0  0  0⎥\n",
       "⎢             ⎥\n",
       "⎣0  0  0  0  0⎦"
      ]
     },
     "metadata": {},
     "output_type": "display_data"
    },
    {
     "name": "stdout",
     "output_type": "stream",
     "text": [
      "5\n"
     ]
    },
    {
     "data": {
      "text/latex": [
       "$\\displaystyle \\left[\\begin{matrix}0 & 0 & 0 & 0 & 0\\\\0 & 0 & 0 & 0 & 0\\\\0 & 0 & 0 & 0 & 0\\\\0 & 0 & 0 & 0 & 0\\\\0 & 0 & 0 & 0 & 0\\end{matrix}\\right]$"
      ],
      "text/plain": [
       "⎡0  0  0  0  0⎤\n",
       "⎢             ⎥\n",
       "⎢0  0  0  0  0⎥\n",
       "⎢             ⎥\n",
       "⎢0  0  0  0  0⎥\n",
       "⎢             ⎥\n",
       "⎢0  0  0  0  0⎥\n",
       "⎢             ⎥\n",
       "⎣0  0  0  0  0⎦"
      ]
     },
     "metadata": {},
     "output_type": "display_data"
    },
    {
     "name": "stdout",
     "output_type": "stream",
     "text": [
      "6\n"
     ]
    },
    {
     "data": {
      "text/latex": [
       "$\\displaystyle \\left[\\begin{matrix}0 & 0 & 0 & 0 & 0\\\\0 & 0 & 0 & 0 & 0\\\\0 & 0 & 0 & 0 & 0\\\\0 & 0 & 0 & 0 & 0\\\\0 & 0 & 0 & 0 & 0\\end{matrix}\\right]$"
      ],
      "text/plain": [
       "⎡0  0  0  0  0⎤\n",
       "⎢             ⎥\n",
       "⎢0  0  0  0  0⎥\n",
       "⎢             ⎥\n",
       "⎢0  0  0  0  0⎥\n",
       "⎢             ⎥\n",
       "⎢0  0  0  0  0⎥\n",
       "⎢             ⎥\n",
       "⎣0  0  0  0  0⎦"
      ]
     },
     "metadata": {},
     "output_type": "display_data"
    }
   ],
   "source": [
    "# Exercise 2.1.40\n",
    "S  = Matrix([[0,1,0,0,0],[0,0,1,0,0],[0,0,0,1,0],[0,0,0,0,1],[0,0,0,0,0]])\n",
    "for i in range(2,7):\n",
    "    print(i)\n",
    "    display(S**i)"
   ]
  },
  {
   "cell_type": "code",
   "execution_count": 20,
   "metadata": {},
   "outputs": [
    {
     "data": {
      "text/latex": [
       "$\\displaystyle \\left[\\begin{matrix}- \\frac{7}{3} & 2\\\\\\frac{4}{3} & -1\\end{matrix}\\right]$"
      ],
      "text/plain": [
       "⎡-7/3  2 ⎤\n",
       "⎢        ⎥\n",
       "⎣4/3   -1⎦"
      ]
     },
     "execution_count": 20,
     "metadata": {},
     "output_type": "execute_result"
    }
   ],
   "source": [
    "# Exercises 2.2.30\n",
    "A = Matrix([[3,6],[4,7]])\n",
    "Ainv = A.row_join(eye(A.shape[0])).rref()[0][:,A.shape[0]:]\n",
    "Ainv"
   ]
  },
  {
   "cell_type": "code",
   "execution_count": 24,
   "metadata": {},
   "outputs": [
    {
     "data": {
      "text/latex": [
       "$\\displaystyle \\left[\\begin{matrix}8 & 3 & 1\\\\10 & 4 & 1\\\\\\frac{7}{2} & \\frac{3}{2} & \\frac{1}{2}\\end{matrix}\\right]$"
      ],
      "text/plain": [
       "⎡ 8    3    1 ⎤\n",
       "⎢             ⎥\n",
       "⎢10    4    1 ⎥\n",
       "⎢             ⎥\n",
       "⎣7/2  3/2  1/2⎦"
      ]
     },
     "execution_count": 24,
     "metadata": {},
     "output_type": "execute_result"
    }
   ],
   "source": [
    "# Exercises 2.2.31\n",
    "A = Matrix([[1,0,-2],[-3,1,4],[2,-3,4]])\n",
    "Ainv = A.row_join(eye(A.shape[0])).rref()[0][:,A.shape[0]:]\n",
    "Ainv"
   ]
  },
  {
   "cell_type": "code",
   "execution_count": 25,
   "metadata": {},
   "outputs": [
    {
     "data": {
      "text/latex": [
       "$\\displaystyle \\left[\\begin{matrix}0 & - \\frac{3}{5} & \\frac{7}{10}\\\\0 & \\frac{1}{5} & - \\frac{2}{5}\\\\1 & \\frac{1}{5} & \\frac{1}{10}\\end{matrix}\\right]$"
      ],
      "text/plain": [
       "⎡0  -3/5  7/10⎤\n",
       "⎢             ⎥\n",
       "⎢0  1/5   -2/5⎥\n",
       "⎢             ⎥\n",
       "⎣1  1/5   1/10⎦"
      ]
     },
     "execution_count": 25,
     "metadata": {},
     "output_type": "execute_result"
    }
   ],
   "source": [
    "# Exercises 2.2.32\n",
    "A = Matrix([[1,2,-1],[-4,-7,3],[-2,-6,4]])\n",
    "Ainv = A.row_join(eye(A.shape[0])).rref()[0][:,A.shape[0]:]\n",
    "Ainv"
   ]
  },
  {
   "cell_type": "code",
   "execution_count": 28,
   "metadata": {},
   "outputs": [
    {
     "data": {
      "text/latex": [
       "$\\displaystyle \\left[\\begin{matrix}5 & -7 & 2 & 2\\\\0 & 3 & 0 & -4\\\\-5 & -8 & 0 & 3\\\\0 & 5 & 0 & -6\\end{matrix}\\right]$"
      ],
      "text/plain": [
       "⎡5   -7  2  2 ⎤\n",
       "⎢             ⎥\n",
       "⎢0   3   0  -4⎥\n",
       "⎢             ⎥\n",
       "⎢-5  -8  0  3 ⎥\n",
       "⎢             ⎥\n",
       "⎣0   5   0  -6⎦"
      ]
     },
     "metadata": {},
     "output_type": "display_data"
    },
    {
     "data": {
      "image/png": "[encoded data removed]",
      "text/latex": [
       "$\\displaystyle 20$"
      ],
      "text/plain": [
       "20"
      ]
     },
     "metadata": {},
     "output_type": "display_data"
    }
   ],
   "source": [
    "A = Matrix([[5,-7,2,2],[0,3,0,-4], [-5,-8,0,3],[0,5,0,-6]])\n",
    "display(A)\n",
    "display(det(A))"
   ]
  },
  {
   "cell_type": "code",
   "execution_count": 33,
   "metadata": {},
   "outputs": [
    {
     "data": {
      "text/latex": [
       "$\\displaystyle \\left[\\begin{matrix}\\sqrt{2} & a & \\sqrt{2}\\\\0 & \\sqrt{2} & a\\\\0 & 0 & a^{3} - 4 a\\end{matrix}\\right]$"
      ],
      "text/plain": [
       "⎡√2  a      √2   ⎤\n",
       "⎢                ⎥\n",
       "⎢0   √2     a    ⎥\n",
       "⎢                ⎥\n",
       "⎢         3      ⎥\n",
       "⎣0   0   a  - 4⋅a⎦"
      ]
     },
     "execution_count": 33,
     "metadata": {},
     "output_type": "execute_result"
    }
   ],
   "source": [
    "a = Symbol('a')\n",
    "A = Matrix([[a,sqrt(2),0],[sqrt(2),a,sqrt(2)],[0,sqrt(2),a]])\n",
    "A\n",
    "\n",
    "solve(det(A))\n",
    "A.echelon_form()"
   ]
  },
  {
   "cell_type": "code",
   "execution_count": 59,
   "metadata": {},
   "outputs": [
    {
     "data": {
      "text/plain": [
       "'Selected number: 0'"
      ]
     },
     "metadata": {},
     "output_type": "display_data"
    },
    {
     "data": {
      "image/png": "[encoded data removed]",
      "text/latex": [
       "$\\displaystyle 0$"
      ],
      "text/plain": [
       "0"
      ]
     },
     "metadata": {},
     "output_type": "display_data"
    },
    {
     "data": {
      "text/plain": [
       "'Selected number: 3'"
      ]
     },
     "metadata": {},
     "output_type": "display_data"
    },
    {
     "data": {
      "image/png": "[encoded data removed]",
      "text/latex": [
       "$\\displaystyle -9$"
      ],
      "text/plain": [
       "-9"
      ]
     },
     "metadata": {},
     "output_type": "display_data"
    },
    {
     "data": {
      "text/plain": [
       "'Selected number: 5'"
      ]
     },
     "metadata": {},
     "output_type": "display_data"
    },
    {
     "data": {
      "image/png": "[encoded data removed]",
      "text/latex": [
       "$\\displaystyle 10$"
      ],
      "text/plain": [
       "10"
      ]
     },
     "metadata": {},
     "output_type": "display_data"
    },
    {
     "name": "stdout",
     "output_type": "stream",
     "text": [
      "Determinant 1\n"
     ]
    },
    {
     "data": {
      "text/plain": [
       "'Selected number: 3'"
      ]
     },
     "metadata": {},
     "output_type": "display_data"
    },
    {
     "data": {
      "image/png": "[encoded data removed]",
      "text/latex": [
       "$\\displaystyle -12$"
      ],
      "text/plain": [
       "-12"
      ]
     },
     "metadata": {},
     "output_type": "display_data"
    },
    {
     "data": {
      "text/plain": [
       "'Selected number: 0'"
      ]
     },
     "metadata": {},
     "output_type": "display_data"
    },
    {
     "data": {
      "image/png": "[encoded data removed]",
      "text/latex": [
       "$\\displaystyle 0$"
      ],
      "text/plain": [
       "0"
      ]
     },
     "metadata": {},
     "output_type": "display_data"
    },
    {
     "data": {
      "text/plain": [
       "'Selected number: 0'"
      ]
     },
     "metadata": {},
     "output_type": "display_data"
    },
    {
     "data": {
      "image/png": "[encoded data removed]",
      "text/latex": [
       "$\\displaystyle 0$"
      ],
      "text/plain": [
       "0"
      ]
     },
     "metadata": {},
     "output_type": "display_data"
    },
    {
     "data": {
      "text/plain": [
       "'Selected number: 0'"
      ]
     },
     "metadata": {},
     "output_type": "display_data"
    },
    {
     "data": {
      "image/png": "[encoded data removed]",
      "text/latex": [
       "$\\displaystyle 0$"
      ],
      "text/plain": [
       "0"
      ]
     },
     "metadata": {},
     "output_type": "display_data"
    },
    {
     "data": {
      "text/plain": [
       "'Selected number: 0'"
      ]
     },
     "metadata": {},
     "output_type": "display_data"
    },
    {
     "data": {
      "image/png": "[encoded data removed]",
      "text/latex": [
       "$\\displaystyle 0$"
      ],
      "text/plain": [
       "0"
      ]
     },
     "metadata": {},
     "output_type": "display_data"
    },
    {
     "name": "stdout",
     "output_type": "stream",
     "text": [
      "Determinant -12\n"
     ]
    }
   ],
   "source": [
    "A = Matrix([\n",
    "    [3,0,4],\n",
    "    [2,3,2],\n",
    "    [0,5,-1]\n",
    "])\n",
    "\n",
    "C = Matrix([\n",
    "    [3,-7,8,9,-6], \n",
    "    [0,2,-5,7,3],\n",
    "    [0,0,1,5,0],\n",
    "    [0,0,2,4,-1],\n",
    "    [0,0,0,-2,0]\n",
    "])\n",
    "\n",
    "find_det_co(A)\n",
    "find_det_co(C,0)\n"
   ]
  },
  {
   "cell_type": "code",
   "execution_count": 61,
   "metadata": {},
   "outputs": [
    {
     "data": {
      "text/plain": [
       "'Selected number: 0'"
      ]
     },
     "metadata": {},
     "output_type": "display_data"
    },
    {
     "data": {
      "image/png": "[encoded data removed]",
      "text/latex": [
       "$\\displaystyle 0$"
      ],
      "text/plain": [
       "0"
      ]
     },
     "metadata": {},
     "output_type": "display_data"
    },
    {
     "data": {
      "text/plain": [
       "'Selected number: 4'"
      ]
     },
     "metadata": {},
     "output_type": "display_data"
    },
    {
     "data": {
      "image/png": "[encoded data removed]",
      "text/latex": [
       "$\\displaystyle -4$"
      ],
      "text/plain": [
       "-4"
      ]
     },
     "metadata": {},
     "output_type": "display_data"
    },
    {
     "data": {
      "text/plain": [
       "'Selected number: 2'"
      ]
     },
     "metadata": {},
     "output_type": "display_data"
    },
    {
     "data": {
      "image/png": "[encoded data removed]",
      "text/latex": [
       "$\\displaystyle 6$"
      ],
      "text/plain": [
       "6"
      ]
     },
     "metadata": {},
     "output_type": "display_data"
    },
    {
     "name": "stdout",
     "output_type": "stream",
     "text": [
      "Determinant 2\n"
     ]
    }
   ],
   "source": [
    "B = Matrix([\n",
    "    [0,5,1],\n",
    "    [4,-3,0],\n",
    "    [2,4,1]\n",
    "])\n",
    "find_det_co(B,0)"
   ]
  }
 ],
 "metadata": {
  "kernelspec": {
   "display_name": "Python 3",
   "language": "python",
   "name": "python3"
  },
  "language_info": {
   "codemirror_mode": {
    "name": "ipython",
    "version": 3
   },
   "file_extension": ".py",
   "mimetype": "text/x-python",
   "name": "python",
   "nbconvert_exporter": "python",
   "pygments_lexer": "ipython3",
   "version": "3.8.3"
  }
 },
 "nbformat": 4,
 "nbformat_minor": 4
}
