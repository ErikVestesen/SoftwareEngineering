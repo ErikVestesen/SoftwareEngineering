{
 "cells": [
  {
   "cell_type": "code",
   "execution_count": 1,
   "metadata": {},
   "outputs": [],
   "source": [
    "#Assignment 5, re exam 2019\n",
    "#import numpy as np\n",
    "from sympy import *\n",
    "from IPython.display import display,HTML, Math\n",
    "import numpy as np\n",
    "init_printing()\n",
    "import math\n"
   ]
  },
  {
   "cell_type": "code",
   "execution_count": 5,
   "metadata": {},
   "outputs": [
    {
     "data": {
      "text/latex": [
       "$\\displaystyle \\left[\\begin{matrix}2 & 2 & 1 & 1\\\\0 & -6 & 6 & 0\\\\0 & 0 & 0 & -6\\end{matrix}\\right]$"
      ],
      "text/plain": [
       "⎡2  2   1  1 ⎤\n",
       "⎢            ⎥\n",
       "⎢0  -6  6  0 ⎥\n",
       "⎢            ⎥\n",
       "⎣0  0   0  -6⎦"
      ]
     },
     "execution_count": 5,
     "metadata": {},
     "output_type": "execute_result"
    }
   ],
   "source": [
    "A = Matrix([\n",
    "    [2,2,1],\n",
    "    [2,-1,4],\n",
    "    [0,1,-1]\n",
    "])\n",
    "\n",
    "b = Matrix([1,1,1])\n",
    "\n",
    "A.row_join(b).echelon_form()\n"
   ]
  }
 ],
 "metadata": {
  "kernelspec": {
   "display_name": "Python 3",
   "language": "python",
   "name": "python3"
  },
  "language_info": {
   "codemirror_mode": {
    "name": "ipython",
    "version": 3
   },
   "file_extension": ".py",
   "mimetype": "text/x-python",
   "name": "python",
   "nbconvert_exporter": "python",
   "pygments_lexer": "ipython3",
   "version": "3.8.3"
  }
 },
 "nbformat": 4,
 "nbformat_minor": 4
}
