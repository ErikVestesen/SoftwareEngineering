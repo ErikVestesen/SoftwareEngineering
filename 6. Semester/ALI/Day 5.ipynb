{
 "cells": [
  {
   "cell_type": "code",
   "execution_count": 1,
   "metadata": {},
   "outputs": [],
   "source": [
    "#import numpy as np\n",
    "from sympy import *\n",
    "from IPython.display import display\n",
    "import numpy as np\n",
    "init_printing()"
   ]
  },
  {
   "cell_type": "code",
   "execution_count": null,
   "metadata": {},
   "outputs": [],
   "source": [
    "# 2019 re-exam assignment 2 B"
   ]
  },
  {
   "cell_type": "code",
   "execution_count": 25,
   "metadata": {},
   "outputs": [
    {
     "data": {
      "text/latex": [
       "$\\displaystyle \\left[\\begin{matrix}3 & 2\\\\- \\frac{5}{2} & -1\\end{matrix}\\right]$"
      ],
      "text/plain": [
       "⎡ 3    2 ⎤\n",
       "⎢        ⎥\n",
       "⎣-5/2  -1⎦"
      ]
     },
     "execution_count": 25,
     "metadata": {},
     "output_type": "execute_result"
    }
   ],
   "source": [
    "# Find solutions to all of the following matrix equations if they exist\n",
    "# (1) Ax = B\n",
    "A = Matrix([\n",
    "    [2,2],\n",
    "    [3,4]\n",
    "])\n",
    "B = Matrix([\n",
    "    [1,2],\n",
    "    [-1,2]\n",
    "])\n",
    "\n",
    "C = Matrix([\n",
    "    [4,-2],\n",
    "    [1,0]\n",
    "])\n",
    "\n",
    "Ainv = A ** -1\n",
    "Binv = B ** -1\n",
    "Cinv = C ** -1\n",
    "Ainv * B"
   ]
  },
  {
   "cell_type": "code",
   "execution_count": 7,
   "metadata": {},
   "outputs": [
    {
     "data": {
      "text/latex": [
       "$\\displaystyle \\left[\\begin{matrix}- \\frac{17}{2} & -5\\\\7 & 4\\end{matrix}\\right]$"
      ],
      "text/plain": [
       "⎡-17/2  -5⎤\n",
       "⎢         ⎥\n",
       "⎣  7    4 ⎦"
      ]
     },
     "execution_count": 7,
     "metadata": {},
     "output_type": "execute_result"
    }
   ],
   "source": [
    "# (2) A ** 2 * X + B = 0\n",
    "A**-2*-B"
   ]
  },
  {
   "cell_type": "code",
   "execution_count": 11,
   "metadata": {},
   "outputs": [
    {
     "data": {
      "text/latex": [
       "$\\displaystyle \\left[\\begin{matrix}\\frac{5}{2} & - \\frac{9}{2}\\\\- \\frac{7}{4} & \\frac{13}{4}\\end{matrix}\\right]$"
      ],
      "text/plain": [
       "⎡5/2   -9/2⎤\n",
       "⎢          ⎥\n",
       "⎣-7/4  13/4⎦"
      ]
     },
     "execution_count": 11,
     "metadata": {},
     "output_type": "execute_result"
    }
   ],
   "source": [
    "# (3) AXB = C\n",
    "Ainv * C * Binv"
   ]
  },
  {
   "cell_type": "code",
   "execution_count": 27,
   "metadata": {},
   "outputs": [
    {
     "data": {
      "text/latex": [
       "$\\displaystyle \\left[\\begin{matrix}2 & - \\frac{6}{5}\\\\- \\frac{1}{2} & \\frac{2}{5}\\end{matrix}\\right]$"
      ],
      "text/plain": [
       "⎡ 2    -6/5⎤\n",
       "⎢          ⎥\n",
       "⎣-1/2  2/5 ⎦"
      ]
     },
     "execution_count": 27,
     "metadata": {},
     "output_type": "execute_result"
    }
   ],
   "source": [
    "# (4) AX+BX = C\n",
    "(A+B)**-1*C"
   ]
  },
  {
   "cell_type": "code",
   "execution_count": 26,
   "metadata": {},
   "outputs": [
    {
     "data": {
      "text/latex": [
       "$\\displaystyle \\left[\\begin{matrix}\\frac{1}{2} & 0\\\\- \\frac{1}{2} & \\frac{1}{2}\\end{matrix}\\right]$"
      ],
      "text/plain": [
       "⎡1/2    0 ⎤\n",
       "⎢         ⎥\n",
       "⎣-1/2  1/2⎦"
      ]
     },
     "execution_count": 26,
     "metadata": {},
     "output_type": "execute_result"
    }
   ],
   "source": [
    "# (5) ACX = 0\n",
    "Ainv * Cinv"
   ]
  },
  {
   "cell_type": "code",
   "execution_count": 32,
   "metadata": {},
   "outputs": [],
   "source": [
    "def find_det_co_col(A, column = 1):\n",
    "    for i in range(0,A.shape[0]):\n",
    "        display('Selected number: {}'.format( A[i,column]))\n",
    "        display(A[i,column]*A.cofactor(i,column))\n",
    "    print('Determinant {}'.format(det(A)))\n",
    "def find_det_co_row(A, row = 1):\n",
    "    for i in range(0,A.shape[0]):\n",
    "        display('Selected number: {}'.format( A[row,i]))\n",
    "        display(A[row,i]*A.cofactor(row,i))\n",
    "    print('Determinant {}'.format(det(A)))"
   ]
  },
  {
   "cell_type": "code",
   "execution_count": 46,
   "metadata": {},
   "outputs": [],
   "source": [
    "# Assignment 4\n",
    "a = Symbol('a')\n",
    "b = Symbol('b')\n",
    "\n",
    "A = Matrix([\n",
    "    [-6,a,-1,3],\n",
    "    [2,0,3,0],\n",
    "    [4,5,6,0],\n",
    "    [8,b,1,-4]\n",
    "])\n"
   ]
  },
  {
   "cell_type": "code",
   "execution_count": 39,
   "metadata": {},
   "outputs": [
    {
     "data": {
      "text/latex": [
       "$\\displaystyle \\left[\\begin{matrix}1 & 4 & 0 & 2 & -1\\\\3 & 12 & 1 & 5 & 5\\\\2 & 8 & 1 & 3 & 2\\\\5 & 20 & 2 & 8 & 8\\end{matrix}\\right]$"
      ],
      "text/plain": [
       "⎡1  4   0  2  -1⎤\n",
       "⎢               ⎥\n",
       "⎢3  12  1  5  5 ⎥\n",
       "⎢               ⎥\n",
       "⎢2  8   1  3  2 ⎥\n",
       "⎢               ⎥\n",
       "⎣5  20  2  8  8 ⎦"
      ]
     },
     "metadata": {},
     "output_type": "display_data"
    },
    {
     "data": {
      "text/latex": [
       "$\\displaystyle \\left( \\left[\\begin{matrix}1 & 4 & 0 & 2 & 0\\\\0 & 0 & 1 & -1 & 0\\\\0 & 0 & 0 & 0 & 1\\\\0 & 0 & 0 & 0 & 0\\end{matrix}\\right], \\  \\left( 0, \\  2, \\  4\\right)\\right)$"
      ],
      "text/plain": [
       "⎛⎡1  4  0  2   0⎤           ⎞\n",
       "⎜⎢              ⎥           ⎟\n",
       "⎜⎢0  0  1  -1  0⎥           ⎟\n",
       "⎜⎢              ⎥, (0, 2, 4)⎟\n",
       "⎜⎢0  0  0  0   1⎥           ⎟\n",
       "⎜⎢              ⎥           ⎟\n",
       "⎝⎣0  0  0  0   0⎦           ⎠"
      ]
     },
     "metadata": {},
     "output_type": "display_data"
    },
    {
     "data": {
      "text/latex": [
       "$\\displaystyle \\left[ \\left[\\begin{matrix}-4\\\\1\\\\0\\\\0\\\\0\\end{matrix}\\right], \\  \\left[\\begin{matrix}-2\\\\0\\\\1\\\\1\\\\0\\end{matrix}\\right]\\right]$"
      ],
      "text/plain": [
       "⎡⎡-4⎤  ⎡-2⎤⎤\n",
       "⎢⎢  ⎥  ⎢  ⎥⎥\n",
       "⎢⎢1 ⎥  ⎢0 ⎥⎥\n",
       "⎢⎢  ⎥  ⎢  ⎥⎥\n",
       "⎢⎢0 ⎥, ⎢1 ⎥⎥\n",
       "⎢⎢  ⎥  ⎢  ⎥⎥\n",
       "⎢⎢0 ⎥  ⎢1 ⎥⎥\n",
       "⎢⎢  ⎥  ⎢  ⎥⎥\n",
       "⎣⎣0 ⎦  ⎣0 ⎦⎦"
      ]
     },
     "metadata": {},
     "output_type": "display_data"
    }
   ],
   "source": [
    "A = Matrix([\n",
    "    [1,4,0,2,-1],\n",
    "    [3,12,1,5,5],\n",
    "    [2,8,1,3,2],\n",
    "    [5,20,2,8,8]\n",
    "])\n",
    "display(A)\n",
    "display(A.rref())\n",
    "display(A.nullspace())"
   ]
  },
  {
   "cell_type": "code",
   "execution_count": 40,
   "metadata": {},
   "outputs": [
    {
     "data": {
      "text/latex": [
       "$\\displaystyle \\left[ \\left[\\begin{matrix}1\\\\3\\\\2\\\\5\\end{matrix}\\right], \\  \\left[\\begin{matrix}0\\\\1\\\\1\\\\2\\end{matrix}\\right], \\  \\left[\\begin{matrix}-1\\\\5\\\\2\\\\8\\end{matrix}\\right]\\right]$"
      ],
      "text/plain": [
       "⎡⎡1⎤  ⎡0⎤  ⎡-1⎤⎤\n",
       "⎢⎢ ⎥  ⎢ ⎥  ⎢  ⎥⎥\n",
       "⎢⎢3⎥  ⎢1⎥  ⎢5 ⎥⎥\n",
       "⎢⎢ ⎥, ⎢ ⎥, ⎢  ⎥⎥\n",
       "⎢⎢2⎥  ⎢1⎥  ⎢2 ⎥⎥\n",
       "⎢⎢ ⎥  ⎢ ⎥  ⎢  ⎥⎥\n",
       "⎣⎣5⎦  ⎣2⎦  ⎣8 ⎦⎦"
      ]
     },
     "execution_count": 40,
     "metadata": {},
     "output_type": "execute_result"
    }
   ],
   "source": [
    "A.columnspace()"
   ]
  },
  {
   "cell_type": "code",
   "execution_count": 45,
   "metadata": {},
   "outputs": [
    {
     "data": {
      "text/latex": [
       "$\\displaystyle \\left[\\begin{matrix}1 & -1 & 3 & 5\\\\-1 & -3 & 1 & -1\\\\2 & 6 & -2 & 2\\end{matrix}\\right]$"
      ],
      "text/plain": [
       "⎡1   -1  3   5 ⎤\n",
       "⎢              ⎥\n",
       "⎢-1  -3  1   -1⎥\n",
       "⎢              ⎥\n",
       "⎣2   6   -2  2 ⎦"
      ]
     },
     "metadata": {},
     "output_type": "display_data"
    },
    {
     "data": {
      "text/latex": [
       "$\\displaystyle \\left[ \\left[\\begin{matrix}-2\\\\1\\\\1\\\\0\\end{matrix}\\right], \\  \\left[\\begin{matrix}-4\\\\1\\\\0\\\\1\\end{matrix}\\right]\\right]$"
      ],
      "text/plain": [
       "⎡⎡-2⎤  ⎡-4⎤⎤\n",
       "⎢⎢  ⎥  ⎢  ⎥⎥\n",
       "⎢⎢1 ⎥  ⎢1 ⎥⎥\n",
       "⎢⎢  ⎥, ⎢  ⎥⎥\n",
       "⎢⎢1 ⎥  ⎢0 ⎥⎥\n",
       "⎢⎢  ⎥  ⎢  ⎥⎥\n",
       "⎣⎣0 ⎦  ⎣1 ⎦⎦"
      ]
     },
     "metadata": {},
     "output_type": "display_data"
    },
    {
     "data": {
      "text/latex": [
       "$\\displaystyle \\left[ \\left[\\begin{matrix}1\\\\-1\\\\2\\end{matrix}\\right], \\  \\left[\\begin{matrix}-1\\\\-3\\\\6\\end{matrix}\\right]\\right]$"
      ],
      "text/plain": [
       "⎡⎡1 ⎤  ⎡-1⎤⎤\n",
       "⎢⎢  ⎥  ⎢  ⎥⎥\n",
       "⎢⎢-1⎥, ⎢-3⎥⎥\n",
       "⎢⎢  ⎥  ⎢  ⎥⎥\n",
       "⎣⎣2 ⎦  ⎣6 ⎦⎦"
      ]
     },
     "metadata": {},
     "output_type": "display_data"
    },
    {
     "data": {
      "text/latex": [
       "$\\displaystyle \\left( \\left[\\begin{matrix}1 & 0 & 2 & 4\\\\0 & 1 & -1 & -1\\\\0 & 0 & 0 & 0\\end{matrix}\\right], \\  \\left( 0, \\  1\\right)\\right)$"
      ],
      "text/plain": [
       "⎛⎡1  0  2   4 ⎤        ⎞\n",
       "⎜⎢            ⎥        ⎟\n",
       "⎜⎢0  1  -1  -1⎥, (0, 1)⎟\n",
       "⎜⎢            ⎥        ⎟\n",
       "⎝⎣0  0  0   0 ⎦        ⎠"
      ]
     },
     "execution_count": 45,
     "metadata": {},
     "output_type": "execute_result"
    }
   ],
   "source": [
    "# 2019 re exam assignment 3\n",
    "A = Matrix([\n",
    "    [1,-1,3,5],\n",
    "    [-1,-3,1,-1],\n",
    "    [2,6,-2,2]\n",
    "])\n",
    "display(A)\n",
    "\n",
    "# (a) nullspace\n",
    "display(A.nullspace())\n",
    "display(A.columnspace())\n",
    "\n",
    "# (b)\n",
    "A.rref()"
   ]
  },
  {
   "cell_type": "code",
   "execution_count": 47,
   "metadata": {},
   "outputs": [
    {
     "data": {
      "text/latex": [
       "$\\displaystyle \\left( \\left[\\begin{matrix}1 & 0 & -2 & 0\\\\0 & 1 & 1 & 0\\\\0 & 0 & 0 & 1\\end{matrix}\\right], \\  \\left( 0, \\  1, \\  3\\right)\\right)$"
      ],
      "text/plain": [
       "⎛⎡1  0  -2  0⎤           ⎞\n",
       "⎜⎢           ⎥           ⎟\n",
       "⎜⎢0  1  1   0⎥, (0, 1, 3)⎟\n",
       "⎜⎢           ⎥           ⎟\n",
       "⎝⎣0  0  0   1⎦           ⎠"
      ]
     },
     "metadata": {},
     "output_type": "display_data"
    },
    {
     "data": {
      "text/latex": [
       "$\\displaystyle \\left[ \\left[\\begin{matrix}2\\\\-1\\\\1\\\\0\\end{matrix}\\right]\\right]$"
      ],
      "text/plain": [
       "⎡⎡2 ⎤⎤\n",
       "⎢⎢  ⎥⎥\n",
       "⎢⎢-1⎥⎥\n",
       "⎢⎢  ⎥⎥\n",
       "⎢⎢1 ⎥⎥\n",
       "⎢⎢  ⎥⎥\n",
       "⎣⎣0 ⎦⎦"
      ]
     },
     "metadata": {},
     "output_type": "display_data"
    }
   ],
   "source": [
    "# 4.3.9\n",
    "\n",
    "A = Matrix([\n",
    "    [1,0,-2,-2],\n",
    "    [0,1,1,4],\n",
    "    [3,-1,-7,3]\n",
    "])\n",
    "\n",
    "display(A.rref())\n",
    "display(A.nullspace())"
   ]
  },
  {
   "cell_type": "code",
   "execution_count": 49,
   "metadata": {},
   "outputs": [
    {
     "data": {
      "text/latex": [
       "$\\displaystyle \\left( \\left[\\begin{matrix}1 & 0 & 0 & 2 & 3\\\\0 & 1 & 0 & -1 & -2\\\\0 & 0 & 1 & 0 & -2\\end{matrix}\\right], \\  \\left( 0, \\  1, \\  2\\right)\\right)$"
      ],
      "text/plain": [
       "⎛⎡1  0  0  2   3 ⎤           ⎞\n",
       "⎜⎢               ⎥           ⎟\n",
       "⎜⎢0  1  0  -1  -2⎥, (0, 1, 2)⎟\n",
       "⎜⎢               ⎥           ⎟\n",
       "⎝⎣0  0  1  0   -2⎦           ⎠"
      ]
     },
     "metadata": {},
     "output_type": "display_data"
    },
    {
     "data": {
      "text/latex": [
       "$\\displaystyle \\left[ \\left[\\begin{matrix}-2\\\\1\\\\0\\\\1\\\\0\\end{matrix}\\right], \\  \\left[\\begin{matrix}-3\\\\2\\\\2\\\\0\\\\1\\end{matrix}\\right]\\right]$"
      ],
      "text/plain": [
       "⎡⎡-2⎤  ⎡-3⎤⎤\n",
       "⎢⎢  ⎥  ⎢  ⎥⎥\n",
       "⎢⎢1 ⎥  ⎢2 ⎥⎥\n",
       "⎢⎢  ⎥  ⎢  ⎥⎥\n",
       "⎢⎢0 ⎥, ⎢2 ⎥⎥\n",
       "⎢⎢  ⎥  ⎢  ⎥⎥\n",
       "⎢⎢1 ⎥  ⎢0 ⎥⎥\n",
       "⎢⎢  ⎥  ⎢  ⎥⎥\n",
       "⎣⎣0 ⎦  ⎣1 ⎦⎦"
      ]
     },
     "metadata": {},
     "output_type": "display_data"
    }
   ],
   "source": [
    "# 4.3.10\n",
    "\n",
    "A = Matrix([\n",
    "    [1,1,-2,1,5],\n",
    "    [0,1,0,-1,-2],\n",
    "    [0,0,-8,0,16]\n",
    "])\n",
    "\n",
    "display(A.rref())\n",
    "display(A.nullspace())"
   ]
  },
  {
   "cell_type": "code",
   "execution_count": 52,
   "metadata": {},
   "outputs": [
    {
     "data": {
      "text/latex": [
       "$\\displaystyle \\left[ \\left[\\begin{matrix}-6\\\\- \\frac{5}{2}\\\\1\\\\0\\end{matrix}\\right], \\  \\left[\\begin{matrix}-5\\\\- \\frac{3}{2}\\\\0\\\\1\\end{matrix}\\right]\\right]$"
      ],
      "text/plain": [
       "⎡⎡ -6 ⎤  ⎡ -5 ⎤⎤\n",
       "⎢⎢    ⎥  ⎢    ⎥⎥\n",
       "⎢⎢-5/2⎥  ⎢-3/2⎥⎥\n",
       "⎢⎢    ⎥, ⎢    ⎥⎥\n",
       "⎢⎢ 1  ⎥  ⎢ 0  ⎥⎥\n",
       "⎢⎢    ⎥  ⎢    ⎥⎥\n",
       "⎣⎣ 0  ⎦  ⎣ 1  ⎦⎦"
      ]
     },
     "execution_count": 52,
     "metadata": {},
     "output_type": "execute_result"
    }
   ],
   "source": [
    "A = Matrix([\n",
    "    [-2,4,-2,-4],\n",
    "    [2,-6,-3,1],\n",
    "    [-3,8,2,-3]\n",
    "])\n",
    "\n",
    "A.columnspace()\n",
    "A.nullspace()"
   ]
  },
  {
   "cell_type": "code",
   "execution_count": 53,
   "metadata": {},
   "outputs": [
    {
     "data": {
      "text/latex": [
       "$\\displaystyle \\left( \\left[\\begin{matrix}1 & 0 & 0 & 0 & 0\\\\0 & 1 & 0 & 2 & 0\\\\0 & 0 & 1 & -1 & 0\\\\0 & 0 & 0 & 0 & 1\\\\0 & 0 & 0 & 0 & 0\\end{matrix}\\right], \\  \\left( 0, \\  1, \\  2, \\  4\\right)\\right)$"
      ],
      "text/plain": [
       "⎛⎡1  0  0  0   0⎤              ⎞\n",
       "⎜⎢              ⎥              ⎟\n",
       "⎜⎢0  1  0  2   0⎥              ⎟\n",
       "⎜⎢              ⎥              ⎟\n",
       "⎜⎢0  0  1  -1  0⎥, (0, 1, 2, 4)⎟\n",
       "⎜⎢              ⎥              ⎟\n",
       "⎜⎢0  0  0  0   1⎥              ⎟\n",
       "⎜⎢              ⎥              ⎟\n",
       "⎝⎣0  0  0  0   0⎦              ⎠"
      ]
     },
     "metadata": {},
     "output_type": "display_data"
    }
   ],
   "source": [
    "A = Matrix([\n",
    "    [-3,3,0,6,-6],\n",
    "    [2,0,2,-2,3],\n",
    "    [6,-9,-4,-14,0],\n",
    "    [0,0,0,0,-1],\n",
    "    [-7,6,-1,13,0]\n",
    "])\n",
    "\n",
    "display(A.rref())"
   ]
  },
  {
   "cell_type": "code",
   "execution_count": 62,
   "metadata": {},
   "outputs": [
    {
     "data": {
      "text/latex": [
       "$\\displaystyle \\left[\\begin{matrix}1 & 0 & 3\\\\2 & 2 & 4\\\\0 & -1 & 1\\\\-1 & 1 & -4\\end{matrix}\\right]$"
      ],
      "text/plain": [
       "⎡1   0   3 ⎤\n",
       "⎢          ⎥\n",
       "⎢2   2   4 ⎥\n",
       "⎢          ⎥\n",
       "⎢0   -1  1 ⎥\n",
       "⎢          ⎥\n",
       "⎣-1  1   -4⎦"
      ]
     },
     "metadata": {},
     "output_type": "display_data"
    },
    {
     "data": {
      "text/latex": [
       "$\\displaystyle \\left[\\begin{matrix}-2 & 2 & -1\\\\-2 & 3 & 4\\\\-1 & 2 & 6\\\\3 & -6 & -2\\end{matrix}\\right]$"
      ],
      "text/plain": [
       "⎡-2  2   -1⎤\n",
       "⎢          ⎥\n",
       "⎢-2  3   4 ⎥\n",
       "⎢          ⎥\n",
       "⎢-1  2   6 ⎥\n",
       "⎢          ⎥\n",
       "⎣3   -6  -2⎦"
      ]
     },
     "metadata": {},
     "output_type": "display_data"
    },
    {
     "data": {
      "text/latex": [
       "$\\displaystyle \\left[ \\left[\\begin{matrix}1\\\\2\\\\0\\\\-1\\end{matrix}\\right], \\  \\left[\\begin{matrix}0\\\\2\\\\-1\\\\1\\end{matrix}\\right]\\right]$"
      ],
      "text/plain": [
       "⎡⎡1 ⎤  ⎡0 ⎤⎤\n",
       "⎢⎢  ⎥  ⎢  ⎥⎥\n",
       "⎢⎢2 ⎥  ⎢2 ⎥⎥\n",
       "⎢⎢  ⎥, ⎢  ⎥⎥\n",
       "⎢⎢0 ⎥  ⎢-1⎥⎥\n",
       "⎢⎢  ⎥  ⎢  ⎥⎥\n",
       "⎣⎣-1⎦  ⎣1 ⎦⎦"
      ]
     },
     "metadata": {},
     "output_type": "display_data"
    },
    {
     "data": {
      "text/latex": [
       "$\\displaystyle \\left[ \\left[\\begin{matrix}-2\\\\-2\\\\-1\\\\3\\end{matrix}\\right], \\  \\left[\\begin{matrix}2\\\\3\\\\2\\\\-6\\end{matrix}\\right], \\  \\left[\\begin{matrix}-1\\\\4\\\\6\\\\-2\\end{matrix}\\right]\\right]$"
      ],
      "text/plain": [
       "⎡⎡-2⎤  ⎡2 ⎤  ⎡-1⎤⎤\n",
       "⎢⎢  ⎥  ⎢  ⎥  ⎢  ⎥⎥\n",
       "⎢⎢-2⎥  ⎢3 ⎥  ⎢4 ⎥⎥\n",
       "⎢⎢  ⎥, ⎢  ⎥, ⎢  ⎥⎥\n",
       "⎢⎢-1⎥  ⎢2 ⎥  ⎢6 ⎥⎥\n",
       "⎢⎢  ⎥  ⎢  ⎥  ⎢  ⎥⎥\n",
       "⎣⎣3 ⎦  ⎣-6⎦  ⎣-2⎦⎦"
      ]
     },
     "metadata": {},
     "output_type": "display_data"
    },
    {
     "data": {
      "text/latex": [
       "$\\displaystyle \\left[\\begin{matrix}1 & 0 & 3 & -2 & 2 & -1\\\\2 & 2 & 4 & -2 & 3 & 4\\\\0 & -1 & 1 & -1 & 2 & 6\\\\-1 & 1 & -4 & 3 & -6 & -2\\end{matrix}\\right]$"
      ],
      "text/plain": [
       "⎡1   0   3   -2  2   -1⎤\n",
       "⎢                      ⎥\n",
       "⎢2   2   4   -2  3   4 ⎥\n",
       "⎢                      ⎥\n",
       "⎢0   -1  1   -1  2   6 ⎥\n",
       "⎢                      ⎥\n",
       "⎣-1  1   -4  3   -6  -2⎦"
      ]
     },
     "metadata": {},
     "output_type": "display_data"
    },
    {
     "data": {
      "text/latex": [
       "$\\displaystyle \\left( \\left[\\begin{matrix}1 & 0 & 3 & -2 & 0 & 0\\\\0 & 1 & -1 & 1 & 0 & 0\\\\0 & 0 & 0 & 0 & 1 & 0\\\\0 & 0 & 0 & 0 & 0 & 1\\end{matrix}\\right], \\  \\left( 0, \\  1, \\  4, \\  5\\right)\\right)$"
      ],
      "text/plain": [
       "⎛⎡1  0  3   -2  0  0⎤              ⎞\n",
       "⎜⎢                  ⎥              ⎟\n",
       "⎜⎢0  1  -1  1   0  0⎥              ⎟\n",
       "⎜⎢                  ⎥, (0, 1, 4, 5)⎟\n",
       "⎜⎢0  0  0   0   1  0⎥              ⎟\n",
       "⎜⎢                  ⎥              ⎟\n",
       "⎝⎣0  0  0   0   0  1⎦              ⎠"
      ]
     },
     "metadata": {},
     "output_type": "display_data"
    },
    {
     "data": {
      "text/latex": [
       "$\\displaystyle \\left[ \\left[\\begin{matrix}1\\\\2\\\\0\\\\-1\\end{matrix}\\right], \\  \\left[\\begin{matrix}0\\\\2\\\\-1\\\\1\\end{matrix}\\right], \\  \\left[\\begin{matrix}2\\\\3\\\\2\\\\-6\\end{matrix}\\right], \\  \\left[\\begin{matrix}-1\\\\4\\\\6\\\\-2\\end{matrix}\\right]\\right]$"
      ],
      "text/plain": [
       "⎡⎡1 ⎤  ⎡0 ⎤  ⎡2 ⎤  ⎡-1⎤⎤\n",
       "⎢⎢  ⎥  ⎢  ⎥  ⎢  ⎥  ⎢  ⎥⎥\n",
       "⎢⎢2 ⎥  ⎢2 ⎥  ⎢3 ⎥  ⎢4 ⎥⎥\n",
       "⎢⎢  ⎥, ⎢  ⎥, ⎢  ⎥, ⎢  ⎥⎥\n",
       "⎢⎢0 ⎥  ⎢-1⎥  ⎢2 ⎥  ⎢6 ⎥⎥\n",
       "⎢⎢  ⎥  ⎢  ⎥  ⎢  ⎥  ⎢  ⎥⎥\n",
       "⎣⎣-1⎦  ⎣1 ⎦  ⎣-6⎦  ⎣-2⎦⎦"
      ]
     },
     "metadata": {},
     "output_type": "display_data"
    }
   ],
   "source": [
    "# 4.3.36\n",
    "H = Matrix([\n",
    "    [1,0,3],\n",
    "    [2,2,4],\n",
    "    [0,-1,1],\n",
    "    [-1,1,-4]\n",
    "])\n",
    "\n",
    "K = Matrix([\n",
    "    [-2,2,-1],\n",
    "    [-2,3,4],\n",
    "    [-1,2,6],\n",
    "    [3,-6,-2]\n",
    "])\n",
    "\n",
    "display(H)\n",
    "display(K)\n",
    "\n",
    "display(H.columnspace())\n",
    "display(K.columnspace())\n",
    "HK = H.row_join(K)\n",
    "display(HK)\n",
    "display(HK.rref())\n",
    "display(HK.columnspace())"
   ]
  },
  {
   "cell_type": "code",
   "execution_count": 64,
   "metadata": {},
   "outputs": [
    {
     "data": {
      "text/latex": [
       "$\\displaystyle \\left[ \\left[\\begin{matrix}3\\\\0\\\\-7\\\\-3\\end{matrix}\\right], \\  \\left[\\begin{matrix}0\\\\-1\\\\6\\\\0\\end{matrix}\\right], \\  \\left[\\begin{matrix}-1\\\\-3\\\\5\\\\1\\end{matrix}\\right]\\right]$"
      ],
      "text/plain": [
       "⎡⎡3 ⎤  ⎡0 ⎤  ⎡-1⎤⎤\n",
       "⎢⎢  ⎥  ⎢  ⎥  ⎢  ⎥⎥\n",
       "⎢⎢0 ⎥  ⎢-1⎥  ⎢-3⎥⎥\n",
       "⎢⎢  ⎥, ⎢  ⎥, ⎢  ⎥⎥\n",
       "⎢⎢-7⎥  ⎢6 ⎥  ⎢5 ⎥⎥\n",
       "⎢⎢  ⎥  ⎢  ⎥  ⎢  ⎥⎥\n",
       "⎣⎣-3⎦  ⎣0 ⎦  ⎣1 ⎦⎦"
      ]
     },
     "execution_count": 64,
     "metadata": {},
     "output_type": "execute_result"
    }
   ],
   "source": [
    "A = Matrix([\n",
    "    [3,0,-1],\n",
    "    [0,-1,-3],\n",
    "    [-7,6,5],\n",
    "    [-3,0,1]\n",
    "])\n",
    "\n",
    "A.columnspace()"
   ]
  },
  {
   "cell_type": "code",
   "execution_count": 67,
   "metadata": {},
   "outputs": [
    {
     "data": {
      "text/latex": [
       "$\\displaystyle \\left( \\left[\\begin{matrix}1 & 0 & 1 & 0\\\\0 & 1 & -1 & 0\\\\0 & 0 & 0 & 1\\end{matrix}\\right], \\  \\left( 0, \\  1, \\  3\\right)\\right)$"
      ],
      "text/plain": [
       "⎛⎡1  0  1   0⎤           ⎞\n",
       "⎜⎢           ⎥           ⎟\n",
       "⎜⎢0  1  -1  0⎥, (0, 1, 3)⎟\n",
       "⎜⎢           ⎥           ⎟\n",
       "⎝⎣0  0  0   1⎦           ⎠"
      ]
     },
     "execution_count": 67,
     "metadata": {},
     "output_type": "execute_result"
    }
   ],
   "source": [
    "# 4.5.11\n",
    "A = Matrix([\n",
    "    [1,3,-2,5],\n",
    "    [0,1,-1,2],\n",
    "    [2,1,1,2]\n",
    "])\n",
    "\n",
    "A.rref()\n"
   ]
  },
  {
   "cell_type": "code",
   "execution_count": 90,
   "metadata": {},
   "outputs": [
    {
     "name": "stdout",
     "output_type": "stream",
     "text": [
      "A\n"
     ]
    },
    {
     "data": {
      "text/latex": [
       "$\\displaystyle \\left[\\begin{matrix}7 & -9 & -4 & 5 & 3 & -3 & -7\\\\-4 & 6 & 7 & -2 & -6 & -5 & 5\\\\5 & -7 & -6 & 5 & -6 & 2 & 8\\\\-3 & 5 & 8 & -1 & -7 & -4 & 8\\\\6 & -8 & -5 & 4 & 4 & 9 & 3\\end{matrix}\\right]$"
      ],
      "text/plain": [
       "⎡7   -9  -4  5   3   -3  -7⎤\n",
       "⎢                          ⎥\n",
       "⎢-4  6   7   -2  -6  -5  5 ⎥\n",
       "⎢                          ⎥\n",
       "⎢5   -7  -6  5   -6  2   8 ⎥\n",
       "⎢                          ⎥\n",
       "⎢-3  5   8   -1  -7  -4  8 ⎥\n",
       "⎢                          ⎥\n",
       "⎣6   -8  -5  4   4   9   3 ⎦"
      ]
     },
     "metadata": {},
     "output_type": "display_data"
    },
    {
     "name": "stdout",
     "output_type": "stream",
     "text": [
      "A RREF\n"
     ]
    },
    {
     "data": {
      "text/latex": [
       "$\\displaystyle \\left( \\left[\\begin{matrix}1 & 0 & \\frac{13}{2} & 0 & 5 & 0 & -3\\\\0 & 1 & \\frac{11}{2} & 0 & \\frac{1}{2} & 0 & 2\\\\0 & 0 & 0 & 1 & - \\frac{11}{2} & 0 & 7\\\\0 & 0 & 0 & 0 & 0 & 1 & 1\\\\0 & 0 & 0 & 0 & 0 & 0 & 0\\end{matrix}\\right], \\  \\left( 0, \\  1, \\  3, \\  5\\right)\\right)$"
      ],
      "text/plain": [
       "⎛⎡1  0  13/2  0    5    0  -3⎤              ⎞\n",
       "⎜⎢                           ⎥              ⎟\n",
       "⎜⎢0  1  11/2  0   1/2   0  2 ⎥              ⎟\n",
       "⎜⎢                           ⎥              ⎟\n",
       "⎜⎢0  0   0    1  -11/2  0  7 ⎥, (0, 1, 3, 5)⎟\n",
       "⎜⎢                           ⎥              ⎟\n",
       "⎜⎢0  0   0    0    0    1  1 ⎥              ⎟\n",
       "⎜⎢                           ⎥              ⎟\n",
       "⎝⎣0  0   0    0    0    0  0 ⎦              ⎠"
      ]
     },
     "metadata": {},
     "output_type": "display_data"
    },
    {
     "name": "stdout",
     "output_type": "stream",
     "text": [
      "C\n"
     ]
    },
    {
     "data": {
      "text/latex": [
       "$\\displaystyle \\left[\\begin{matrix}7 & -9 & 5 & -3\\\\-4 & 6 & -2 & -5\\\\5 & -7 & 5 & 2\\\\-3 & 5 & -1 & -4\\\\6 & -8 & 4 & 9\\end{matrix}\\right]$"
      ],
      "text/plain": [
       "⎡7   -9  5   -3⎤\n",
       "⎢              ⎥\n",
       "⎢-4  6   -2  -5⎥\n",
       "⎢              ⎥\n",
       "⎢5   -7  5   2 ⎥\n",
       "⎢              ⎥\n",
       "⎢-3  5   -1  -4⎥\n",
       "⎢              ⎥\n",
       "⎣6   -8  4   9 ⎦"
      ]
     },
     "metadata": {},
     "output_type": "display_data"
    },
    {
     "name": "stdout",
     "output_type": "stream",
     "text": [
      "N\n"
     ]
    },
    {
     "data": {
      "text/latex": [
       "$\\displaystyle \\left[\\begin{matrix}\\frac{13}{2} & 5 & -3\\\\\\frac{11}{2} & \\frac{1}{2} & 2\\\\0 & - \\frac{11}{2} & 7\\\\0 & 0 & 1\\\\0 & 0 & 0\\end{matrix}\\right]$"
      ],
      "text/plain": [
       "⎡13/2    5    -3⎤\n",
       "⎢               ⎥\n",
       "⎢11/2   1/2   2 ⎥\n",
       "⎢               ⎥\n",
       "⎢ 0    -11/2  7 ⎥\n",
       "⎢               ⎥\n",
       "⎢ 0      0    1 ⎥\n",
       "⎢               ⎥\n",
       "⎣ 0      0    0 ⎦"
      ]
     },
     "metadata": {},
     "output_type": "display_data"
    },
    {
     "name": "stdout",
     "output_type": "stream",
     "text": [
      "R\n"
     ]
    },
    {
     "data": {
      "text/latex": [
       "$\\displaystyle \\left[\\begin{matrix}1 & 0 & \\frac{13}{2} & 0 & 5 & 0 & -3\\\\0 & 1 & \\frac{11}{2} & 0 & \\frac{1}{2} & 0 & 2\\\\0 & 0 & 0 & 1 & - \\frac{11}{2} & 0 & 7\\\\0 & 0 & 0 & 0 & 0 & 1 & 1\\end{matrix}\\right]$"
      ],
      "text/plain": [
       "⎡1  0  13/2  0    5    0  -3⎤\n",
       "⎢                           ⎥\n",
       "⎢0  1  11/2  0   1/2   0  2 ⎥\n",
       "⎢                           ⎥\n",
       "⎢0  0   0    1  -11/2  0  7 ⎥\n",
       "⎢                           ⎥\n",
       "⎣0  0   0    0    0    1  1 ⎦"
      ]
     },
     "metadata": {},
     "output_type": "display_data"
    }
   ],
   "source": [
    "# 4.6.35\n",
    "#\n",
    "# Construct\tmatrices C and N whose columns are bases for\n",
    "# Col A and Nul A, respectively, and construct a matrix R\n",
    "# whose rows form a basis for Row A\n",
    "A = Matrix([\n",
    "    [7,-9,-4,5,3,-3,-7],\n",
    "    [-4,6,7,-2,-6,-5,5],\n",
    "    [5,-7,-6,5,-6,2,8],\n",
    "    [-3,5,8,-1,-7,-4,8],\n",
    "    [6,-8,-5,4,4,9,3]\n",
    "])\n",
    "print('A')\n",
    "display(A)\n",
    "print('A RREF')\n",
    "display(A.rref())\n",
    "\n",
    "# Create matrix from Col A by taking columns with pivots\n",
    "print('C')\n",
    "C = A[:,0].row_join(A[:,1]).row_join(A[:,3]).row_join(A[:,5])\n",
    "display(C)\n",
    "\n",
    "# Create matrix from Nul A by taking columns with free variables\n",
    "Arref = A.rref()[0]\n",
    "print('N')\n",
    "N = Arref[:,2].row_join(Arref[:,4]).row_join(Arref[:,6])\n",
    "display(N)\n",
    "\n",
    "# Create matrix from Row A by taking rows from the RREF of A with pivots\n",
    "# (Using .T to transpose rows into columns and displaying R.T to transpose it back\n",
    "# to show the proper result)\n",
    "print('R')\n",
    "R = Arref[0,:].T.row_join(Arref[1,:].T).row_join(Arref[2,:].T).row_join(Arref[3,:].T).T\n",
    "display(R)"
   ]
  }
 ],
 "metadata": {
  "kernelspec": {
   "display_name": "Python 3",
   "language": "python",
   "name": "python3"
  },
  "language_info": {
   "codemirror_mode": {
    "name": "ipython",
    "version": 3
   },
   "file_extension": ".py",
   "mimetype": "text/x-python",
   "name": "python",
   "nbconvert_exporter": "python",
   "pygments_lexer": "ipython3",
   "version": "3.8.3"
  }
 },
 "nbformat": 4,
 "nbformat_minor": 4
}
