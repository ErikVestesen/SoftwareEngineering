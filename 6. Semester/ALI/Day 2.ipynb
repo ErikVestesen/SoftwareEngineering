{
 "cells": [
  {
   "cell_type": "code",
   "execution_count": 1,
   "metadata": {},
   "outputs": [],
   "source": [
    "#import numpy as np\n",
    "from sympy import *\n",
    "from IPython.display import display\n",
    "import numpy as np\n",
    "init_printing()"
   ]
  },
  {
   "cell_type": "code",
   "execution_count": 20,
   "metadata": {},
   "outputs": [
    {
     "data": {
      "text/latex": [
       "$\\displaystyle \\left[\\begin{matrix}1 & -1 & 2\\\\-1 & 2 & 1\\\\1 & -1 & 1\\end{matrix}\\right]$"
      ],
      "text/plain": [
       "⎡1   -1  2⎤\n",
       "⎢         ⎥\n",
       "⎢-1  2   1⎥\n",
       "⎢         ⎥\n",
       "⎣1   -1  1⎦"
      ]
     },
     "metadata": {},
     "output_type": "display_data"
    },
    {
     "data": {
      "text/latex": [
       "$\\displaystyle \\left[\\begin{matrix}5\\\\6\\\\2\\end{matrix}\\right]$"
      ],
      "text/plain": [
       "⎡5⎤\n",
       "⎢ ⎥\n",
       "⎢6⎥\n",
       "⎢ ⎥\n",
       "⎣2⎦"
      ]
     },
     "metadata": {},
     "output_type": "display_data"
    },
    {
     "data": {
      "text/latex": [
       "$\\displaystyle \\left( \\left[\\begin{matrix}1 & 0 & 0 & -3 & 1 & 5\\\\0 & 1 & 0 & -2 & 1 & 3\\\\0 & 0 & 1 & 1 & 0 & -1\\end{matrix}\\right], \\  \\left( 0, \\  1, \\  2\\right)\\right)$"
      ],
      "text/plain": [
       "⎛⎡1  0  0  -3  1  5 ⎤           ⎞\n",
       "⎜⎢                  ⎥           ⎟\n",
       "⎜⎢0  1  0  -2  1  3 ⎥, (0, 1, 2)⎟\n",
       "⎜⎢                  ⎥           ⎟\n",
       "⎝⎣0  0  1  1   0  -1⎦           ⎠"
      ]
     },
     "metadata": {},
     "output_type": "display_data"
    },
    {
     "data": {
      "text/latex": [
       "$\\displaystyle \\left[\\begin{matrix}1 & 0 & 0\\\\0 & 1 & 0\\\\0 & 0 & 1\\end{matrix}\\right]$"
      ],
      "text/plain": [
       "⎡1  0  0⎤\n",
       "⎢       ⎥\n",
       "⎢0  1  0⎥\n",
       "⎢       ⎥\n",
       "⎣0  0  1⎦"
      ]
     },
     "execution_count": 20,
     "metadata": {},
     "output_type": "execute_result"
    }
   ],
   "source": [
    "# Assignment 2 2017\n",
    "A = Matrix([[1,-1,2],[-1,2,1],[1,-1,1]])\n",
    "b = Matrix([5,6,2])\n",
    "display(A)\n",
    "display(b)\n",
    "display(A.row_join(eye(A.shape[0])).rref())\n",
    "\n",
    "#  Find the inverse of 𝐴 using elementary row operations and the identity matrix.\n",
    "Ainv = A.row_join(eye(A.shape[0])).rref()[0][:,A.shape[0]:]\n",
    "# Confirm the inverse of A is correct by multiplying with A. If this result in Identity matrix, then its correct\n",
    "#Ainv*A\n",
    "A*Ainv"
   ]
  },
  {
   "cell_type": "code",
   "execution_count": 13,
   "metadata": {},
   "outputs": [
    {
     "data": {
      "text/latex": [
       "$\\displaystyle \\left[\\begin{matrix}1\\\\2\\\\3\\end{matrix}\\right]$"
      ],
      "text/plain": [
       "⎡1⎤\n",
       "⎢ ⎥\n",
       "⎢2⎥\n",
       "⎢ ⎥\n",
       "⎣3⎦"
      ]
     },
     "execution_count": 13,
     "metadata": {},
     "output_type": "execute_result"
    }
   ],
   "source": [
    "# Use the inverse of 𝐴 to solve 𝐴𝑥̅= 𝑏̅\n",
    "x = Ainv * b\n",
    "x"
   ]
  }
 ],
 "metadata": {
  "kernelspec": {
   "display_name": "Python 3",
   "language": "python",
   "name": "python3"
  },
  "language_info": {
   "codemirror_mode": {
    "name": "ipython",
    "version": 3
   },
   "file_extension": ".py",
   "mimetype": "text/x-python",
   "name": "python",
   "nbconvert_exporter": "python",
   "pygments_lexer": "ipython3",
   "version": "3.8.3"
  }
 },
 "nbformat": 4,
 "nbformat_minor": 4
}
