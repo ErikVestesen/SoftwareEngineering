{
 "cells": [
  {
   "cell_type": "code",
   "execution_count": 118,
   "metadata": {},
   "outputs": [],
   "source": [
    "from sympy import *\n",
    "from IPython.display import display, Latex, HTML, Math\n",
    "import numpy as np\n",
    "init_printing()\n",
    "import math"
   ]
  },
  {
   "cell_type": "code",
   "execution_count": 5,
   "metadata": {},
   "outputs": [],
   "source": [
    "# Exam 2019 "
   ]
  },
  {
   "cell_type": "code",
   "execution_count": 6,
   "metadata": {},
   "outputs": [],
   "source": [
    "# Assignment 1 "
   ]
  },
  {
   "cell_type": "code",
   "execution_count": 15,
   "metadata": {},
   "outputs": [
    {
     "data": {
      "text/latex": [
       "$\\displaystyle \\left( \\left[\\begin{matrix}1 & 0 & - \\frac{3}{2}\\\\0 & 1 & \\frac{1}{2}\\\\0 & 0 & 0\\end{matrix}\\right], \\  \\left( 0, \\  1\\right)\\right)$"
      ],
      "text/plain": [
       "⎛⎡1  0  -3/2⎤        ⎞\n",
       "⎜⎢          ⎥        ⎟\n",
       "⎜⎢0  1  1/2 ⎥, (0, 1)⎟\n",
       "⎜⎢          ⎥        ⎟\n",
       "⎝⎣0  0   0  ⎦        ⎠"
      ]
     },
     "execution_count": 15,
     "metadata": {},
     "output_type": "execute_result"
    }
   ],
   "source": [
    "# Assignment 2\n",
    "A = Matrix([\n",
    "    [4,8,-2],\n",
    "    [-6,2,10],\n",
    "    [-2,6,6]\n",
    "])\n",
    "\n",
    "b = Matrix([2,18,15])\n",
    "\n",
    "# (a) Determine whether 𝑏 is in the span of the columns of 𝐴. \n",
    "A.row_join(b).rref() # inconsistent, therefore not in the span\n",
    "\n",
    "# (b)\n",
    "v1 = A[:,0]\n",
    "v2 = A[:,1]\n",
    "v3 = A[:,2]\n",
    "\n",
    "A.rref()"
   ]
  },
  {
   "cell_type": "code",
   "execution_count": 131,
   "metadata": {},
   "outputs": [
    {
     "data": {
      "image/png": "[encoded data removed]",
      "text/latex": [
       "$\\displaystyle a x^{2} + b x + c - x^{3}$"
      ],
      "text/plain": [
       "   2              3\n",
       "a⋅x  + b⋅x + c - x "
      ]
     },
     "metadata": {},
     "output_type": "display_data"
    },
    {
     "data": {
      "image/png": "[encoded data removed]",
      "text/latex": [
       "$\\displaystyle \\left[ -1.46410161513775, \\  5.46410161513775\\right]$"
      ],
      "text/plain": [
       "[-1.46410161513775, 5.46410161513775]"
      ]
     },
     "metadata": {},
     "output_type": "display_data"
    },
    {
     "data": {
      "image/png": "[encoded data removed]",
      "text/latex": [
       "$\\displaystyle 8$"
      ],
      "text/plain": [
       "8"
      ]
     },
     "metadata": {},
     "output_type": "display_data"
    },
    {
     "data": {
      "text/latex": [
       "$\\displaystyle \\left[\\begin{matrix}1 & 1 & 3 & 2\\\\0 & 1 & 1 & 1\\\\0 & 0 & a - 5 & b - 4\\end{matrix}\\right]$"
      ],
      "text/plain": [
       "⎡1  1    3      2  ⎤\n",
       "⎢                  ⎥\n",
       "⎢0  1    1      1  ⎥\n",
       "⎢                  ⎥\n",
       "⎣0  0  a - 5  b - 4⎦"
      ]
     },
     "metadata": {},
     "output_type": "display_data"
    },
    {
     "data": {
      "image/png": "[encoded data removed]",
      "text/latex": [
       "$\\displaystyle a - 5$"
      ],
      "text/plain": [
       "a - 5"
      ]
     },
     "metadata": {},
     "output_type": "display_data"
    },
    {
     "data": {
      "image/png": "[encoded data removed]",
      "text/latex": [
       "$\\displaystyle \\left[ 6\\right]$"
      ],
      "text/plain": [
       "[6]"
      ]
     },
     "metadata": {},
     "output_type": "display_data"
    }
   ],
   "source": [
    "# Assignment 3\n",
    "a,b,c,x = symbols('a b c x')\n",
    "A = Matrix([\n",
    "    [a-x,b,c],\n",
    "    [1,-x,0],\n",
    "    [0,1,-x]\n",
    "])\n",
    "# a\n",
    "display(det(A))\n",
    "\n",
    "# b\n",
    "display(solve(N((2-x)*(2-x)-12),x))\n",
    "\n",
    "# c\n",
    "A = Matrix([\n",
    "    [2,0,0,1],\n",
    "    [0,1,0,0],\n",
    "    [1,6,2,0],\n",
    "    [1,1,-2,3]\n",
    "])\n",
    "\n",
    "deta = A[1,0]*A.cofactor(1,0)+A[1,1]*A.cofactor(1,1)+A[1,2]*A.cofactor(1,2)+A[1,3]*A.cofactor(1,3)\n",
    "\n",
    "deta = A[1,1]*A.cofactor(1,1)\n",
    "display(deta)\n",
    "\n",
    "# d \n",
    "a = Symbol('a')\n",
    "b = Symbol('b')\n",
    "A = Matrix([\n",
    "    [1,1,3],\n",
    "    [1,2,4],\n",
    "    [1,3,a]\n",
    "])\n",
    "b = Matrix([2,3,b])\n",
    "\n",
    "aug = A.row_join(b)\n",
    "display(aug.echelon_form())\n",
    "\n",
    "# Unique solution, a = 6, b = any\n",
    "\n",
    "# Infinite solution, a = 5, b = 4\n",
    "\n",
    "# No solution, a = 5, b != 4\n",
    "\n",
    "# Find expression for determinant \n",
    "display(det(A))\n",
    "\n",
    "# Solve for a\n",
    "display(solve(a-5-1,a))"
   ]
  },
  {
   "cell_type": "code",
   "execution_count": 44,
   "metadata": {},
   "outputs": [
    {
     "data": {
      "text/latex": [
       "$\\displaystyle \\left[ \\left[\\begin{matrix}0\\\\1\\\\0\\\\0\\end{matrix}\\right], \\  \\left[\\begin{matrix}\\frac{\\sqrt{5}}{5}\\\\0\\\\\\frac{2 \\sqrt{5}}{5}\\\\0\\end{matrix}\\right], \\  \\left[\\begin{matrix}- \\frac{\\sqrt{30}}{15}\\\\0\\\\\\frac{\\sqrt{30}}{30}\\\\\\frac{\\sqrt{30}}{6}\\end{matrix}\\right]\\right]$"
      ],
      "text/plain": [
       "⎡             ⎡-√30 ⎤⎤\n",
       "⎢     ⎡ √5 ⎤  ⎢─────⎥⎥\n",
       "⎢     ⎢ ── ⎥  ⎢  15 ⎥⎥\n",
       "⎢⎡0⎤  ⎢ 5  ⎥  ⎢     ⎥⎥\n",
       "⎢⎢ ⎥  ⎢    ⎥  ⎢  0  ⎥⎥\n",
       "⎢⎢1⎥  ⎢ 0  ⎥  ⎢     ⎥⎥\n",
       "⎢⎢ ⎥, ⎢    ⎥, ⎢ √30 ⎥⎥\n",
       "⎢⎢0⎥  ⎢2⋅√5⎥  ⎢ ─── ⎥⎥\n",
       "⎢⎢ ⎥  ⎢────⎥  ⎢  30 ⎥⎥\n",
       "⎢⎣0⎦  ⎢ 5  ⎥  ⎢     ⎥⎥\n",
       "⎢     ⎢    ⎥  ⎢ √30 ⎥⎥\n",
       "⎢     ⎣ 0  ⎦  ⎢ ─── ⎥⎥\n",
       "⎣             ⎣  6  ⎦⎦"
      ]
     },
     "execution_count": 44,
     "metadata": {},
     "output_type": "execute_result"
    }
   ],
   "source": [
    "# Assignment 4 \n",
    "# Find an orthonormal basis for W\n",
    "A = Matrix([2,0,-1,1]) \n",
    "GramSchmidt(Matrix([[2,0,-1,1]]).nullspace(), True)"
   ]
  },
  {
   "cell_type": "code",
   "execution_count": 140,
   "metadata": {},
   "outputs": [
    {
     "data": {
      "text/latex": [
       "$\\displaystyle \\left[ \\left( 0, \\  1, \\  \\left[ \\left[\\begin{matrix}1\\\\1\\\\1\\end{matrix}\\right]\\right]\\right), \\  \\left( 1, \\  2, \\  \\left[ \\left[\\begin{matrix}\\frac{1}{2}\\\\1\\\\0\\end{matrix}\\right], \\  \\left[\\begin{matrix}1\\\\0\\\\1\\end{matrix}\\right]\\right]\\right)\\right]$"
      ],
      "text/plain": [
       "⎡⎛      ⎡⎡1⎤⎤⎞  ⎛      ⎡⎡1/2⎤  ⎡1⎤⎤⎞⎤\n",
       "⎢⎜      ⎢⎢ ⎥⎥⎟  ⎜      ⎢⎢   ⎥  ⎢ ⎥⎥⎟⎥\n",
       "⎢⎜0, 1, ⎢⎢1⎥⎥⎟, ⎜1, 2, ⎢⎢ 1 ⎥, ⎢0⎥⎥⎟⎥\n",
       "⎢⎜      ⎢⎢ ⎥⎥⎟  ⎜      ⎢⎢   ⎥  ⎢ ⎥⎥⎟⎥\n",
       "⎣⎝      ⎣⎣1⎦⎦⎠  ⎝      ⎣⎣ 0 ⎦  ⎣1⎦⎦⎠⎦"
      ]
     },
     "metadata": {},
     "output_type": "display_data"
    },
    {
     "data": {
      "text/latex": [
       "$\\displaystyle \\left[ \\left[\\begin{matrix}1\\\\1\\\\1\\end{matrix}\\right]\\right]$"
      ],
      "text/plain": [
       "⎡⎡1⎤⎤\n",
       "⎢⎢ ⎥⎥\n",
       "⎢⎢1⎥⎥\n",
       "⎢⎢ ⎥⎥\n",
       "⎣⎣1⎦⎦"
      ]
     },
     "metadata": {},
     "output_type": "display_data"
    },
    {
     "data": {
      "text/latex": [
       "$\\displaystyle \\left[ \\left[\\begin{matrix}\\frac{1}{2}\\\\1\\\\0\\end{matrix}\\right], \\  \\left[\\begin{matrix}1\\\\0\\\\1\\end{matrix}\\right]\\right]$"
      ],
      "text/plain": [
       "⎡⎡1/2⎤  ⎡1⎤⎤\n",
       "⎢⎢   ⎥  ⎢ ⎥⎥\n",
       "⎢⎢ 1 ⎥, ⎢0⎥⎥\n",
       "⎢⎢   ⎥  ⎢ ⎥⎥\n",
       "⎣⎣ 0 ⎦  ⎣1⎦⎦"
      ]
     },
     "metadata": {},
     "output_type": "display_data"
    },
    {
     "data": {
      "text/latex": [
       "$\\displaystyle XDX^{-1} =$"
      ],
      "text/plain": [
       "<IPython.core.display.Math object>"
      ]
     },
     "metadata": {},
     "output_type": "display_data"
    },
    {
     "data": {
      "text/latex": [
       "$\\displaystyle \\left[\\begin{matrix}3 & -1 & -2\\\\2 & 0 & -2\\\\2 & -1 & -1\\end{matrix}\\right]$"
      ],
      "text/plain": [
       "⎡3  -1  -2⎤\n",
       "⎢         ⎥\n",
       "⎢2  0   -2⎥\n",
       "⎢         ⎥\n",
       "⎣2  -1  -1⎦"
      ]
     },
     "metadata": {},
     "output_type": "display_data"
    },
    {
     "data": {
      "text/latex": [
       "$\\displaystyle X^{-1}AX =D:$"
      ],
      "text/plain": [
       "<IPython.core.display.Math object>"
      ]
     },
     "metadata": {},
     "output_type": "display_data"
    },
    {
     "data": {
      "text/latex": [
       "$$\\left[\\begin{matrix}2 & 0 & -2\\\\2 & -1 & -1\\\\-2 & 1 & 2\\end{matrix}\\right]\\left[\\begin{matrix}3 & -1 & -2\\\\2 & 0 & -2\\\\2 & -1 & -1\\end{matrix}\\right]\\left[\\begin{matrix}\\frac{1}{2} & 1 & 1\\\\1 & 0 & 1\\\\0 & 1 & 1\\end{matrix}\\right] = \\left[\\begin{matrix}1 & 0 & 0\\\\0 & 1 & 0\\\\0 & 0 & 0\\end{matrix}\\right]$$"
      ],
      "text/plain": [
       "<IPython.core.display.Latex object>"
      ]
     },
     "metadata": {},
     "output_type": "display_data"
    },
    {
     "data": {
      "text/latex": [
       "$\\displaystyle A^{k} = XD^{k}X^{-1}$"
      ],
      "text/plain": [
       "<IPython.core.display.Math object>"
      ]
     },
     "metadata": {},
     "output_type": "display_data"
    }
   ],
   "source": [
    "# Assignment 5\n",
    "A = Matrix([\n",
    "    [3,-1,-2],\n",
    "    [2,0,-2],\n",
    "    [2,-1,-1]\n",
    "])\n",
    "\n",
    "# (a) Show that A is diagonalizable\n",
    "vecs = A.eigenvects()\n",
    "display(vecs)\n",
    "\n",
    "# Finding geometric multiplicity, \n",
    "# for lambda = 0\n",
    "A1 = A-0*eye(3,3)\n",
    "A1 = A-0*eye(3,3)\n",
    "\n",
    "display(A1.nullspace())\n",
    "\n",
    "# for lambda = 1\n",
    "A1 = A-1*eye(3,3)\n",
    "A1 = A-1*eye(3,3)\n",
    "\n",
    "display(A1.nullspace())\n",
    "\n",
    "# Since the geometric and algebraic values are the same for all eigenvalues, then the matrix is diagonalizable.\n",
    "\n",
    "\n",
    "# (b) find an invertible matrix X and diagonal matrix D such that X**-1 A X = D \n",
    "# Using PDPinv = A\n",
    "#X,D = A.diagonalize()\n",
    "# X contains eigenvectors\n",
    "# D has eigenvals on diagonal\n",
    "#Xinv = X**-1\n",
    "#display(Xinv*A*X == D)\n",
    "\n",
    "d1 = vecs[1][0]\n",
    "d2 = vecs[1][0]\n",
    "d3 = vecs[0][0]\n",
    "x1 = vecs[1][2][0]\n",
    "x2 = vecs[1][2][1]\n",
    "x3 = vecs[0][2][0]\n",
    "X = x1.row_join(x2).row_join(x3)\n",
    "D = diag(d1, d2, d3)\n",
    "Xinv = X**-1\n",
    "display(Math('XDX^{-1} ='))\n",
    "display(X*D*Xinv)\n",
    "display(Math('X^{-1}AX =D:'))\n",
    "display(Latex(\"$${}{}{} = {}$$\".format(latex(Xinv), latex(A), latex(X), latex(D))))\n",
    "\n",
    "\n",
    "# (c) Next, find an expression for A**k, where k is an arbitrary positive integer.\n",
    "# Because D contains all the eigenvalues, then it should be to the power of k\n",
    "display(Math('A^{k} = XD^{k}X^{-1}'))"
   ]
  },
  {
   "cell_type": "code",
   "execution_count": 80,
   "metadata": {},
   "outputs": [
    {
     "data": {
      "text/latex": [
       "$\\displaystyle \\left[\\begin{matrix}6.47168624727174\\\\0.529077926985499\\end{matrix}\\right]$"
      ],
      "text/plain": [
       "⎡6.47168624727174 ⎤\n",
       "⎢                 ⎥\n",
       "⎣0.529077926985499⎦"
      ]
     },
     "metadata": {},
     "output_type": "display_data"
    },
    {
     "data": {
      "text/latex": [
       "$\\displaystyle \\left[\\begin{matrix}1.04521664099991\\\\-0.00976999469735873\\end{matrix}\\right]$"
      ],
      "text/plain": [
       "⎡  1.04521664099991  ⎤\n",
       "⎢                    ⎥\n",
       "⎣-0.00976999469735873⎦"
      ]
     },
     "metadata": {},
     "output_type": "display_data"
    },
    {
     "data": {
      "image/png": "[encoded data removed]",
      "text/latex": [
       "$\\displaystyle 19.8704081639335$"
      ],
      "text/plain": [
       "19.8704081639335"
      ]
     },
     "metadata": {},
     "output_type": "display_data"
    },
    {
     "data": {
      "image/png": "[encoded data removed]",
      "text/latex": [
       "$\\displaystyle 19.1883493920409$"
      ],
      "text/plain": [
       "19.1883493920409"
      ]
     },
     "metadata": {},
     "output_type": "display_data"
    },
    {
     "name": "stdout",
     "output_type": "stream",
     "text": [
      "prediction:\n"
     ]
    },
    {
     "data": {
      "image/png": "[encoded data removed]",
      "text/latex": [
       "$\\displaystyle 27.8358453065988$"
      ],
      "text/plain": [
       "27.8358453065988"
      ]
     },
     "metadata": {},
     "output_type": "display_data"
    }
   ],
   "source": [
    "# Assignment 6\n",
    "x = Matrix([18.20,25.82,18.24,28.60,31.10,33.60,40.46,28.27,20.10,27.91,26.18,22.12,21.84,23.44,21.58,28.92,25.91,26.92,24.96,22.06,16.08,27.56,23.75,23.32,42.40,28.64,21.16,29.14,19.96,26.38,23.44,23.78,29.18,18.06,20.94,20.08,22.57,14.00,25.89,21.17,21.25,22.86,28.04,30.34])\n",
    "x_squared = Matrix([18.20**2,25.82**2,18.24**2,28.60**2,31.10**2,33.60**2,40.46**2,28.27**2,20.10**2,27.91**2,26.18**2,22.12**2,21.84**2,23.44**2,21.58**2,28.92**2,25.91**2,26.92**2,24.96**2,22.06**2,16.08**2,27.56**2,23.75**2,23.32**2,42.40**2,28.64**2,21.16**2,29.14**2,19.96**2,26.38**2,23.44**2,23.78**2,29.18**2,18.06**2,20.94**2,20.08**2,22.57**2,14.00**2,25.89**2,21.17**2,21.25**2,22.86**2,28.04**2,30.34**2])\n",
    "y = Matrix([17.05,19.80,15.98,22.07,22.83,24.55,27.27,23.57,13.58,22.80,20.30,16.59,16.84,17.71,25.45,20.94,26.48,22.04,22.72,14.20,15.60,20.98,19.50,16.70,23.03,25.95,14.59,25.02,12.12,21.89,19.45,12.11,23.68,17.45,14.11,17.60,20.74,12.01,21.22,20.34,20.55,15.53,15.92,25.88])\n",
    "\n",
    "\n",
    "# y1\n",
    "X1 = Matrix([ones(len(x),1)]).row_join(x)\n",
    "\n",
    "# y2\n",
    "X2 = x.row_join(x_squared)\n",
    "\n",
    "# parameter for y1\n",
    "X1TX = X1.T*X1\n",
    "X1Ty = X1.T*y\n",
    "augmented = X1TX.row_join(X1Ty)\n",
    "display(N(augmented.rref()[0][:,-1]))\n",
    "X1Hat = N(augmented.rref()[0][:,-1]) # parameter vector\n",
    "\n",
    "# parameter for y2\n",
    "X2TX = X2.T*X2\n",
    "X2Ty = X2.T*y\n",
    "augmented = X2TX.row_join(X2Ty)\n",
    "display(N(augmented.rref()[0][:,-1]))\n",
    "X2Hat = N(augmented.rref()[0][:,-1]) # parameter vector\n",
    "\n",
    "\n",
    "# Determine which is the best\n",
    "y1 = (y - X1*X1Hat).norm()\n",
    "display(y1)\n",
    "y2 = (y - X2*X2Hat).norm()\n",
    "display(y2) # <-- best\n",
    "\n",
    "# use best fit model to predict for when number is 50\n",
    "prediction = X2Hat[0]*50+X2Hat[1]*(50**2)\n",
    "print('prediction:')\n",
    "display(prediction)"
   ]
  },
  {
   "cell_type": "code",
   "execution_count": null,
   "metadata": {},
   "outputs": [],
   "source": []
  },
  {
   "cell_type": "code",
   "execution_count": 127,
   "metadata": {},
   "outputs": [
    {
     "data": {
      "text/latex": [
       "$\\displaystyle U \\Sigma V^T = \\left[\\begin{matrix}\\frac{1}{2} & \\frac{1}{2} & 0 & - \\frac{\\sqrt{2}}{2}\\\\\\frac{1}{2} & - \\frac{1}{2} & - \\frac{\\sqrt{2}}{2} & 0\\\\\\frac{1}{2} & - \\frac{1}{2} & \\frac{\\sqrt{2}}{2} & 0\\\\\\frac{1}{2} & \\frac{1}{2} & 0 & \\frac{\\sqrt{2}}{2}\\end{matrix}\\right]\\left[\\begin{matrix}12 & 0 & 0\\\\0 & 6 & 0\\\\0 & 0 & 0\\\\0 & 0 & 0\\end{matrix}\\right]\\left[\\begin{matrix}\\frac{2}{3} & \\frac{2}{3} & \\frac{1}{3}\\\\- \\frac{2}{3} & \\frac{1}{3} & \\frac{2}{3}\\\\\\frac{1}{3} & - \\frac{2}{3} & \\frac{2}{3}\\end{matrix}\\right]$"
      ],
      "text/plain": [
       "<IPython.core.display.Math object>"
      ]
     },
     "metadata": {},
     "output_type": "display_data"
    },
    {
     "data": {
      "text/latex": [
       "Test:"
      ],
      "text/plain": [
       "<IPython.core.display.Latex object>"
      ]
     },
     "metadata": {},
     "output_type": "display_data"
    },
    {
     "data": {
      "text/latex": [
       "$\\displaystyle \\left[\\begin{matrix}2 & 5 & 4\\\\6 & 3 & 0\\\\6 & 3 & 0\\\\2 & 5 & 4\\end{matrix}\\right]$"
      ],
      "text/plain": [
       "⎡2  5  4⎤\n",
       "⎢       ⎥\n",
       "⎢6  3  0⎥\n",
       "⎢       ⎥\n",
       "⎢6  3  0⎥\n",
       "⎢       ⎥\n",
       "⎣2  5  4⎦"
      ]
     },
     "metadata": {},
     "output_type": "display_data"
    },
    {
     "data": {
      "text/latex": [
       "$\\displaystyle \\left[\\begin{matrix}2 & 5 & 4\\\\6 & 3 & 0\\\\6 & 3 & 0\\\\2 & 5 & 4\\end{matrix}\\right]$"
      ],
      "text/plain": [
       "⎡2  5  4⎤\n",
       "⎢       ⎥\n",
       "⎢6  3  0⎥\n",
       "⎢       ⎥\n",
       "⎢6  3  0⎥\n",
       "⎢       ⎥\n",
       "⎣2  5  4⎦"
      ]
     },
     "metadata": {},
     "output_type": "display_data"
    },
    {
     "data": {
      "text/plain": [
       "True"
      ]
     },
     "metadata": {},
     "output_type": "display_data"
    }
   ],
   "source": [
    "# Assignment 7\n",
    "A = Matrix([\n",
    "    [2,5,4],\n",
    "    [6,3,0],\n",
    "    [6,3,0],\n",
    "    [2,5,4]\n",
    "])\n",
    "\n",
    "# (a) Finding the eigenvalues of either ATA or AAT\n",
    "AtA = A.T*A\n",
    "vecs = AtA.eigenvects()\n",
    "\n",
    "# (a1) Determining the corresponding eigenvectors, (descending for S)\n",
    "s1 = sqrt(vecs[2][0])\n",
    "s2 = sqrt(vecs[1][0])\n",
    "\n",
    "v1 = vecs[2][2][0].normalized()\n",
    "v2 = vecs[1][2][0].normalized()\n",
    "v3 = vecs[0][2][0].normalized()\n",
    "\n",
    "u1 = (s1**-1)*A*v1\n",
    "u2 = (s2**-1)*A*v2\n",
    "# We need two more eigenvectors for U, because this is an 4x3 matrix\n",
    "u3 = Matrix([u1.T, u2.T]).nullspace()[0].normalized()\n",
    "u4 = Matrix([u1.T, u2.T]).nullspace()[1].normalized()\n",
    "# u3 = AAt.eigenvects()[0][2][0].normalized() #This is finding a vector we dont have\n",
    "# u4 = AAt.eigenvects()[0][2][1].normalized() #This is finding a vector we dont have\n",
    "\n",
    "# setup A = U * S * VT\n",
    "U = u1.row_join(u2).row_join(u3).row_join(u4)\n",
    "V = v1.row_join(v2).row_join(v3)\n",
    "Vt = V.T\n",
    "S = diag(s1,s2).row_join(zeros(2,1)).col_join(zeros(2,3))\n",
    "\n",
    "display(Math('U \\Sigma V^T = {}{}{}'.format(latex(U), latex(S), latex(Vt))))\n",
    "\n",
    "display(Latex(\"Test:\"))\n",
    "\n",
    "# Test A = U * S * VT\n",
    "display(U*S*Vt)\n",
    "display(A)\n",
    "display(A == U*S*Vt)\n"
   ]
  },
  {
   "cell_type": "code",
   "execution_count": null,
   "metadata": {},
   "outputs": [],
   "source": []
  }
 ],
 "metadata": {
  "kernelspec": {
   "display_name": "Python 3",
   "language": "python",
   "name": "python3"
  },
  "language_info": {
   "codemirror_mode": {
    "name": "ipython",
    "version": 3
   },
   "file_extension": ".py",
   "mimetype": "text/x-python",
   "name": "python",
   "nbconvert_exporter": "python",
   "pygments_lexer": "ipython3",
   "version": "3.8.3"
  }
 },
 "nbformat": 4,
 "nbformat_minor": 4
}
