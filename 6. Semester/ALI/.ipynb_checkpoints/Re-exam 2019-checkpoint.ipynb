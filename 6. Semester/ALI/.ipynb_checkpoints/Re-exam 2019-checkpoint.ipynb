{
 "cells": [
  {
   "cell_type": "code",
   "execution_count": 83,
   "metadata": {},
   "outputs": [],
   "source": [
    "#import numpy as np\n",
    "from sympy import *\n",
    "from IPython.display import display\n",
    "import numpy as np\n",
    "init_printing()\n",
    "import math\n"
   ]
  },
  {
   "cell_type": "code",
   "execution_count": 82,
   "metadata": {},
   "outputs": [],
   "source": [
    "def determine_parameter(X, y, rounding = 4):\n",
    "    XTX = X.T * X\n",
    "    XTy = X.T * y\n",
    "    augmented = XTX.row_join(XTy) \n",
    "    res = ''\n",
    "    for i in range(augmented.shape[0]):\n",
    "        res += str(round(augmented.rref()[0][i,-1],rounding)) + '    '\n",
    "    \n",
    "    display(res)"
   ]
  },
  {
   "cell_type": "code",
   "execution_count": 3,
   "metadata": {},
   "outputs": [],
   "source": [
    "# Re exam 2019"
   ]
  },
  {
   "cell_type": "code",
   "execution_count": 4,
   "metadata": {},
   "outputs": [
    {
     "data": {
      "text/plain": [
       "True"
      ]
     },
     "metadata": {},
     "output_type": "display_data"
    },
    {
     "data": {
      "text/plain": [
       "False"
      ]
     },
     "metadata": {},
     "output_type": "display_data"
    },
    {
     "data": {
      "text/plain": [
       "False"
      ]
     },
     "metadata": {},
     "output_type": "display_data"
    }
   ],
   "source": [
    "# Assignment 1\n",
    "A = Matrix([\n",
    "    [3,0,0],\n",
    "    [0,0,0]\n",
    "])\n",
    "B = Matrix([\n",
    "    [0,-4,1],\n",
    "    [2,0,0],\n",
    "    [1,-3,3]\n",
    "])\n",
    "C = Matrix([\n",
    "    [1,1,1],\n",
    "    [0,0,0],\n",
    "    [0,2,-7]\n",
    "])\n",
    "display(A.is_echelon)\n",
    "display(B.is_echelon)\n",
    "display(C.is_echelon)\n"
   ]
  },
  {
   "cell_type": "code",
   "execution_count": 5,
   "metadata": {},
   "outputs": [
    {
     "data": {
      "image/png": "[encoded data removed]",
      "text/latex": [
       "$\\displaystyle 2$"
      ],
      "text/plain": [
       "2"
      ]
     },
     "metadata": {},
     "output_type": "display_data"
    },
    {
     "data": {
      "text/latex": [
       "$\\displaystyle \\left[\\begin{matrix}\\frac{1}{2} & - \\frac{1}{2}\\\\\\frac{1}{4} & \\frac{1}{4}\\end{matrix}\\right]$"
      ],
      "text/plain": [
       "⎡1/2  -1/2⎤\n",
       "⎢         ⎥\n",
       "⎣1/4  1/4 ⎦"
      ]
     },
     "metadata": {},
     "output_type": "display_data"
    },
    {
     "name": "stdout",
     "output_type": "stream",
     "text": [
      "X1\n"
     ]
    },
    {
     "data": {
      "text/latex": [
       "$\\displaystyle \\left[\\begin{matrix}3 & 2\\\\- \\frac{5}{2} & -1\\end{matrix}\\right]$"
      ],
      "text/plain": [
       "⎡ 3    2 ⎤\n",
       "⎢        ⎥\n",
       "⎣-5/2  -1⎦"
      ]
     },
     "metadata": {},
     "output_type": "display_data"
    },
    {
     "name": "stdout",
     "output_type": "stream",
     "text": [
      "X2\n"
     ]
    },
    {
     "data": {
      "text/latex": [
       "$\\displaystyle \\left[\\begin{matrix}- \\frac{17}{2} & -5\\\\7 & 4\\end{matrix}\\right]$"
      ],
      "text/plain": [
       "⎡-17/2  -5⎤\n",
       "⎢         ⎥\n",
       "⎣  7    4 ⎦"
      ]
     },
     "metadata": {},
     "output_type": "display_data"
    },
    {
     "name": "stdout",
     "output_type": "stream",
     "text": [
      "X3\n"
     ]
    },
    {
     "data": {
      "text/latex": [
       "$\\displaystyle \\left[\\begin{matrix}\\frac{5}{2} & - \\frac{9}{2}\\\\- \\frac{7}{4} & \\frac{13}{4}\\end{matrix}\\right]$"
      ],
      "text/plain": [
       "⎡5/2   -9/2⎤\n",
       "⎢          ⎥\n",
       "⎣-7/4  13/4⎦"
      ]
     },
     "metadata": {},
     "output_type": "display_data"
    },
    {
     "name": "stdout",
     "output_type": "stream",
     "text": [
      "X4\n"
     ]
    },
    {
     "data": {
      "text/latex": [
       "$\\displaystyle \\left[\\begin{matrix}2 & - \\frac{6}{5}\\\\- \\frac{1}{2} & \\frac{2}{5}\\end{matrix}\\right]$"
      ],
      "text/plain": [
       "⎡ 2    -6/5⎤\n",
       "⎢          ⎥\n",
       "⎣-1/2  2/5 ⎦"
      ]
     },
     "metadata": {},
     "output_type": "display_data"
    },
    {
     "name": "stdout",
     "output_type": "stream",
     "text": [
      "X5\n"
     ]
    },
    {
     "data": {
      "text/latex": [
       "$\\displaystyle \\left[\\begin{matrix}0 & 0\\\\0 & 0\\end{matrix}\\right]$"
      ],
      "text/plain": [
       "⎡0  0⎤\n",
       "⎢    ⎥\n",
       "⎣0  0⎦"
      ]
     },
     "metadata": {},
     "output_type": "display_data"
    }
   ],
   "source": [
    "# Assignment 2 \n",
    "\n",
    "A = Matrix([\n",
    "    [2,2],[3,4]\n",
    "])\n",
    "\n",
    "B = Matrix([\n",
    "    [1,2],\n",
    "    [-1,2]\n",
    "])\n",
    "\n",
    "C = Matrix([\n",
    "    [4,-2],\n",
    "    [1,0]\n",
    "])\n",
    "\n",
    "# (a 1) Find determinant and see it is different from zero\n",
    "display(det(A))\n",
    "\n",
    "# (a 2)\n",
    "display(B.row_join(eye(2)).rref()[0][:, 2:])\n",
    "\n",
    "# (a 3)since it has pivots in all columns, then nullspace is empty\n",
    "C.nullspace()\n",
    "\n",
    "\n",
    "# b\n",
    "x = Symbol('x')\n",
    "\n",
    "X1 = (A**-1) * B\n",
    "print('X1')\n",
    "display(X1)\n",
    "\n",
    "X2 = -(A**-2) * B #This one doesnt make any sense\n",
    "print('X2')\n",
    "display(X2)\n",
    "\n",
    "\n",
    "X3 = (A**-1)*C*(B**-1)\n",
    "print('X3')\n",
    "display(X3)\n",
    "\n",
    "X4 = ((A+B)**-1)*C\n",
    "print('X4')\n",
    "display(X4)\n",
    "\n",
    "X5 = 0*(A**-1)*(C**-1)\n",
    "print('X5')\n",
    "display(X5)\n",
    "\n",
    "\n"
   ]
  },
  {
   "cell_type": "code",
   "execution_count": 16,
   "metadata": {},
   "outputs": [
    {
     "data": {
      "text/plain": [
       "'A'"
      ]
     },
     "metadata": {},
     "output_type": "display_data"
    },
    {
     "data": {
      "text/latex": [
       "$\\displaystyle \\left[\\begin{matrix}1 & -1 & 3 & 5\\\\-1 & -3 & 1 & -1\\\\2 & 6 & -2 & 2\\end{matrix}\\right]$"
      ],
      "text/plain": [
       "⎡1   -1  3   5 ⎤\n",
       "⎢              ⎥\n",
       "⎢-1  -3  1   -1⎥\n",
       "⎢              ⎥\n",
       "⎣2   6   -2  2 ⎦"
      ]
     },
     "metadata": {},
     "output_type": "display_data"
    },
    {
     "data": {
      "text/plain": [
       "'RREF'"
      ]
     },
     "metadata": {},
     "output_type": "display_data"
    },
    {
     "data": {
      "text/latex": [
       "$\\displaystyle \\left( \\left[\\begin{matrix}1 & 0 & 2 & 4\\\\0 & 1 & -1 & -1\\\\0 & 0 & 0 & 0\\end{matrix}\\right], \\  \\left( 0, \\  1\\right)\\right)$"
      ],
      "text/plain": [
       "⎛⎡1  0  2   4 ⎤        ⎞\n",
       "⎜⎢            ⎥        ⎟\n",
       "⎜⎢0  1  -1  -1⎥, (0, 1)⎟\n",
       "⎜⎢            ⎥        ⎟\n",
       "⎝⎣0  0  0   0 ⎦        ⎠"
      ]
     },
     "metadata": {},
     "output_type": "display_data"
    },
    {
     "data": {
      "text/plain": [
       "'Null space'"
      ]
     },
     "metadata": {},
     "output_type": "display_data"
    },
    {
     "data": {
      "text/latex": [
       "$\\displaystyle \\left[ \\left[\\begin{matrix}-2\\\\1\\\\1\\\\0\\end{matrix}\\right], \\  \\left[\\begin{matrix}-4\\\\1\\\\0\\\\1\\end{matrix}\\right]\\right]$"
      ],
      "text/plain": [
       "⎡⎡-2⎤  ⎡-4⎤⎤\n",
       "⎢⎢  ⎥  ⎢  ⎥⎥\n",
       "⎢⎢1 ⎥  ⎢1 ⎥⎥\n",
       "⎢⎢  ⎥, ⎢  ⎥⎥\n",
       "⎢⎢1 ⎥  ⎢0 ⎥⎥\n",
       "⎢⎢  ⎥  ⎢  ⎥⎥\n",
       "⎣⎣0 ⎦  ⎣1 ⎦⎦"
      ]
     },
     "metadata": {},
     "output_type": "display_data"
    },
    {
     "data": {
      "text/plain": [
       "'Column space'"
      ]
     },
     "metadata": {},
     "output_type": "display_data"
    },
    {
     "data": {
      "text/latex": [
       "$\\displaystyle \\left[ \\left[\\begin{matrix}1\\\\-1\\\\2\\end{matrix}\\right], \\  \\left[\\begin{matrix}-1\\\\-3\\\\6\\end{matrix}\\right]\\right]$"
      ],
      "text/plain": [
       "⎡⎡1 ⎤  ⎡-1⎤⎤\n",
       "⎢⎢  ⎥  ⎢  ⎥⎥\n",
       "⎢⎢-1⎥, ⎢-3⎥⎥\n",
       "⎢⎢  ⎥  ⎢  ⎥⎥\n",
       "⎣⎣2 ⎦  ⎣6 ⎦⎦"
      ]
     },
     "metadata": {},
     "output_type": "display_data"
    },
    {
     "data": {
      "text/plain": [
       "'Row space'"
      ]
     },
     "metadata": {},
     "output_type": "display_data"
    },
    {
     "data": {
      "text/latex": [
       "$\\displaystyle \\left[\\begin{matrix}1 & -1 & 3 & 5\\\\0 & -4 & 4 & 4\\\\0 & 0 & 0 & 0\\end{matrix}\\right]$"
      ],
      "text/plain": [
       "⎡1  -1  3  5⎤\n",
       "⎢           ⎥\n",
       "⎢0  -4  4  4⎥\n",
       "⎢           ⎥\n",
       "⎣0  0   0  0⎦"
      ]
     },
     "metadata": {},
     "output_type": "display_data"
    },
    {
     "data": {
      "text/latex": [
       "$\\displaystyle \\left[ \\left[\\begin{matrix}1 & -1 & 3 & 5\\end{matrix}\\right], \\  \\left[\\begin{matrix}0 & -4 & 4 & 4\\end{matrix}\\right]\\right]$"
      ],
      "text/plain": [
       "[[1  -1  3  5], [0  -4  4  4]]"
      ]
     },
     "metadata": {},
     "output_type": "display_data"
    },
    {
     "data": {
      "text/latex": [
       "$\\displaystyle \\left[\\begin{matrix}0\\\\-4\\\\8\\end{matrix}\\right]$"
      ],
      "text/plain": [
       "⎡0 ⎤\n",
       "⎢  ⎥\n",
       "⎢-4⎥\n",
       "⎢  ⎥\n",
       "⎣8 ⎦"
      ]
     },
     "metadata": {},
     "output_type": "display_data"
    }
   ],
   "source": [
    "# Assignment 3\n",
    "A = Matrix([\n",
    "    [1,-1,3,5],\n",
    "    [-1,-3,1,-1],\n",
    "    [2,6,-2,2]\n",
    "])\n",
    "display('A')\n",
    "display(A)\n",
    "\n",
    "# (a) find bases for nullspace, column space and row space\n",
    "\n",
    "display('RREF')\n",
    "display(A.rref())\n",
    "\n",
    "# Base for nullspace\n",
    "# [-2,1,1,0], [-4,1,0,1]\n",
    "display('Null space')\n",
    "display(A.nullspace())\n",
    "\n",
    "# Base for column space, this will give the pivot columns from the original matrix \n",
    "display('Column space')\n",
    "display(A.columnspace())\n",
    "\n",
    "# Row space, gives pivot rows from echelon form (NOT RREF!)\n",
    "display('Row space')\n",
    "display(A.echelon_form())\n",
    "display(A.rowspace())\n",
    "\n",
    "\n",
    "b = A[:,0]+A[:,1]\n",
    "display(b)\n",
    "# (b)\n"
   ]
  },
  {
   "cell_type": "code",
   "execution_count": 22,
   "metadata": {},
   "outputs": [
    {
     "data": {
      "text/latex": [
       "$\\displaystyle \\left[\\begin{matrix}-6 & a & -1 & 3\\\\2 & 0 & 3 & 0\\\\4 & 5 & 6 & 0\\\\8 & b & 1 & -4\\end{matrix}\\right]$"
      ],
      "text/plain": [
       "⎡-6  a  -1  3 ⎤\n",
       "⎢             ⎥\n",
       "⎢2   0  3   0 ⎥\n",
       "⎢             ⎥\n",
       "⎢4   5  6   0 ⎥\n",
       "⎢             ⎥\n",
       "⎣8   b  1   -4⎦"
      ]
     },
     "metadata": {},
     "output_type": "display_data"
    },
    {
     "data": {
      "text/latex": [
       "$\\displaystyle \\left[\\begin{matrix}-6 & a & -1 & 3\\\\4 & 5 & 6 & 0\\\\4 & 0 & 6 & 0\\\\12 & b & 7 & -4\\end{matrix}\\right]$"
      ],
      "text/plain": [
       "⎡-6  a  -1  3 ⎤\n",
       "⎢             ⎥\n",
       "⎢4   5  6   0 ⎥\n",
       "⎢             ⎥\n",
       "⎢4   0  6   0 ⎥\n",
       "⎢             ⎥\n",
       "⎣12  b  7   -4⎦"
      ]
     },
     "metadata": {},
     "output_type": "display_data"
    },
    {
     "data": {
      "image/png": "[encoded data removed]",
      "text/latex": [
       "$\\displaystyle 10$"
      ],
      "text/plain": [
       "10"
      ]
     },
     "metadata": {},
     "output_type": "display_data"
    }
   ],
   "source": [
    "# Assignment 4\n",
    "a = Symbol('a')\n",
    "b = Symbol('b')\n",
    "\n",
    "A = Matrix([\n",
    "    [-6,a,-1,3],\n",
    "    [2,0,3,0],\n",
    "    [4,5,6,0],\n",
    "    [8,b,1,-4]\n",
    "])\n",
    "\n",
    "B = Matrix([\n",
    "    [-6,a,-1,3],\n",
    "    [4,5,6,0],\n",
    "    [4,0,6,0],\n",
    "    [12,b,7,-4]\n",
    "])\n",
    "\n",
    "display(A)\n",
    "display(B)\n",
    "\n",
    "# (a) Using cofactor expansion on second row that the determinant is 10\n",
    "\n",
    "display(\n",
    "    A[1,0]*A.cofactor(1,0)+\n",
    "    A[1,2]*A.cofactor(1,2)\n",
    ")\n",
    "\n",
    "# (b) Explain how you can use detA = 10 to determine the determinant of B, and then find detB.\n",
    "# r2 <-> r3              Changes operator \n",
    "# r3 -> r3 * 2           Scale determine by scalar\n",
    "# r4 -> r4 + r3          Nothing happens\n",
    "# Determinant changes operator and scales by 2, this results in the determinant of B is  10*-1*2 = -20"
   ]
  },
  {
   "cell_type": "code",
   "execution_count": 33,
   "metadata": {},
   "outputs": [
    {
     "data": {
      "text/latex": [
       "$\\displaystyle \\left( \\left[\\begin{matrix}1 & 0 & \\frac{3}{2} & 0\\\\0 & 1 & -1 & 0\\\\0 & 0 & 0 & 1\\end{matrix}\\right], \\  \\left( 0, \\  1, \\  3\\right)\\right)$"
      ],
      "text/plain": [
       "⎛⎡1  0  3/2  0⎤           ⎞\n",
       "⎜⎢            ⎥           ⎟\n",
       "⎜⎢0  1  -1   0⎥, (0, 1, 3)⎟\n",
       "⎜⎢            ⎥           ⎟\n",
       "⎝⎣0  0   0   1⎦           ⎠"
      ]
     },
     "metadata": {},
     "output_type": "display_data"
    },
    {
     "data": {
      "image/png": "[encoded data removed]",
      "text/latex": [
       "$\\displaystyle 9.64365076099295$"
      ],
      "text/plain": [
       "9.64365076099295"
      ]
     },
     "metadata": {},
     "output_type": "display_data"
    },
    {
     "data": {
      "image/png": "[encoded data removed]",
      "text/latex": [
       "$\\displaystyle 3.0$"
      ],
      "text/plain": [
       "3.00000000000000"
      ]
     },
     "metadata": {},
     "output_type": "display_data"
    }
   ],
   "source": [
    "# Assignment 5\n",
    "# (a)\n",
    "A = Matrix([\n",
    "    [2,2,1],\n",
    "    [2,-1,4],\n",
    "    [0,1,-1]\n",
    "])\n",
    "b = Matrix([1,1,1])\n",
    "\n",
    "display(A.row_join(b).rref())\n",
    "\n",
    "# (b)\n",
    "x1 = Matrix([1,1,2])\n",
    "x2 = Matrix([1,1,0])\n",
    "\n",
    "e1 = N((b-A*x1).norm())\n",
    "e2 = N((b-A*x2).norm())\n",
    "\n",
    "display(e1)\n",
    "display(e2)\n",
    "\n",
    "# Clearly x2 is the best approx since it has the least errors"
   ]
  },
  {
   "cell_type": "code",
   "execution_count": 81,
   "metadata": {},
   "outputs": [
    {
     "data": {
      "text/latex": [
       "$\\displaystyle \\left[\\begin{matrix}1 & 0\\\\1 & 4\\\\1 & 25\\\\1 & 36\\end{matrix}\\right]$"
      ],
      "text/plain": [
       "⎡1  0 ⎤\n",
       "⎢     ⎥\n",
       "⎢1  4 ⎥\n",
       "⎢     ⎥\n",
       "⎢1  25⎥\n",
       "⎢     ⎥\n",
       "⎣1  36⎦"
      ]
     },
     "metadata": {},
     "output_type": "display_data"
    },
    {
     "data": {
      "text/latex": [
       "$\\displaystyle \\left[\\begin{matrix}0 & 0\\\\2 & 4\\\\5 & 25\\\\6 & 36\\end{matrix}\\right]$"
      ],
      "text/plain": [
       "⎡0  0 ⎤\n",
       "⎢     ⎥\n",
       "⎢2  4 ⎥\n",
       "⎢     ⎥\n",
       "⎢5  25⎥\n",
       "⎢     ⎥\n",
       "⎣6  36⎦"
      ]
     },
     "metadata": {},
     "output_type": "display_data"
    },
    {
     "data": {
      "text/latex": [
       "$\\displaystyle \\left[\\begin{matrix}1 & 0 & 0\\\\1 & 2 & 4\\\\1 & 5 & 25\\\\1 & 6 & 36\\end{matrix}\\right]$"
      ],
      "text/plain": [
       "⎡1  0  0 ⎤\n",
       "⎢        ⎥\n",
       "⎢1  2  4 ⎥\n",
       "⎢        ⎥\n",
       "⎢1  5  25⎥\n",
       "⎢        ⎥\n",
       "⎣1  6  36⎦"
      ]
     },
     "metadata": {},
     "output_type": "display_data"
    },
    {
     "data": {
      "text/latex": [
       "$\\displaystyle \\left[\\begin{matrix}2.7380073800738\\\\0.493045699687766\\end{matrix}\\right]$"
      ],
      "text/plain": [
       "⎡ 2.7380073800738 ⎤\n",
       "⎢                 ⎥\n",
       "⎣0.493045699687766⎦"
      ]
     },
     "metadata": {},
     "output_type": "display_data"
    },
    {
     "data": {
      "text/latex": [
       "$\\displaystyle \\left[\\begin{matrix}3.23830409356725\\\\0.00146198830409357\\end{matrix}\\right]$"
      ],
      "text/plain": [
       "⎡ 3.23830409356725  ⎤\n",
       "⎢                   ⎥\n",
       "⎣0.00146198830409357⎦"
      ]
     },
     "metadata": {},
     "output_type": "display_data"
    },
    {
     "data": {
      "text/latex": [
       "$\\displaystyle \\left[\\begin{matrix}0.779661016949153\\\\2.76412429378531\\\\0.0607344632768362\\end{matrix}\\right]$"
      ],
      "text/plain": [
       "⎡0.779661016949153 ⎤\n",
       "⎢                  ⎥\n",
       "⎢ 2.76412429378531 ⎥\n",
       "⎢                  ⎥\n",
       "⎣0.0607344632768362⎦"
      ]
     },
     "metadata": {},
     "output_type": "display_data"
    },
    {
     "data": {
      "image/png": "[encoded data removed]",
      "text/latex": [
       "$\\displaystyle 3.26265304784121$"
      ],
      "text/plain": [
       "3.26265304784121"
      ]
     },
     "metadata": {},
     "output_type": "display_data"
    },
    {
     "data": {
      "image/png": "[encoded data removed]",
      "text/latex": [
       "$\\displaystyle 1.43575886163796$"
      ],
      "text/plain": [
       "1.43575886163796"
      ]
     },
     "metadata": {},
     "output_type": "display_data"
    },
    {
     "data": {
      "image/png": "[encoded data removed]",
      "text/latex": [
       "$\\displaystyle 1.19674700326782$"
      ],
      "text/plain": [
       "1.19674700326782"
      ]
     },
     "metadata": {},
     "output_type": "display_data"
    }
   ],
   "source": [
    "# Assignment 6\n",
    "x = Matrix([0,2,5,6])\n",
    "y = Matrix([1,6,17,19])\n",
    "x_squared = Matrix([0**2,2**2,5**2,6**2])\n",
    "\n",
    "# (a) Determine the design matrix and observation matrix of all three models.\n",
    "#y1\n",
    "X1=Matrix([ones(4,1)]).row_join(x_squared) # X is design for y1, y is observation\n",
    "display(X1)\n",
    "\n",
    "#y2\n",
    "X2 = x.row_join(x_squared) # X is design matrix for y2, y is observation\n",
    "display(X2)\n",
    "\n",
    "#y3\n",
    "X3 = Matrix([ones(4,1)]).row_join(x).row_join(x_squared) #X3 is the design matrix,y is observation\n",
    "display(X3)\n",
    "\n",
    "\n",
    "# (b) Determine the parameters of all three models\n",
    "#y1\n",
    "X1TX = X1.T * X1\n",
    "X1Ty = X1.T * y\n",
    "\n",
    "augmented = X1TX.row_join(X1Ty)\n",
    "display(N(augmented.rref()[0][:,-1]))\n",
    "X1Hat = N(augmented.rref()[0][:,-1])\n",
    "\n",
    "#y2\n",
    "X2TX = X2.T * X2\n",
    "X2Ty = X2.T * y\n",
    "\n",
    "augmented = X2TX.row_join(X2Ty)\n",
    "display(N(augmented.rref()[0][:,-1]))\n",
    "X2Hat = N(augmented.rref()[0][:,-1])\n",
    "\n",
    "#y3\n",
    "X3TX = X3.T * X3\n",
    "X3Ty = X3.T * y\n",
    "\n",
    "augmented = X3TX.row_join(X3Ty)\n",
    "X3Hat = N(augmented.rref()[0][:,-1])\n",
    "display(X3hat)\n",
    "\n",
    "\n",
    "# (c) State, with substantiation, which of the three models is the best \f",
    "t for the measured data\n",
    "# use least squared errors\n",
    "\n",
    "display((y - X1 * X1Hat).norm())\n",
    "display((y - X2 * X2Hat).norm())\n",
    "display((y - X3 * X3Hat).norm()) # best fit, because this is lowest"
   ]
  },
  {
   "cell_type": "code",
   "execution_count": 125,
   "metadata": {},
   "outputs": [
    {
     "data": {
      "text/latex": [
       "$\\displaystyle \\left[ \\left( 0, \\  1, \\  \\left[ \\left[\\begin{matrix}- \\frac{1}{5}\\\\- \\frac{2}{5}\\\\1\\end{matrix}\\right]\\right]\\right), \\  \\left( 90, \\  1, \\  \\left[ \\left[\\begin{matrix}-2\\\\1\\\\0\\end{matrix}\\right]\\right]\\right), \\  \\left( 108, \\  1, \\  \\left[ \\left[\\begin{matrix}1\\\\2\\\\1\\end{matrix}\\right]\\right]\\right)\\right]$"
      ],
      "text/plain": [
       "⎡⎛      ⎡⎡-1/5⎤⎤⎞  ⎛       ⎡⎡-2⎤⎤⎞  ⎛        ⎡⎡1⎤⎤⎞⎤\n",
       "⎢⎜      ⎢⎢    ⎥⎥⎟  ⎜       ⎢⎢  ⎥⎥⎟  ⎜        ⎢⎢ ⎥⎥⎟⎥\n",
       "⎢⎜0, 1, ⎢⎢-2/5⎥⎥⎟, ⎜90, 1, ⎢⎢1 ⎥⎥⎟, ⎜108, 1, ⎢⎢2⎥⎥⎟⎥\n",
       "⎢⎜      ⎢⎢    ⎥⎥⎟  ⎜       ⎢⎢  ⎥⎥⎟  ⎜        ⎢⎢ ⎥⎥⎟⎥\n",
       "⎣⎝      ⎣⎣ 1  ⎦⎦⎠  ⎝       ⎣⎣0 ⎦⎦⎠  ⎝        ⎣⎣1⎦⎦⎠⎦"
      ]
     },
     "metadata": {},
     "output_type": "display_data"
    },
    {
     "data": {
      "text/latex": [
       "$\\displaystyle \\left[\\begin{matrix}9 & 3 & 3\\\\-3 & 9 & 3\\end{matrix}\\right]$"
      ],
      "text/plain": [
       "⎡9   3  3⎤\n",
       "⎢        ⎥\n",
       "⎣-3  9  3⎦"
      ]
     },
     "metadata": {},
     "output_type": "display_data"
    },
    {
     "data": {
      "text/latex": [
       "$\\displaystyle \\left[\\begin{matrix}9 & 3 & 3\\\\-3 & 9 & 3\\end{matrix}\\right]$"
      ],
      "text/plain": [
       "⎡9   3  3⎤\n",
       "⎢        ⎥\n",
       "⎣-3  9  3⎦"
      ]
     },
     "metadata": {},
     "output_type": "display_data"
    }
   ],
   "source": [
    "# Assignment 7\n",
    "A = Matrix([\n",
    "    [9,3,3],\n",
    "    [-3,9,3]\n",
    "])\n",
    "\n",
    "# (a) Do a full singular value decomposition of matrix A. This includes the following steps:\n",
    "AtA = A.T*A\n",
    "# (1)Finding the eigenvalues of either AtA\n",
    "vects = AtA.eigenvects()\n",
    "vals = AtA.eigenvals()\n",
    "display(vects)\n",
    "\n",
    "# S in decending order, as sqrt\n",
    "s1 = sqrt(vects[2][0])\n",
    "s2 = sqrt(vects[1][0])\n",
    "#s3 = sqrt(vects[0][0])\n",
    "\n",
    "# (2) Determining the corresponding eigenvectors\n",
    "v1 = vects[2][2][0].normalized()\n",
    "v2 = vects[1][2][0].normalized()\n",
    "#v3 = vects[0][2][0].normalized()\n",
    "\n",
    "# (3) Finding the columns of V and from this deriving the columns of U\n",
    "u1 = (s1**-1)*A*v1\n",
    "u2 = (s2**-1)*A*v2\n",
    "#u3 = (s3**-1)*A*v3\n",
    "U = u1.row_join(u2)\n",
    "\n",
    "# (4) Setting up A = USV^T   \n",
    "S = diag(s1,s2).col_join(zeros(0,2))\n",
    "V = v1.row_join(v2)\n",
    "VT = V.T\n",
    "\n",
    "# (5) Test A\n",
    "display(A)\n",
    "display(U*S*VT)\n",
    "\n",
    "\n",
    "# (b) Show that the columns of U are eigenvectors of AAT and determine the corresponding eigenvalues.\n"
   ]
  },
  {
   "cell_type": "code",
   "execution_count": null,
   "metadata": {},
   "outputs": [],
   "source": [
    "\n"
   ]
  },
  {
   "cell_type": "code",
   "execution_count": null,
   "metadata": {},
   "outputs": [],
   "source": []
  }
 ],
 "metadata": {
  "kernelspec": {
   "display_name": "Python 3",
   "language": "python",
   "name": "python3"
  },
  "language_info": {
   "codemirror_mode": {
    "name": "ipython",
    "version": 3
   },
   "file_extension": ".py",
   "mimetype": "text/x-python",
   "name": "python",
   "nbconvert_exporter": "python",
   "pygments_lexer": "ipython3",
   "version": "3.8.3"
  }
 },
 "nbformat": 4,
 "nbformat_minor": 4
}
