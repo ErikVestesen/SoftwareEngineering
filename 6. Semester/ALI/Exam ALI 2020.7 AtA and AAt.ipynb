{
 "cells": [
  {
   "cell_type": "code",
   "execution_count": 1,
   "metadata": {},
   "outputs": [],
   "source": [
    "#import numpy as np\n",
    "from sympy import *\n",
    "from IPython.display import display,HTML, Math\n",
    "import numpy as np\n",
    "init_printing()\n",
    "import math\n"
   ]
  },
  {
   "cell_type": "code",
   "execution_count": 2,
   "metadata": {},
   "outputs": [],
   "source": [
    "A = Matrix([\n",
    "    [2,0,0],\n",
    "    [0,2,1],\n",
    "    [0,1,2],\n",
    "    [0,0,0]\n",
    "])\n",
    "\n",
    "AtA = A.T*A\n",
    "vecs1 = AtA.eigenvects() # eigenvalues/vectors from AtA"
   ]
  },
  {
   "cell_type": "code",
   "execution_count": 3,
   "metadata": {},
   "outputs": [
    {
     "data": {
      "text/latex": [
       "$\\displaystyle \\left[ \\left( 1, \\  1, \\  \\left[ \\left[\\begin{matrix}0\\\\-1\\\\1\\end{matrix}\\right]\\right]\\right), \\  \\left( 4, \\  1, \\  \\left[ \\left[\\begin{matrix}1\\\\0\\\\0\\end{matrix}\\right]\\right]\\right), \\  \\left( 9, \\  1, \\  \\left[ \\left[\\begin{matrix}0\\\\1\\\\1\\end{matrix}\\right]\\right]\\right)\\right]$"
      ],
      "text/plain": [
       "⎡⎛      ⎡⎡0 ⎤⎤⎞  ⎛      ⎡⎡1⎤⎤⎞  ⎛      ⎡⎡0⎤⎤⎞⎤\n",
       "⎢⎜      ⎢⎢  ⎥⎥⎟  ⎜      ⎢⎢ ⎥⎥⎟  ⎜      ⎢⎢ ⎥⎥⎟⎥\n",
       "⎢⎜1, 1, ⎢⎢-1⎥⎥⎟, ⎜4, 1, ⎢⎢0⎥⎥⎟, ⎜9, 1, ⎢⎢1⎥⎥⎟⎥\n",
       "⎢⎜      ⎢⎢  ⎥⎥⎟  ⎜      ⎢⎢ ⎥⎥⎟  ⎜      ⎢⎢ ⎥⎥⎟⎥\n",
       "⎣⎝      ⎣⎣1 ⎦⎦⎠  ⎝      ⎣⎣0⎦⎦⎠  ⎝      ⎣⎣1⎦⎦⎠⎦"
      ]
     },
     "execution_count": 3,
     "metadata": {},
     "output_type": "execute_result"
    }
   ],
   "source": [
    "vecs1"
   ]
  },
  {
   "cell_type": "code",
   "execution_count": 5,
   "metadata": {},
   "outputs": [],
   "source": [
    "# We get the singular values\n",
    "s1 = sqrt(vecs1[2][0])\n",
    "s2 = sqrt(vecs1[1][0])\n",
    "s3 = sqrt(vecs1[0][0])"
   ]
  },
  {
   "cell_type": "code",
   "execution_count": 6,
   "metadata": {},
   "outputs": [],
   "source": [
    "# We get the eigenvectors from AtA\n",
    "v1 = vecs1[2][2][0].normalized()\n",
    "v2 = vecs1[1][2][0].normalized()\n",
    "v3 = vecs1[0][2][0].normalized()"
   ]
  },
  {
   "cell_type": "code",
   "execution_count": 20,
   "metadata": {},
   "outputs": [
    {
     "data": {
      "text/latex": [
       "$\\displaystyle \\left[\\begin{matrix}0 & 1 & 0 & 0\\\\\\frac{\\sqrt{2}}{2} & 0 & - \\frac{\\sqrt{2}}{2} & 0\\\\\\frac{\\sqrt{2}}{2} & 0 & \\frac{\\sqrt{2}}{2} & 0\\\\0 & 0 & 0 & 1\\end{matrix}\\right]$"
      ],
      "text/plain": [
       "⎡0   1   0    0⎤\n",
       "⎢              ⎥\n",
       "⎢√2     -√2    ⎥\n",
       "⎢──  0  ────  0⎥\n",
       "⎢2       2     ⎥\n",
       "⎢              ⎥\n",
       "⎢√2      √2    ⎥\n",
       "⎢──  0   ──   0⎥\n",
       "⎢2       2     ⎥\n",
       "⎢              ⎥\n",
       "⎣0   0   0    1⎦"
      ]
     },
     "metadata": {},
     "output_type": "display_data"
    }
   ],
   "source": [
    "# We derive U vectors from v1..v3\n",
    "u1 = (s1**-1)*A*v1\n",
    "u2 = (s2**-1)*A*v2\n",
    "u3 = (s3**-1)*A*v3\n",
    "U1 = u1.row_join(u2).row_join(u3)\n",
    "# We need one more vector in order to have 4 eigenhvalues\n",
    "\n",
    "ut = u1.T.col_join(u2.T).col_join(u3.T)\n",
    "\n",
    "u4 = ut.nullspace()[0].normalized()\n",
    "U = U1.row_join(u4)\n",
    "\n",
    "display(U)"
   ]
  },
  {
   "cell_type": "code",
   "execution_count": 25,
   "metadata": {},
   "outputs": [],
   "source": [
    "# We setup Vt\n",
    "V = v1.row_join(v2).row_join(v3)\n",
    "Vt = V.T"
   ]
  },
  {
   "cell_type": "code",
   "execution_count": 28,
   "metadata": {},
   "outputs": [
    {
     "data": {
      "text/latex": [
       "$\\displaystyle \\left[\\begin{matrix}3 & 0 & 0\\\\0 & 2 & 0\\\\0 & 0 & 1\\\\0 & 0 & 0\\end{matrix}\\right]$"
      ],
      "text/plain": [
       "⎡3  0  0⎤\n",
       "⎢       ⎥\n",
       "⎢0  2  0⎥\n",
       "⎢       ⎥\n",
       "⎢0  0  1⎥\n",
       "⎢       ⎥\n",
       "⎣0  0  0⎦"
      ]
     },
     "execution_count": 28,
     "metadata": {},
     "output_type": "execute_result"
    }
   ],
   "source": [
    "# Create S with same shape as A (4 x 3)\n",
    "S = diag(s1,s2,s3).col_join(zeros(1,3)) #adds 1 row with 3 columns\n",
    "S"
   ]
  },
  {
   "cell_type": "code",
   "execution_count": 30,
   "metadata": {},
   "outputs": [
    {
     "data": {
      "text/plain": [
       "True"
      ]
     },
     "execution_count": 30,
     "metadata": {},
     "output_type": "execute_result"
    }
   ],
   "source": [
    "A == U*S*Vt"
   ]
  },
  {
   "cell_type": "code",
   "execution_count": 33,
   "metadata": {},
   "outputs": [],
   "source": [
    "# Now lets try from AAt\n",
    "AAt = A*A.T\n",
    "vecs2 = AAt.eigenvects() # eigenvalues/vectors from AtA"
   ]
  },
  {
   "cell_type": "code",
   "execution_count": 34,
   "metadata": {},
   "outputs": [
    {
     "data": {
      "text/latex": [
       "$\\displaystyle \\left[ \\left( 0, \\  1, \\  \\left[ \\left[\\begin{matrix}0\\\\0\\\\0\\\\1\\end{matrix}\\right]\\right]\\right), \\  \\left( 1, \\  1, \\  \\left[ \\left[\\begin{matrix}0\\\\-1\\\\1\\\\0\\end{matrix}\\right]\\right]\\right), \\  \\left( 4, \\  1, \\  \\left[ \\left[\\begin{matrix}1\\\\0\\\\0\\\\0\\end{matrix}\\right]\\right]\\right), \\  \\left( 9, \\  1, \\  \\left[ \\left[\\begin{matrix}0\\\\1\\\\1\\\\0\\end{matrix}\\right]\\right]\\right)\\right]$"
      ],
      "text/plain": [
       "⎡⎛      ⎡⎡0⎤⎤⎞  ⎛      ⎡⎡0 ⎤⎤⎞  ⎛      ⎡⎡1⎤⎤⎞  ⎛      ⎡⎡0⎤⎤⎞⎤\n",
       "⎢⎜      ⎢⎢ ⎥⎥⎟  ⎜      ⎢⎢  ⎥⎥⎟  ⎜      ⎢⎢ ⎥⎥⎟  ⎜      ⎢⎢ ⎥⎥⎟⎥\n",
       "⎢⎜      ⎢⎢0⎥⎥⎟  ⎜      ⎢⎢-1⎥⎥⎟  ⎜      ⎢⎢0⎥⎥⎟  ⎜      ⎢⎢1⎥⎥⎟⎥\n",
       "⎢⎜0, 1, ⎢⎢ ⎥⎥⎟, ⎜1, 1, ⎢⎢  ⎥⎥⎟, ⎜4, 1, ⎢⎢ ⎥⎥⎟, ⎜9, 1, ⎢⎢ ⎥⎥⎟⎥\n",
       "⎢⎜      ⎢⎢0⎥⎥⎟  ⎜      ⎢⎢1 ⎥⎥⎟  ⎜      ⎢⎢0⎥⎥⎟  ⎜      ⎢⎢1⎥⎥⎟⎥\n",
       "⎢⎜      ⎢⎢ ⎥⎥⎟  ⎜      ⎢⎢  ⎥⎥⎟  ⎜      ⎢⎢ ⎥⎥⎟  ⎜      ⎢⎢ ⎥⎥⎟⎥\n",
       "⎣⎝      ⎣⎣1⎦⎦⎠  ⎝      ⎣⎣0 ⎦⎦⎠  ⎝      ⎣⎣0⎦⎦⎠  ⎝      ⎣⎣0⎦⎦⎠⎦"
      ]
     },
     "execution_count": 34,
     "metadata": {},
     "output_type": "execute_result"
    }
   ],
   "source": [
    "vecs2"
   ]
  },
  {
   "cell_type": "code",
   "execution_count": null,
   "metadata": {},
   "outputs": [],
   "source": [
    "# We get singular values\n",
    "s1 = sqrt(vecs1[3][0])\n",
    "s2 = sqrt(vecs1[2][0])\n",
    "s3 = sqrt(vecs1[1][0])"
   ]
  },
  {
   "cell_type": "code",
   "execution_count": 35,
   "metadata": {},
   "outputs": [
    {
     "data": {
      "text/latex": [
       "$\\displaystyle \\left[\\begin{matrix}0 & 1 & 0 & 0\\\\\\frac{\\sqrt{2}}{2} & 0 & - \\frac{\\sqrt{2}}{2} & 0\\\\\\frac{\\sqrt{2}}{2} & 0 & \\frac{\\sqrt{2}}{2} & 0\\\\0 & 0 & 0 & 1\\end{matrix}\\right]$"
      ],
      "text/plain": [
       "⎡0   1   0    0⎤\n",
       "⎢              ⎥\n",
       "⎢√2     -√2    ⎥\n",
       "⎢──  0  ────  0⎥\n",
       "⎢2       2     ⎥\n",
       "⎢              ⎥\n",
       "⎢√2      √2    ⎥\n",
       "⎢──  0   ──   0⎥\n",
       "⎢2       2     ⎥\n",
       "⎢              ⎥\n",
       "⎣0   0   0    1⎦"
      ]
     },
     "execution_count": 35,
     "metadata": {},
     "output_type": "execute_result"
    }
   ],
   "source": [
    "# We obtain all eigenvalues from AAt and construct U\n",
    "u1 = vecs2[3][2][0].normalized()\n",
    "u2 = vecs2[2][2][0].normalized()\n",
    "u3 = vecs2[1][2][0].normalized()\n",
    "u4 = vecs2[0][2][0].normalized()\n",
    "\n",
    "U = u1.row_join(u2).row_join(u3).row_join(u4)\n",
    "\n",
    "U"
   ]
  },
  {
   "cell_type": "code",
   "execution_count": 38,
   "metadata": {},
   "outputs": [],
   "source": [
    "# We construct v from u1...u3. only need to do from 1 to  3 because v only contains 3\n",
    "# Note the v's are the rows in Vt, e.g. v1t\n",
    "v1 = (s1**-1)*u1.T*A\n",
    "v2 = (s2**-1)*u2.T*A\n",
    "v3 = (s3**-1)*u3.T*A\n",
    "Vt = v1.col_join(v2).col_join(v3)"
   ]
  },
  {
   "cell_type": "code",
   "execution_count": 39,
   "metadata": {},
   "outputs": [],
   "source": [
    "# Let us construct S\n",
    "S = diag(s1,s2,s3).col_join(zeros(1,3)) #adds 1 row with 3 columns"
   ]
  },
  {
   "cell_type": "code",
   "execution_count": 40,
   "metadata": {},
   "outputs": [
    {
     "data": {
      "text/plain": [
       "True"
      ]
     },
     "execution_count": 40,
     "metadata": {},
     "output_type": "execute_result"
    }
   ],
   "source": [
    "A == U *S*Vt"
   ]
  }
 ],
 "metadata": {
  "kernelspec": {
   "display_name": "Python 3",
   "language": "python",
   "name": "python3"
  },
  "language_info": {
   "codemirror_mode": {
    "name": "ipython",
    "version": 3
   },
   "file_extension": ".py",
   "mimetype": "text/x-python",
   "name": "python",
   "nbconvert_exporter": "python",
   "pygments_lexer": "ipython3",
   "version": "3.8.3"
  }
 },
 "nbformat": 4,
 "nbformat_minor": 4
}
