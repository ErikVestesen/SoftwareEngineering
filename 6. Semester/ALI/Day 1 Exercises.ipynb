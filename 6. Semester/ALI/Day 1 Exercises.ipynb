{
 "cells": [
  {
   "cell_type": "code",
   "execution_count": 17,
   "metadata": {},
   "outputs": [],
   "source": [
    "#import numpy as np\n",
    "from sympy import *\n",
    "from IPython.display import display\n",
    "import numpy as np\n",
    "init_printing()"
   ]
  },
  {
   "cell_type": "code",
   "execution_count": 2,
   "metadata": {},
   "outputs": [
    {
     "data": {
      "text/html": [
       "\n",
       "        <script>\n",
       "            function code_toggle_1375364074554066798() {\n",
       "                $('div.cell.code_cell.rendered.selected').find('div.input').toggle();\n",
       "            }\n",
       "\n",
       "            \n",
       "        </script>\n",
       "\n",
       "        <a href=\"javascript:code_toggle_1375364074554066798()\">Toggle show/hide input</a>\n",
       "    "
      ],
      "text/plain": [
       "<IPython.core.display.HTML object>"
      ]
     },
     "execution_count": 2,
     "metadata": {},
     "output_type": "execute_result"
    }
   ],
   "source": [
    "from IPython.display import HTML\n",
    "import random\n",
    "\n",
    "def hide_toggle(for_next=False):\n",
    "    this_cell = \"\"\"$('div.cell.code_cell.rendered.selected')\"\"\"\n",
    "    next_cell = this_cell + '.next()'\n",
    "\n",
    "    toggle_text = 'Toggle show/hide input'  # text shown on toggle link\n",
    "    target_cell = this_cell  # target cell to control with toggle\n",
    "    js_hide_current = ''  # bit of JS to permanently hide code in current cell (only when toggling next cell)\n",
    "\n",
    "    if for_next:\n",
    "        target_cell = next_cell\n",
    "        toggle_text += ' next cell'\n",
    "        js_hide_current = this_cell + '.find(\"div.input\").hide();'\n",
    "\n",
    "    js_f_name = 'code_toggle_{}'.format(str(random.randint(1,2**64)))\n",
    "\n",
    "    html = \"\"\"\n",
    "        <script>\n",
    "            function {f_name}() {{\n",
    "                {cell_selector}.find('div.input').toggle();\n",
    "            }}\n",
    "\n",
    "            {js_hide_current}\n",
    "        </script>\n",
    "\n",
    "        <a href=\"javascript:{f_name}()\">{toggle_text}</a>\n",
    "    \"\"\".format(\n",
    "        f_name=js_f_name,\n",
    "        cell_selector=target_cell,\n",
    "        js_hide_current=js_hide_current, \n",
    "        toggle_text=toggle_text\n",
    "    )\n",
    "\n",
    "    return HTML(html)\n",
    "\n",
    "hide_toggle()"
   ]
  },
  {
   "cell_type": "markdown",
   "metadata": {},
   "source": [
    "## Indholdsfortegnelse:\n",
    "* [Exercises Day 1](#Exercises-Day-1)\n",
    "* [Second Bullet Header](#second-bullet)"
   ]
  },
  {
   "cell_type": "markdown",
   "metadata": {},
   "source": [
    "# Exercises-Day-1"
   ]
  },
  {
   "cell_type": "markdown",
   "metadata": {},
   "source": [
    "### Exercise 1.2\n"
   ]
  },
  {
   "cell_type": "markdown",
   "metadata": {},
   "source": [
    "Determine which matrices are in reduced echelon form and which other are only in echelon form."
   ]
  },
  {
   "cell_type": "markdown",
   "metadata": {},
   "source": [
    "#### 1.2.1"
   ]
  },
  {
   "cell_type": "code",
   "execution_count": 3,
   "metadata": {},
   "outputs": [
    {
     "data": {
      "text/plain": [
       "'(a)'"
      ]
     },
     "metadata": {},
     "output_type": "display_data"
    },
    {
     "data": {
      "text/latex": [
       "$\\displaystyle \\left[\\begin{matrix}1 & 0 & 0 & 0\\\\0 & 1 & 0 & 0\\\\0 & 0 & 1 & 1\\end{matrix}\\right]$"
      ],
      "text/plain": [
       "⎡1  0  0  0⎤\n",
       "⎢          ⎥\n",
       "⎢0  1  0  0⎥\n",
       "⎢          ⎥\n",
       "⎣0  0  1  1⎦"
      ]
     },
     "metadata": {},
     "output_type": "display_data"
    },
    {
     "data": {
      "text/plain": [
       "'Result: This is reduced echolon form.'"
      ]
     },
     "metadata": {},
     "output_type": "display_data"
    },
    {
     "data": {
      "text/plain": [
       "'(b)'"
      ]
     },
     "metadata": {},
     "output_type": "display_data"
    },
    {
     "data": {
      "text/latex": [
       "$\\displaystyle \\left[\\begin{matrix}1 & 0 & 1 & 0\\\\0 & 1 & 1 & 0\\\\0 & 0 & 0 & 1\\end{matrix}\\right]$"
      ],
      "text/plain": [
       "⎡1  0  1  0⎤\n",
       "⎢          ⎥\n",
       "⎢0  1  1  0⎥\n",
       "⎢          ⎥\n",
       "⎣0  0  0  1⎦"
      ]
     },
     "metadata": {},
     "output_type": "display_data"
    },
    {
     "data": {
      "text/plain": [
       "'Result: This is reduced echolon form.'"
      ]
     },
     "metadata": {},
     "output_type": "display_data"
    },
    {
     "data": {
      "text/plain": [
       "'(c)'"
      ]
     },
     "metadata": {},
     "output_type": "display_data"
    },
    {
     "data": {
      "text/latex": [
       "$\\displaystyle \\left[\\begin{matrix}1 & 0 & 0 & 0\\\\0 & 1 & 1 & 0\\\\0 & 0 & 0 & 0\\\\0 & 0 & 0 & 1\\end{matrix}\\right]$"
      ],
      "text/plain": [
       "⎡1  0  0  0⎤\n",
       "⎢          ⎥\n",
       "⎢0  1  1  0⎥\n",
       "⎢          ⎥\n",
       "⎢0  0  0  0⎥\n",
       "⎢          ⎥\n",
       "⎣0  0  0  1⎦"
      ]
     },
     "metadata": {},
     "output_type": "display_data"
    },
    {
     "data": {
      "text/plain": [
       "'Result: This is not a echelon form as it has an entire row of zeros that isnt in the buttom'"
      ]
     },
     "metadata": {},
     "output_type": "display_data"
    },
    {
     "data": {
      "text/plain": [
       "'(d)'"
      ]
     },
     "metadata": {},
     "output_type": "display_data"
    },
    {
     "data": {
      "text/latex": [
       "$\\displaystyle \\left[\\begin{matrix}1 & 1 & 0 & 1 & 1\\\\0 & 2 & 0 & 2 & 2\\\\0 & 0 & 0 & 3 & 3\\\\0 & 0 & 0 & 0 & 4\\end{matrix}\\right]$"
      ],
      "text/plain": [
       "⎡1  1  0  1  1⎤\n",
       "⎢             ⎥\n",
       "⎢0  2  0  2  2⎥\n",
       "⎢             ⎥\n",
       "⎢0  0  0  3  3⎥\n",
       "⎢             ⎥\n",
       "⎣0  0  0  0  4⎦"
      ]
     },
     "metadata": {},
     "output_type": "display_data"
    },
    {
     "data": {
      "text/plain": [
       "'Result: This is just echelon form, as every column with a leading entry has non-zero elements '"
      ]
     },
     "metadata": {},
     "output_type": "display_data"
    },
    {
     "data": {
      "text/html": [
       "\n",
       "        <script>\n",
       "            function code_toggle_11649539797704362284() {\n",
       "                $('div.cell.code_cell.rendered.selected').find('div.input').toggle();\n",
       "            }\n",
       "\n",
       "            \n",
       "        </script>\n",
       "\n",
       "        <a href=\"javascript:code_toggle_11649539797704362284()\">Toggle show/hide input</a>\n",
       "    "
      ],
      "text/plain": [
       "<IPython.core.display.HTML object>"
      ]
     },
     "execution_count": 3,
     "metadata": {},
     "output_type": "execute_result"
    }
   ],
   "source": [
    "A = Matrix([[1,0,0,0],[0,1,0,0],[0,0,1,1]])\n",
    "B = Matrix([[1,0,1,0],[0,1,1,0],[0,0,0,1]])\n",
    "C = Matrix([[1,0,0,0],[0,1,1,0],[0,0,0,0],[0,0,0,1]])\n",
    "D = Matrix([[1,1,0,1,1],[0,2,0,2,2],[0,0,0,3,3],[0,0,0,0,4]])\n",
    "display('(a)')\n",
    "display(A)\n",
    "display('Result: This is reduced echolon form.')\n",
    "display('(b)')\n",
    "display(B)\n",
    "display('Result: This is reduced echolon form.')\n",
    "display('(c)')\n",
    "display(C)\n",
    "display('Result: This is not a echelon form as it has an entire row of zeros that isnt in the buttom')\n",
    "display('(d)')\n",
    "display(D)\n",
    "display('Result: This is just echelon form, as every column with a leading entry has non-zero elements ')\n",
    "hide_toggle()"
   ]
  },
  {
   "cell_type": "markdown",
   "metadata": {},
   "source": [
    "#### 1.2.7\n"
   ]
  },
  {
   "cell_type": "markdown",
   "metadata": {},
   "source": [
    "Find the general solutions of the systems whose augmented matrices are given"
   ]
  },
  {
   "cell_type": "code",
   "execution_count": 15,
   "metadata": {},
   "outputs": [
    {
     "data": {
      "text/plain": [
       "'(a)'"
      ]
     },
     "metadata": {},
     "output_type": "display_data"
    },
    {
     "data": {
      "text/latex": [
       "$\\displaystyle \\left[\\begin{matrix}1 & 3 & 4 & 7\\\\3 & 9 & 7 & 6\\end{matrix}\\right]$"
      ],
      "text/plain": [
       "⎡1  3  4  7⎤\n",
       "⎢          ⎥\n",
       "⎣3  9  7  6⎦"
      ]
     },
     "metadata": {},
     "output_type": "display_data"
    },
    {
     "name": "stdout",
     "output_type": "stream",
     "text": [
      "Reducing to rref\n"
     ]
    },
    {
     "data": {
      "text/latex": [
       "$\\displaystyle \\left( \\left[\\begin{matrix}1 & 3 & 0 & -5\\\\0 & 0 & 1 & 3\\end{matrix}\\right], \\  \\left( 0, \\  2\\right)\\right)$"
      ],
      "text/plain": [
       "⎛⎡1  3  0  -5⎤        ⎞\n",
       "⎜⎢           ⎥, (0, 2)⎟\n",
       "⎝⎣0  0  1  3 ⎦        ⎠"
      ]
     },
     "metadata": {},
     "output_type": "display_data"
    },
    {
     "name": "stdout",
     "output_type": "stream",
     "text": [
      "x2 and x4 are free variables, as they have no pivot. Creating the parametric vector form\n"
     ]
    },
    {
     "data": {
      "text/html": [
       "\n",
       "        <script>\n",
       "            function code_toggle_6616609082091732238() {\n",
       "                $('div.cell.code_cell.rendered.selected').find('div.input').toggle();\n",
       "            }\n",
       "\n",
       "            \n",
       "        </script>\n",
       "\n",
       "        <a href=\"javascript:code_toggle_6616609082091732238()\">Toggle show/hide input</a>\n",
       "    "
      ],
      "text/plain": [
       "<IPython.core.display.HTML object>"
      ]
     },
     "execution_count": 15,
     "metadata": {},
     "output_type": "execute_result"
    }
   ],
   "source": [
    "A = Matrix([[1,3,4,7],[3,9,7,6]])\n",
    "display('(a)')\n",
    "display(A)\n",
    "print('Reducing to rref')\n",
    "Ar = A.rref()\n",
    "display(Ar)\n",
    "print('x2 and x4 are free variables, as they have no pivot. Creating the parametric vector form')\n",
    "\n",
    "hide_toggle()"
   ]
  },
  {
   "cell_type": "markdown",
   "metadata": {},
   "source": [
    "$\\left(\\begin{array}{@{}ccc|c@{}}\n",
    "     x_1\\\\\n",
    "     x_2\\\\\n",
    "     x_3\n",
    "\\end{array}\\right)\n",
    "=\n",
    "\\left(\\begin{array}{@{}ccc|c@{}}\n",
    "    -5 -3x_2\\\\\n",
    "    x_2  \\\\\n",
    "    3 \n",
    "\\end{array}\\right)\n",
    "=\n",
    "\\left(\\begin{array}{@{}ccc|c@{}}\n",
    "    -3 \\\\\n",
    "    0  \\\\\n",
    "    3 \n",
    "\\end{array}\\right)\n",
    "+\n",
    "x_2 \\cdot\n",
    "\\left(\\begin{array}{@{}ccc|c@{}}\n",
    "    -3\\\\\n",
    "    1  \\\\\n",
    "    0\n",
    "\\end{array}\\right)\n",
    "$"
   ]
  },
  {
   "cell_type": "code",
   "execution_count": 16,
   "metadata": {},
   "outputs": [
    {
     "data": {
      "text/plain": [
       "'(a)'"
      ]
     },
     "metadata": {},
     "output_type": "display_data"
    },
    {
     "data": {
      "text/latex": [
       "$\\displaystyle \\left[\\begin{matrix}1 & 3 & 4 & 7\\\\3 & 9 & 7 & 6\\end{matrix}\\right]$"
      ],
      "text/plain": [
       "⎡1  3  4  7⎤\n",
       "⎢          ⎥\n",
       "⎣3  9  7  6⎦"
      ]
     },
     "metadata": {},
     "output_type": "display_data"
    },
    {
     "name": "stdout",
     "output_type": "stream",
     "text": [
      "Reducing to rref\n"
     ]
    },
    {
     "data": {
      "text/latex": [
       "$\\displaystyle \\left( \\left[\\begin{matrix}1 & 3 & 0 & -5\\\\0 & 0 & 1 & 3\\end{matrix}\\right], \\  \\left( 0, \\  2\\right)\\right)$"
      ],
      "text/plain": [
       "⎛⎡1  3  0  -5⎤        ⎞\n",
       "⎜⎢           ⎥, (0, 2)⎟\n",
       "⎝⎣0  0  1  3 ⎦        ⎠"
      ]
     },
     "metadata": {},
     "output_type": "display_data"
    },
    {
     "name": "stdout",
     "output_type": "stream",
     "text": [
      "x2 and x4 are free variables, as they have no pivot. Creating the parametric vector form\n"
     ]
    },
    {
     "data": {
      "text/html": [
       "\n",
       "        <script>\n",
       "            function code_toggle_15009897590854471249() {\n",
       "                $('div.cell.code_cell.rendered.selected').find('div.input').toggle();\n",
       "            }\n",
       "\n",
       "            \n",
       "        </script>\n",
       "\n",
       "        <a href=\"javascript:code_toggle_15009897590854471249()\">Toggle show/hide input</a>\n",
       "    "
      ],
      "text/plain": [
       "<IPython.core.display.HTML object>"
      ]
     },
     "execution_count": 16,
     "metadata": {},
     "output_type": "execute_result"
    }
   ],
   "source": [
    "A = Matrix([[1,3,4,7],[3,9,7,6]])\n",
    "display('(a)')\n",
    "display(A)\n",
    "print('Reducing to rref')\n",
    "Ar = A.rref()\n",
    "display(Ar)\n",
    "print('x2 and x4 are free variables, as they have no pivot. Creating the parametric vector form')\n",
    "\n",
    "hide_toggle()"
   ]
  },
  {
   "cell_type": "code",
   "execution_count": 22,
   "metadata": {},
   "outputs": [
    {
     "data": {
      "text/latex": [
       "$\\displaystyle \\left[\\begin{matrix}5 & -1 & 2 & 7\\\\-2 & 6 & 9 & 0\\\\-7 & 5 & -3 & 7\\end{matrix}\\right]$"
      ],
      "text/plain": [
       "⎡5   -1  2   7⎤\n",
       "⎢             ⎥\n",
       "⎢-2  6   9   0⎥\n",
       "⎢             ⎥\n",
       "⎣-7  5   -3  7⎦"
      ]
     },
     "metadata": {},
     "output_type": "display_data"
    },
    {
     "data": {
      "text/latex": [
       "$\\displaystyle \\left( \\left[\\begin{matrix}1 & 0 & 0 & \\frac{42}{13}\\\\0 & 1 & 0 & \\frac{59}{13}\\\\0 & 0 & 1 & - \\frac{30}{13}\\end{matrix}\\right], \\  \\left( 0, \\  1, \\  2\\right)\\right)$"
      ],
      "text/plain": [
       "⎛⎡          42 ⎤           ⎞\n",
       "⎜⎢1  0  0   ── ⎥           ⎟\n",
       "⎜⎢          13 ⎥           ⎟\n",
       "⎜⎢             ⎥           ⎟\n",
       "⎜⎢          59 ⎥           ⎟\n",
       "⎜⎢0  1  0   ── ⎥, (0, 1, 2)⎟\n",
       "⎜⎢          13 ⎥           ⎟\n",
       "⎜⎢             ⎥           ⎟\n",
       "⎜⎢         -30 ⎥           ⎟\n",
       "⎜⎢0  0  1  ────⎥           ⎟\n",
       "⎝⎣          13 ⎦           ⎠"
      ]
     },
     "metadata": {},
     "output_type": "display_data"
    }
   ],
   "source": [
    "A = Matrix([[5,-1,2,7],[-2,6,9,0],[-7,5,-3,7]])\n",
    "display(A)\n",
    "display(A.rref())"
   ]
  },
  {
   "cell_type": "code",
   "execution_count": 21,
   "metadata": {},
   "outputs": [
    {
     "data": {
      "text/latex": [
       "$\\displaystyle \\left[\\begin{matrix}5\\\\-2\\\\-7\\end{matrix}\\right]$"
      ],
      "text/plain": [
       "⎡5 ⎤\n",
       "⎢  ⎥\n",
       "⎢-2⎥\n",
       "⎢  ⎥\n",
       "⎣-7⎦"
      ]
     },
     "execution_count": 21,
     "metadata": {},
     "output_type": "execute_result"
    }
   ],
   "source": [
    "A[:,0]"
   ]
  },
  {
   "cell_type": "code",
   "execution_count": 24,
   "metadata": {},
   "outputs": [
    {
     "data": {
      "text/latex": [
       "$\\displaystyle \\left( \\left[\\begin{matrix}1 & 0 & 0 & \\frac{245}{33}\\\\0 & 1 & 0 & - \\frac{41}{33}\\\\0 & 0 & 1 & - \\frac{2}{11}\\end{matrix}\\right], \\  \\left( 0, \\  1, \\  2\\right)\\right)$"
      ],
      "text/plain": [
       "⎛⎡          245 ⎤           ⎞\n",
       "⎜⎢1  0  0   ─── ⎥           ⎟\n",
       "⎜⎢           33 ⎥           ⎟\n",
       "⎜⎢              ⎥           ⎟\n",
       "⎜⎢         -41  ⎥, (0, 1, 2)⎟\n",
       "⎜⎢0  1  0  ──── ⎥           ⎟\n",
       "⎜⎢          33  ⎥           ⎟\n",
       "⎜⎢              ⎥           ⎟\n",
       "⎝⎣0  0  1  -2/11⎦           ⎠"
      ]
     },
     "execution_count": 24,
     "metadata": {},
     "output_type": "execute_result"
    }
   ],
   "source": [
    "A = Matrix([[1,-2,-6, 11], [0,3,7,-5], [1,-2,5,9]])\n",
    "A.rref()"
   ]
  },
  {
   "cell_type": "code",
   "execution_count": 41,
   "metadata": {},
   "outputs": [
    {
     "data": {
      "text/latex": [
       "$\\displaystyle \\left[\\begin{matrix}1 & 5 & -3 & -4\\\\-1 & -4 & 1 & 3\\\\-2 & -7 & 0 & h\\end{matrix}\\right]$"
      ],
      "text/plain": [
       "⎡1   5   -3  -4⎤\n",
       "⎢              ⎥\n",
       "⎢-1  -4  1   3 ⎥\n",
       "⎢              ⎥\n",
       "⎣-2  -7  0   h ⎦"
      ]
     },
     "metadata": {},
     "output_type": "display_data"
    },
    {
     "data": {
      "text/latex": [
       "$\\displaystyle \\left[\\begin{matrix}1 & 5 & -3 & -4\\\\0 & 1 & -2 & -1\\\\-2 & -7 & 0 & h\\end{matrix}\\right]$"
      ],
      "text/plain": [
       "⎡1   5   -3  -4⎤\n",
       "⎢              ⎥\n",
       "⎢0   1   -2  -1⎥\n",
       "⎢              ⎥\n",
       "⎣-2  -7  0   h ⎦"
      ]
     },
     "metadata": {},
     "output_type": "display_data"
    },
    {
     "data": {
      "text/latex": [
       "$\\displaystyle \\left[\\begin{matrix}1 & 5 & -3 & -4\\\\0 & 1 & -2 & -1\\\\0 & 3 & -6 & h - 8\\end{matrix}\\right]$"
      ],
      "text/plain": [
       "⎡1  5  -3   -4  ⎤\n",
       "⎢               ⎥\n",
       "⎢0  1  -2   -1  ⎥\n",
       "⎢               ⎥\n",
       "⎣0  3  -6  h - 8⎦"
      ]
     },
     "metadata": {},
     "output_type": "display_data"
    },
    {
     "data": {
      "text/latex": [
       "$\\displaystyle \\left[\\begin{matrix}1 & 5 & -3 & -4\\\\0 & 1 & -2 & -1\\\\0 & 0 & 0 & h - 5\\end{matrix}\\right]$"
      ],
      "text/plain": [
       "⎡1  5  -3   -4  ⎤\n",
       "⎢               ⎥\n",
       "⎢0  1  -2   -1  ⎥\n",
       "⎢               ⎥\n",
       "⎣0  0  0   h - 5⎦"
      ]
     },
     "metadata": {},
     "output_type": "display_data"
    }
   ],
   "source": [
    "h = Symbol('h')\n",
    "A = Matrix([[1,5,-3, -4], [-1,-4,1,3], [-2,-7,0,h]])\n",
    "display(A)\n",
    "A[1,:] = A[0,:]+A[1,:]\n",
    "display(A)\n",
    "A[2,:] = A[2,:]+2*A[0,:]\n",
    "display(A)\n",
    "A[2,:] = A[2,:]-3*A[1,:]\n",
    "display(A)"
   ]
  },
  {
   "cell_type": "code",
   "execution_count": 43,
   "metadata": {},
   "outputs": [
    {
     "data": {
      "text/latex": [
       "$\\displaystyle \\left[\\begin{matrix}2 & 1 & -3 & 0\\\\1 & -1 & 1 & 0\\\\-2 & 5 & -7 & 0\\end{matrix}\\right]$"
      ],
      "text/plain": [
       "⎡2   1   -3  0⎤\n",
       "⎢             ⎥\n",
       "⎢1   -1  1   0⎥\n",
       "⎢             ⎥\n",
       "⎣-2  5   -7  0⎦"
      ]
     },
     "metadata": {},
     "output_type": "display_data"
    },
    {
     "data": {
      "text/latex": [
       "$\\displaystyle \\left( \\left[\\begin{matrix}1 & 0 & - \\frac{2}{3} & 0\\\\0 & 1 & - \\frac{5}{3} & 0\\\\0 & 0 & 0 & 0\\end{matrix}\\right], \\  \\left( 0, \\  1\\right)\\right)$"
      ],
      "text/plain": [
       "⎛⎡1  0  -2/3  0⎤        ⎞\n",
       "⎜⎢             ⎥        ⎟\n",
       "⎜⎢0  1  -5/3  0⎥, (0, 1)⎟\n",
       "⎜⎢             ⎥        ⎟\n",
       "⎝⎣0  0   0    0⎦        ⎠"
      ]
     },
     "metadata": {},
     "output_type": "display_data"
    }
   ],
   "source": [
    "A = Matrix([[2,1,-3,0],[1,-1,1,0],[-2,5,-7,0]])\n",
    "display(A)\n",
    "display(A.rref())"
   ]
  },
  {
   "cell_type": "code",
   "execution_count": 46,
   "metadata": {},
   "outputs": [
    {
     "data": {
      "text/latex": [
       "$\\displaystyle \\left[\\begin{matrix}1 & 0 & 5 & 2\\\\-2 & 1 & -6 & -1\\\\0 & 2 & 8 & 6\\end{matrix}\\right]$"
      ],
      "text/plain": [
       "⎡1   0  5   2 ⎤\n",
       "⎢             ⎥\n",
       "⎢-2  1  -6  -1⎥\n",
       "⎢             ⎥\n",
       "⎣0   2  8   6 ⎦"
      ]
     },
     "metadata": {},
     "output_type": "display_data"
    },
    {
     "data": {
      "text/latex": [
       "$\\displaystyle \\left( \\left[\\begin{matrix}1 & 0 & 5 & 2\\\\0 & 1 & 4 & 3\\\\0 & 0 & 0 & 0\\end{matrix}\\right], \\  \\left( 0, \\  1\\right)\\right)$"
      ],
      "text/plain": [
       "⎛⎡1  0  5  2⎤        ⎞\n",
       "⎜⎢          ⎥        ⎟\n",
       "⎜⎢0  1  4  3⎥, (0, 1)⎟\n",
       "⎜⎢          ⎥        ⎟\n",
       "⎝⎣0  0  0  0⎦        ⎠"
      ]
     },
     "metadata": {},
     "output_type": "display_data"
    }
   ],
   "source": [
    "a1 = Matrix([1,-2,0])\n",
    "a2 = Matrix([0,1,2])\n",
    "a3 = Matrix([5,-6,8])\n",
    "b = Matrix([2,-1,6])\n",
    "A = a1.row_join(a2).row_join(a3).row_join(b)\n",
    "display(A)\n",
    "display(A.rref())"
   ]
  },
  {
   "cell_type": "code",
   "execution_count": 56,
   "metadata": {},
   "outputs": [],
   "source": [
    "u = Matrix([3,2,-4])\n",
    "v = Matrix([-6,1,7])\n",
    "w = Matrix([0,-5,2])\n",
    "z = Matrix([3,7,-5])"
   ]
  },
  {
   "cell_type": "code",
   "execution_count": 57,
   "metadata": {},
   "outputs": [
    {
     "data": {
      "text/latex": [
       "$\\displaystyle \\left( \\left[\\begin{matrix}1 & 0 & 3\\\\0 & 1 & 1\\\\0 & 0 & 0\\end{matrix}\\right], \\  \\left( 0, \\  1\\right)\\right)$"
      ],
      "text/plain": [
       "⎛⎡1  0  3⎤        ⎞\n",
       "⎜⎢       ⎥        ⎟\n",
       "⎜⎢0  1  1⎥, (0, 1)⎟\n",
       "⎜⎢       ⎥        ⎟\n",
       "⎝⎣0  0  0⎦        ⎠"
      ]
     },
     "execution_count": 57,
     "metadata": {},
     "output_type": "execute_result"
    }
   ],
   "source": [
    "# If they are Lineary independent, we will get the indenty matrix\n",
    "u.row_join(v).row_join(z).rref()"
   ]
  },
  {
   "cell_type": "code",
   "execution_count": 55,
   "metadata": {},
   "outputs": [
    {
     "data": {
      "text/latex": [
       "$\\displaystyle \\left( \\left[\\begin{matrix}1 & 0 & 0\\\\0 & 1 & 0\\\\0 & 0 & 1\\end{matrix}\\right], \\  \\left( 0, \\  1, \\  2\\right)\\right)$"
      ],
      "text/plain": [
       "⎛⎡1  0  0⎤           ⎞\n",
       "⎜⎢       ⎥           ⎟\n",
       "⎜⎢0  1  0⎥, (0, 1, 2)⎟\n",
       "⎜⎢       ⎥           ⎟\n",
       "⎝⎣0  0  1⎦           ⎠"
      ]
     },
     "execution_count": 55,
     "metadata": {},
     "output_type": "execute_result"
    }
   ],
   "source": [
    "u.row_join(v).row_join(z).rref()"
   ]
  },
  {
   "cell_type": "code",
   "execution_count": 62,
   "metadata": {},
   "outputs": [
    {
     "data": {
      "text/latex": [
       "$\\displaystyle \\left[\\begin{matrix}1 & 3 & -3 & 7 & 0\\\\0 & 1 & -4 & 5 & 0\\end{matrix}\\right]$"
      ],
      "text/plain": [
       "⎡1  3  -3  7  0⎤\n",
       "⎢              ⎥\n",
       "⎣0  1  -4  5  0⎦"
      ]
     },
     "metadata": {},
     "output_type": "display_data"
    },
    {
     "data": {
      "text/latex": [
       "$\\displaystyle \\left( \\left[\\begin{matrix}1 & 0 & 9 & -8 & 0\\\\0 & 1 & -4 & 5 & 0\\end{matrix}\\right], \\  \\left( 0, \\  1\\right)\\right)$"
      ],
      "text/plain": [
       "⎛⎡1  0  9   -8  0⎤        ⎞\n",
       "⎜⎢               ⎥, (0, 1)⎟\n",
       "⎝⎣0  1  -4  5   0⎦        ⎠"
      ]
     },
     "metadata": {},
     "output_type": "display_data"
    }
   ],
   "source": [
    "A = Matrix([[1,3,-3,7,0],[0,1,-4,5,0]])\n",
    "display(A)\n",
    "display(A.rref())"
   ]
  },
  {
   "cell_type": "code",
   "execution_count": 70,
   "metadata": {},
   "outputs": [],
   "source": [
    "h = Symbol('h')\n",
    "A = Matrix([[2,-2,4], [4,-6,7], [-2,2,h]])"
   ]
  },
  {
   "cell_type": "code",
   "execution_count": 71,
   "metadata": {},
   "outputs": [
    {
     "data": {
      "text/latex": [
       "$\\displaystyle \\left[\\begin{matrix}2 & -2 & 4\\\\0 & -4 & -2\\\\0 & 0 & 2 h + 8\\end{matrix}\\right]$"
      ],
      "text/plain": [
       "⎡2  -2     4   ⎤\n",
       "⎢              ⎥\n",
       "⎢0  -4    -2   ⎥\n",
       "⎢              ⎥\n",
       "⎣0  0   2⋅h + 8⎦"
      ]
     },
     "metadata": {},
     "output_type": "display_data"
    },
    {
     "data": {
      "text/latex": [
       "$\\displaystyle \\left( \\left[\\begin{matrix}1 & 0 & 0\\\\0 & 1 & 0\\\\0 & 0 & 1\\end{matrix}\\right], \\  \\left( 0, \\  1, \\  2\\right)\\right)$"
      ],
      "text/plain": [
       "⎛⎡1  0  0⎤           ⎞\n",
       "⎜⎢       ⎥           ⎟\n",
       "⎜⎢0  1  0⎥, (0, 1, 2)⎟\n",
       "⎜⎢       ⎥           ⎟\n",
       "⎝⎣0  0  1⎦           ⎠"
      ]
     },
     "metadata": {},
     "output_type": "display_data"
    }
   ],
   "source": [
    "display(A.echelon_form())\n",
    "display(A.rref())"
   ]
  },
  {
   "cell_type": "code",
   "execution_count": 73,
   "metadata": {},
   "outputs": [
    {
     "data": {
      "text/latex": [
       "$\\displaystyle \\left[\\begin{matrix}3 & -4 & 10 & 7 & -4\\\\-5 & -3 & -7 & -11 & 15\\\\4 & 3 & 5 & 2 & 1\\\\8 & -7 & 23 & 4 & 15\\end{matrix}\\right]$"
      ],
      "text/plain": [
       "⎡3   -4  10   7   -4⎤\n",
       "⎢                   ⎥\n",
       "⎢-5  -3  -7  -11  15⎥\n",
       "⎢                   ⎥\n",
       "⎢4   3   5    2   1 ⎥\n",
       "⎢                   ⎥\n",
       "⎣8   -7  23   4   15⎦"
      ]
     },
     "metadata": {},
     "output_type": "display_data"
    },
    {
     "data": {
      "text/latex": [
       "$\\displaystyle \\left[\\begin{matrix}3 & -4 & 10 & 7 & -4\\\\0 & -29 & 29 & 2 & 25\\\\0 & 0 & 0 & 588 & -1176\\\\0 & 0 & 0 & 0 & 0\\end{matrix}\\right]$"
      ],
      "text/plain": [
       "⎡3  -4   10   7    -4  ⎤\n",
       "⎢                      ⎥\n",
       "⎢0  -29  29   2    25  ⎥\n",
       "⎢                      ⎥\n",
       "⎢0   0   0   588  -1176⎥\n",
       "⎢                      ⎥\n",
       "⎣0   0   0    0     0  ⎦"
      ]
     },
     "metadata": {},
     "output_type": "display_data"
    },
    {
     "data": {
      "text/latex": [
       "$\\displaystyle \\left( \\left[\\begin{matrix}1 & 0 & 2 & 0 & 2\\\\0 & 1 & -1 & 0 & -1\\\\0 & 0 & 0 & 1 & -2\\\\0 & 0 & 0 & 0 & 0\\end{matrix}\\right], \\  \\left( 0, \\  1, \\  3\\right)\\right)$"
      ],
      "text/plain": [
       "⎛⎡1  0  2   0  2 ⎤           ⎞\n",
       "⎜⎢               ⎥           ⎟\n",
       "⎜⎢0  1  -1  0  -1⎥           ⎟\n",
       "⎜⎢               ⎥, (0, 1, 3)⎟\n",
       "⎜⎢0  0  0   1  -2⎥           ⎟\n",
       "⎜⎢               ⎥           ⎟\n",
       "⎝⎣0  0  0   0  0 ⎦           ⎠"
      ]
     },
     "metadata": {},
     "output_type": "display_data"
    }
   ],
   "source": [
    "A = Matrix([[3,-4,10,7,-4], [-5,-3,-7,-11,15], [4,3,5,2,1],[8,-7,23,4,15]])\n",
    "display(A)\n",
    "display(A.echelon_form())\n",
    "display(A.rref())"
   ]
  },
  {
   "cell_type": "code",
   "execution_count": 74,
   "metadata": {},
   "outputs": [],
   "source": [
    "A = Matrix([[3,-4,7,0], [-5,-3,-11,0],[4,3,2,0], [8,-7,4,0]])"
   ]
  },
  {
   "cell_type": "code",
   "execution_count": 92,
   "metadata": {},
   "outputs": [
    {
     "data": {
      "text/latex": [
       "$\\displaystyle \\left[\\begin{matrix}0 & 1 & -1\\\\3 & 0 & 2\\end{matrix}\\right]$"
      ],
      "text/plain": [
       "⎡0  1  -1⎤\n",
       "⎢        ⎥\n",
       "⎣3  0  2 ⎦"
      ]
     },
     "metadata": {},
     "output_type": "display_data"
    },
    {
     "data": {
      "text/latex": [
       "$\\displaystyle \\left( \\left[\\begin{matrix}1 & 0 & \\frac{2}{3}\\\\0 & 1 & -1\\end{matrix}\\right], \\  \\left( 0, \\  1\\right)\\right)$"
      ],
      "text/plain": [
       "⎛⎡1  0  2/3⎤        ⎞\n",
       "⎜⎢         ⎥, (0, 1)⎟\n",
       "⎝⎣0  1  -1 ⎦        ⎠"
      ]
     },
     "metadata": {},
     "output_type": "display_data"
    },
    {
     "data": {
      "text/plain": [
       "True"
      ]
     },
     "execution_count": 92,
     "metadata": {},
     "output_type": "execute_result"
    }
   ],
   "source": [
    "display(A)\n",
    "display(A.rref())\n",
    "B = A.rref()\n",
    "A.rref()[0].is_echelon"
   ]
  },
  {
   "cell_type": "code",
   "execution_count": 79,
   "metadata": {},
   "outputs": [
    {
     "data": {
      "text/latex": [
       "$\\displaystyle \\left[\\begin{matrix}3 & -4 & 10 & 7 & -4\\\\-5 & -3 & -7 & -11 & 15\\\\4 & 3 & 5 & 2 & 1\\\\8 & -7 & 23 & 4 & 15\\end{matrix}\\right]$"
      ],
      "text/plain": [
       "⎡3   -4  10   7   -4⎤\n",
       "⎢                   ⎥\n",
       "⎢-5  -3  -7  -11  15⎥\n",
       "⎢                   ⎥\n",
       "⎢4   3   5    2   1 ⎥\n",
       "⎢                   ⎥\n",
       "⎣8   -7  23   4   15⎦"
      ]
     },
     "metadata": {},
     "output_type": "display_data"
    },
    {
     "data": {
      "text/latex": [
       "$\\displaystyle \\left( \\left[\\begin{matrix}1 & 0 & 2 & 0 & 2\\\\0 & 1 & -1 & 0 & -1\\\\0 & 0 & 0 & 1 & -2\\\\0 & 0 & 0 & 0 & 0\\end{matrix}\\right], \\  \\left( 0, \\  1, \\  3\\right)\\right)$"
      ],
      "text/plain": [
       "⎛⎡1  0  2   0  2 ⎤           ⎞\n",
       "⎜⎢               ⎥           ⎟\n",
       "⎜⎢0  1  -1  0  -1⎥           ⎟\n",
       "⎜⎢               ⎥, (0, 1, 3)⎟\n",
       "⎜⎢0  0  0   1  -2⎥           ⎟\n",
       "⎜⎢               ⎥           ⎟\n",
       "⎝⎣0  0  0   0  0 ⎦           ⎠"
      ]
     },
     "metadata": {},
     "output_type": "display_data"
    }
   ],
   "source": [
    "A = Matrix([[3,-4,10,7,-4], [-5,-3,-7,-11,15], [4,3,5,2,1],[8,-7,23,4,15]])\n",
    "display(A)\n",
    "display(A.rref())"
   ]
  },
  {
   "cell_type": "code",
   "execution_count": 81,
   "metadata": {},
   "outputs": [
    {
     "data": {
      "text/latex": [
       "$\\displaystyle \\left[\\begin{matrix}3 & -4 & 10 & 7 & -4\\\\-5 & -3 & -7 & -11 & 15\\\\4 & 3 & 5 & 2 & 1\\\\8 & -7 & 23 & 4 & 15\\end{matrix}\\right]$"
      ],
      "text/plain": [
       "⎡3   -4  10   7   -4⎤\n",
       "⎢                   ⎥\n",
       "⎢-5  -3  -7  -11  15⎥\n",
       "⎢                   ⎥\n",
       "⎢4   3   5    2   1 ⎥\n",
       "⎢                   ⎥\n",
       "⎣8   -7  23   4   15⎦"
      ]
     },
     "metadata": {},
     "output_type": "display_data"
    },
    {
     "data": {
      "text/latex": [
       "$\\displaystyle \\left( \\left[\\begin{matrix}1 & 0 & 2 & 0 & 2\\\\0 & 1 & -1 & 0 & -1\\\\0 & 0 & 0 & 1 & -2\\\\0 & 0 & 0 & 0 & 0\\end{matrix}\\right], \\  \\left( 0, \\  1, \\  3\\right)\\right)$"
      ],
      "text/plain": [
       "⎛⎡1  0  2   0  2 ⎤           ⎞\n",
       "⎜⎢               ⎥           ⎟\n",
       "⎜⎢0  1  -1  0  -1⎥           ⎟\n",
       "⎜⎢               ⎥, (0, 1, 3)⎟\n",
       "⎜⎢0  0  0   1  -2⎥           ⎟\n",
       "⎜⎢               ⎥           ⎟\n",
       "⎝⎣0  0  0   0  0 ⎦           ⎠"
      ]
     },
     "metadata": {},
     "output_type": "display_data"
    },
    {
     "data": {
      "text/latex": [
       "$\\displaystyle \\left[\\begin{matrix}3 & -4 & 7\\\\-5 & -3 & -11\\\\4 & 3 & 2\\\\8 & -7 & 4\\end{matrix}\\right]$"
      ],
      "text/plain": [
       "⎡3   -4   7 ⎤\n",
       "⎢           ⎥\n",
       "⎢-5  -3  -11⎥\n",
       "⎢           ⎥\n",
       "⎢4   3    2 ⎥\n",
       "⎢           ⎥\n",
       "⎣8   -7   4 ⎦"
      ]
     },
     "metadata": {},
     "output_type": "display_data"
    }
   ],
   "source": [
    "A = Matrix([[3,-4,10,7,-4], [-5,-3,-7,-11,15], [4,3,5,2,1],[8,-7,23,4,15]])\n",
    "display(A)\n",
    "display(A.rref())\n",
    "B = A[:,0].row_join(A[:,1]).row_join(A[:,3])\n",
    "display(B)"
   ]
  },
  {
   "cell_type": "code",
   "execution_count": 83,
   "metadata": {},
   "outputs": [
    {
     "data": {
      "text/latex": [
       "$\\displaystyle \\left[\\begin{matrix}0 & 1 & -1\\\\3 & 0 & 2\\end{matrix}\\right]$"
      ],
      "text/plain": [
       "⎡0  1  -1⎤\n",
       "⎢        ⎥\n",
       "⎣3  0  2 ⎦"
      ]
     },
     "metadata": {},
     "output_type": "display_data"
    },
    {
     "data": {
      "text/latex": [
       "$\\displaystyle \\left[\\begin{matrix}1 & 0 & 0\\\\1 & 1 & 3\\end{matrix}\\right]$"
      ],
      "text/plain": [
       "⎡1  0  0⎤\n",
       "⎢       ⎥\n",
       "⎣1  1  3⎦"
      ]
     },
     "metadata": {},
     "output_type": "display_data"
    }
   ],
   "source": [
    "A = Matrix([[0,1,-1],[3,0,2]])\n",
    "B = Matrix([[1,0,0],[1,1,3]])\n",
    "display(A)\n",
    "display(B)"
   ]
  },
  {
   "cell_type": "code",
   "execution_count": 95,
   "metadata": {},
   "outputs": [
    {
     "data": {
      "text/latex": [
       "$\\displaystyle \\left[\\begin{matrix}-27 & -17\\\\5 & 1\\\\-53 & -58\\\\15 & 36\\end{matrix}\\right]$"
      ],
      "text/plain": [
       "⎡-27  -17⎤\n",
       "⎢        ⎥\n",
       "⎢ 5    1 ⎥\n",
       "⎢        ⎥\n",
       "⎢-53  -58⎥\n",
       "⎢        ⎥\n",
       "⎣15   36 ⎦"
      ]
     },
     "execution_count": 95,
     "metadata": {},
     "output_type": "execute_result"
    }
   ],
   "source": [
    "A = Matrix([[2,-5,0],[-1,3,-4],[6,-8,-7],[-3,0,9]])\n",
    "B = Matrix([[4,-6],[7,1], [3,2]])\n",
    "A*B"
   ]
  },
  {
   "cell_type": "code",
   "execution_count": 105,
   "metadata": {},
   "outputs": [
    {
     "data": {
      "text/latex": [
       "$\\displaystyle \\left( \\left[\\begin{matrix}1 & 0 & 0 & - \\frac{5}{3} & \\frac{2}{3} & - \\frac{1}{6}\\\\0 & 1 & 0 & \\frac{4}{3} & - \\frac{1}{3} & - \\frac{1}{6}\\\\0 & 0 & 1 & 0 & 0 & \\frac{1}{2}\\end{matrix}\\right], \\  \\left( 0, \\  1, \\  2\\right)\\right)$"
      ],
      "text/plain": [
       "⎛⎡1  0  0  -5/3  2/3   -1/6⎤           ⎞\n",
       "⎜⎢                         ⎥           ⎟\n",
       "⎜⎢0  1  0  4/3   -1/3  -1/6⎥, (0, 1, 2)⎟\n",
       "⎜⎢                         ⎥           ⎟\n",
       "⎝⎣0  0  1   0     0    1/2 ⎦           ⎠"
      ]
     },
     "execution_count": 105,
     "metadata": {},
     "output_type": "execute_result"
    }
   ],
   "source": [
    "A = Matrix([[1,2,1],[4,5,3],[0,0,2]])\n",
    "A.row_join(eye(A.shape[0])).rref()\n"
   ]
  },
  {
   "cell_type": "code",
   "execution_count": 107,
   "metadata": {},
   "outputs": [
    {
     "data": {
      "text/latex": [
       "$\\displaystyle \\left[\\begin{matrix}- \\frac{5}{3} & \\frac{2}{3} & - \\frac{1}{6}\\\\\\frac{4}{3} & - \\frac{1}{3} & - \\frac{1}{6}\\\\0 & 0 & \\frac{1}{2}\\end{matrix}\\right]$"
      ],
      "text/plain": [
       "⎡-5/3  2/3   -1/6⎤\n",
       "⎢                ⎥\n",
       "⎢4/3   -1/3  -1/6⎥\n",
       "⎢                ⎥\n",
       "⎣ 0     0    1/2 ⎦"
      ]
     },
     "execution_count": 107,
     "metadata": {},
     "output_type": "execute_result"
    }
   ],
   "source": [
    "Ainv = A.row_join(eye(A.shape[0])).rref()[0][:,3:]\n",
    "Ainv"
   ]
  },
  {
   "cell_type": "code",
   "execution_count": 108,
   "metadata": {},
   "outputs": [
    {
     "data": {
      "text/latex": [
       "$\\displaystyle \\left[\\begin{matrix}1 & 0 & 0\\\\0 & 1 & 0\\\\0 & 0 & 1\\end{matrix}\\right]$"
      ],
      "text/plain": [
       "⎡1  0  0⎤\n",
       "⎢       ⎥\n",
       "⎢0  1  0⎥\n",
       "⎢       ⎥\n",
       "⎣0  0  1⎦"
      ]
     },
     "execution_count": 108,
     "metadata": {},
     "output_type": "execute_result"
    }
   ],
   "source": [
    "A*Ainv"
   ]
  },
  {
   "cell_type": "code",
   "execution_count": 109,
   "metadata": {},
   "outputs": [
    {
     "data": {
      "text/latex": [
       "$\\displaystyle \\left[\\begin{matrix}- \\frac{5}{3} & \\frac{2}{3} & - \\frac{1}{6}\\\\\\frac{4}{3} & - \\frac{1}{3} & - \\frac{1}{6}\\\\0 & 0 & \\frac{1}{2}\\end{matrix}\\right]$"
      ],
      "text/plain": [
       "⎡-5/3  2/3   -1/6⎤\n",
       "⎢                ⎥\n",
       "⎢4/3   -1/3  -1/6⎥\n",
       "⎢                ⎥\n",
       "⎣ 0     0    1/2 ⎦"
      ]
     },
     "execution_count": 109,
     "metadata": {},
     "output_type": "execute_result"
    }
   ],
   "source": [
    "A.pow(-1)"
   ]
  },
  {
   "cell_type": "code",
   "execution_count": 134,
   "metadata": {},
   "outputs": [
    {
     "data": {
      "text/latex": [
       "$\\displaystyle \\left[\\begin{matrix}0 & 3 k + 6\\\\k + 2 & 0\\end{matrix}\\right]$"
      ],
      "text/plain": [
       "⎡  0    3⋅k + 6⎤\n",
       "⎢              ⎥\n",
       "⎣k + 2     0   ⎦"
      ]
     },
     "metadata": {},
     "output_type": "display_data"
    },
    {
     "data": {
      "text/latex": [
       "$\\displaystyle \\left[\\begin{matrix}0 & 0\\\\0 & 0\\end{matrix}\\right]$"
      ],
      "text/plain": [
       "⎡0  0⎤\n",
       "⎢    ⎥\n",
       "⎣0  0⎦"
      ]
     },
     "metadata": {},
     "output_type": "display_data"
    }
   ],
   "source": [
    "## Exam 2014 Assignment 2\n",
    "# What value(s) of k, if any, will make 𝐴𝐵 = 𝐵𝐴?\n",
    "k = Symbol('k')\n",
    "A = Matrix([[2,3],[-1,1]])\n",
    "B = Matrix([[1,9],[-3,k]])\n",
    "\n",
    "# AB-BA = 0\n",
    "display(A*B-B*A)\n",
    "\n",
    "# Set equation = 0 and isolate k\n",
    "# for k+2 = 0 => k = -2\n",
    "\n",
    "k = -2\n",
    "A = Matrix([[2,3],[-1,1]])\n",
    "B = Matrix([[1,9],[-3,k]])\n",
    "display(A*B-B*A)\n",
    "\n"
   ]
  },
  {
   "cell_type": "code",
   "execution_count": 135,
   "metadata": {},
   "outputs": [
    {
     "data": {
      "text/latex": [
       "$\\displaystyle \\left[\\begin{matrix}1 & -5 & 3\\\\0 & 7 & -14\\\\0 & 0 & 7 k - 21\\end{matrix}\\right]$"
      ],
      "text/plain": [
       "⎡1  -5     3    ⎤\n",
       "⎢               ⎥\n",
       "⎢0  7     -14   ⎥\n",
       "⎢               ⎥\n",
       "⎣0  0   7⋅k - 21⎦"
      ]
     },
     "execution_count": 135,
     "metadata": {},
     "output_type": "execute_result"
    }
   ],
   "source": [
    "# For what value(s) of k are the columns of the following matrix linearly dependent?\n",
    "k = Symbol('k')\n",
    "A = Matrix([[1,-5,3], [3,-8,-5], [-1,2,k]])\n",
    "A.echelon_form()\n",
    "# Når k = 3, så er den linearly dependent"
   ]
  },
  {
   "cell_type": "code",
   "execution_count": null,
   "metadata": {},
   "outputs": [],
   "source": [
    "# Find the value(s) of k for which the matrix A  is singular (i.e. not invertible).\n"
   ]
  }
 ],
 "metadata": {
  "kernelspec": {
   "display_name": "Python 3",
   "language": "python",
   "name": "python3"
  },
  "language_info": {
   "codemirror_mode": {
    "name": "ipython",
    "version": 3
   },
   "file_extension": ".py",
   "mimetype": "text/x-python",
   "name": "python",
   "nbconvert_exporter": "python",
   "pygments_lexer": "ipython3",
   "version": "3.8.3"
  }
 },
 "nbformat": 4,
 "nbformat_minor": 4
}
