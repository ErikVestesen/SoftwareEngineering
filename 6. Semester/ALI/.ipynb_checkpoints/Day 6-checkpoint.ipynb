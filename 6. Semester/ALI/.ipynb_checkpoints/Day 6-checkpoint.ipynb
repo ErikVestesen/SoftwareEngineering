{
 "cells": [
  {
   "cell_type": "code",
   "execution_count": 90,
   "metadata": {},
   "outputs": [],
   "source": [
    "#import numpy as np\n",
    "from sympy import *\n",
    "from IPython.display import display\n",
    "import numpy as np\n",
    "init_printing()\n",
    "import math\n"
   ]
  },
  {
   "cell_type": "code",
   "execution_count": 3,
   "metadata": {},
   "outputs": [
    {
     "data": {
      "text/latex": [
       "$\\displaystyle \\left[ \\left[\\begin{matrix}- \\frac{1}{2}\\\\- \\frac{3}{4}\\\\1\\\\0\\end{matrix}\\right], \\  \\left[\\begin{matrix}-1\\\\- \\frac{5}{2}\\\\0\\\\1\\end{matrix}\\right]\\right]$"
      ],
      "text/plain": [
       "⎡⎡-1/2⎤  ⎡ -1 ⎤⎤\n",
       "⎢⎢    ⎥  ⎢    ⎥⎥\n",
       "⎢⎢-3/4⎥  ⎢-5/2⎥⎥\n",
       "⎢⎢    ⎥, ⎢    ⎥⎥\n",
       "⎢⎢ 1  ⎥  ⎢ 0  ⎥⎥\n",
       "⎢⎢    ⎥  ⎢    ⎥⎥\n",
       "⎣⎣ 0  ⎦  ⎣ 1  ⎦⎦"
      ]
     },
     "execution_count": 3,
     "metadata": {},
     "output_type": "execute_result"
    }
   ],
   "source": [
    "# Exam 2016 assignment 2\n",
    "A = Matrix([\n",
    "    [-1,2,1,4],\n",
    "    [1,2,2,6]\n",
    "])\n",
    "A.rref()\n",
    "\n",
    "A.nullspace()"
   ]
  },
  {
   "cell_type": "code",
   "execution_count": 22,
   "metadata": {},
   "outputs": [
    {
     "data": {
      "image/png": "[encoded data removed]",
      "text/latex": [
       "$\\displaystyle 2 a + λ^{2} + λ \\left(- a - 2\\right) - 2$"
      ],
      "text/plain": [
       "       2                 \n",
       "2⋅a + λ  + λ⋅(-a - 2) - 2"
      ]
     },
     "metadata": {},
     "output_type": "display_data"
    },
    {
     "data": {
      "image/png": "[encoded data removed]",
      "text/latex": [
       "$\\displaystyle 3$"
      ],
      "text/plain": [
       "3"
      ]
     },
     "metadata": {},
     "output_type": "display_data"
    },
    {
     "data": {
      "text/latex": [
       "$\\displaystyle \\left[ \\left( 1, \\  1, \\  \\left[ \\left[\\begin{matrix}-1\\\\1\\end{matrix}\\right]\\right]\\right), \\  \\left( 4, \\  1, \\  \\left[ \\left[\\begin{matrix}2\\\\1\\end{matrix}\\right]\\right]\\right)\\right]$"
      ],
      "text/plain": [
       "⎡⎛      ⎡⎡-1⎤⎤⎞  ⎛      ⎡⎡2⎤⎤⎞⎤\n",
       "⎢⎜1, 1, ⎢⎢  ⎥⎥⎟, ⎜4, 1, ⎢⎢ ⎥⎥⎟⎥\n",
       "⎣⎝      ⎣⎣1 ⎦⎦⎠  ⎝      ⎣⎣1⎦⎦⎠⎦"
      ]
     },
     "execution_count": 22,
     "metadata": {},
     "output_type": "execute_result"
    }
   ],
   "source": [
    "# Exam 2016 assignment 3\n",
    "a, l = symbols('a \\u03bb')\n",
    "A = Matrix([\n",
    "    [a,2],\n",
    "    [1,2]\n",
    "])\n",
    "\n",
    "# (a) Express the eigenvalues of A as a function of a\n",
    "display(A.charpoly(l).as_expr())\n",
    "\n",
    "# (b) Calculate a so that lambda = 4 is an eigenvalue of A\n",
    "a_res =solve(2*a+4**2+4*(-a-2)-2,a)[0]\n",
    "# result is 3\n",
    "display(a_res)\n",
    "\n",
    "# (c) Using the value of a found in (b), determine the remaining eigenvalues(s) and the eigenspaces\n",
    "A = Matrix([\n",
    "    [a_res,2],\n",
    "    [1,2]\n",
    "])\n",
    "A.eigenvects()"
   ]
  },
  {
   "cell_type": "code",
   "execution_count": 24,
   "metadata": {},
   "outputs": [
    {
     "data": {
      "text/latex": [
       "$\\displaystyle \\left[ \\left[\\begin{matrix}0\\\\1\\\\0\\end{matrix}\\right]\\right]$"
      ],
      "text/plain": [
       "⎡⎡0⎤⎤\n",
       "⎢⎢ ⎥⎥\n",
       "⎢⎢1⎥⎥\n",
       "⎢⎢ ⎥⎥\n",
       "⎣⎣0⎦⎦"
      ]
     },
     "metadata": {},
     "output_type": "display_data"
    },
    {
     "data": {
      "text/latex": [
       "$\\displaystyle \\left[ \\left[\\begin{matrix}- \\frac{1}{2}\\\\1\\\\1\\end{matrix}\\right]\\right]$"
      ],
      "text/plain": [
       "⎡⎡-1/2⎤⎤\n",
       "⎢⎢    ⎥⎥\n",
       "⎢⎢ 1  ⎥⎥\n",
       "⎢⎢    ⎥⎥\n",
       "⎣⎣ 1  ⎦⎦"
      ]
     },
     "metadata": {},
     "output_type": "display_data"
    },
    {
     "data": {
      "text/latex": [
       "$\\displaystyle \\left[ \\left[\\begin{matrix}-1\\\\1\\\\1\\end{matrix}\\right]\\right]$"
      ],
      "text/plain": [
       "⎡⎡-1⎤⎤\n",
       "⎢⎢  ⎥⎥\n",
       "⎢⎢1 ⎥⎥\n",
       "⎢⎢  ⎥⎥\n",
       "⎣⎣1 ⎦⎦"
      ]
     },
     "metadata": {},
     "output_type": "display_data"
    }
   ],
   "source": [
    "A = Matrix([\n",
    "    [4,0,1],\n",
    "    [-2,1,0],\n",
    "    [-2,0,1]\n",
    "])\n",
    "\n",
    "# 5.1.13\n",
    "\n",
    "display((A-1*eye(A.shape[0])).nullspace())\n",
    "display((A-2*eye(A.shape[0])).nullspace())\n",
    "display((A-3*eye(A.shape[0])).nullspace())"
   ]
  },
  {
   "cell_type": "code",
   "execution_count": 27,
   "metadata": {},
   "outputs": [
    {
     "data": {
      "image/png": "[encoded data removed]",
      "text/latex": [
       "$\\displaystyle \\left[ - \\frac{2}{5}, \\  3\\right]$"
      ],
      "text/plain": [
       "[-2/5, 3]"
      ]
     },
     "execution_count": 27,
     "metadata": {},
     "output_type": "execute_result"
    }
   ],
   "source": [
    "a = Symbol('a')\n",
    "solve(39*a-15*a**2+18,a)"
   ]
  },
  {
   "cell_type": "code",
   "execution_count": 45,
   "metadata": {},
   "outputs": [
    {
     "data": {
      "image/png": "[encoded data removed]",
      "text/latex": [
       "$\\displaystyle 0$"
      ],
      "text/plain": [
       "0"
      ]
     },
     "metadata": {},
     "output_type": "display_data"
    },
    {
     "data": {
      "image/png": "[encoded data removed]",
      "text/latex": [
       "$\\displaystyle 0$"
      ],
      "text/plain": [
       "0"
      ]
     },
     "metadata": {},
     "output_type": "display_data"
    },
    {
     "data": {
      "image/png": "[encoded data removed]",
      "text/latex": [
       "$\\displaystyle 0$"
      ],
      "text/plain": [
       "0"
      ]
     },
     "metadata": {},
     "output_type": "display_data"
    },
    {
     "data": {
      "text/latex": [
       "$\\displaystyle \\left[\\begin{matrix}4\\\\-6\\\\1\\end{matrix}\\right]$"
      ],
      "text/plain": [
       "⎡4 ⎤\n",
       "⎢  ⎥\n",
       "⎢-6⎥\n",
       "⎢  ⎥\n",
       "⎣1 ⎦"
      ]
     },
     "metadata": {},
     "output_type": "display_data"
    },
    {
     "data": {
      "text/latex": [
       "$\\displaystyle \\left[\\begin{matrix}4\\\\2\\\\-4\\end{matrix}\\right]$"
      ],
      "text/plain": [
       "⎡4 ⎤\n",
       "⎢  ⎥\n",
       "⎢2 ⎥\n",
       "⎢  ⎥\n",
       "⎣-4⎦"
      ]
     },
     "metadata": {},
     "output_type": "display_data"
    },
    {
     "data": {
      "text/latex": [
       "$\\displaystyle \\left[\\begin{matrix}8\\\\-4\\\\-3\\end{matrix}\\right]$"
      ],
      "text/plain": [
       "⎡8 ⎤\n",
       "⎢  ⎥\n",
       "⎢-4⎥\n",
       "⎢  ⎥\n",
       "⎣-3⎦"
      ]
     },
     "metadata": {},
     "output_type": "display_data"
    }
   ],
   "source": [
    "# 2016.4 \n",
    "# (a) Show that u1,u2,u3 is a linearly independent set\n",
    "\n",
    "u1 = Matrix([1,0,1])\n",
    "u2 = Matrix([-1,4,1])\n",
    "u3 = Matrix([2,1,-2])\n",
    "x = Matrix([8,-4,-3])\n",
    "\n",
    "A = u1.row_join(u2).row_join(u3)\n",
    "A.rref()\n",
    "# Result:has pivots in all columns, then it is a linearly independent set\n",
    "\n",
    "\n",
    "# (b) Show that u1,u2,u3 is an orthogonal basis R3\n",
    "\n",
    "display(u1.dot(u2))\n",
    "display(u1.dot(u3))\n",
    "display(u2.dot(u3))\n",
    "\n",
    "# Result: Because they are all 0, then they are all orthogonal.\n",
    "\n",
    "# (c) Express x as the sum of two vectors, one in span(u1,2) \n",
    "# and the other in span(u3)\n",
    "v1 = x.project(u1)+x.project(u2)\n",
    "v2 = x.project(u3)\n",
    "\n",
    "display(v1)\n",
    "display(v2)\n",
    "display(v1+v2)\n",
    "# result is the result vector"
   ]
  },
  {
   "cell_type": "code",
   "execution_count": 86,
   "metadata": {},
   "outputs": [
    {
     "data": {
      "text/latex": [
       "$\\displaystyle \\left[\\begin{matrix}3 & 2 & 2\\\\2 & 5 & 2\\\\2 & 2 & -1\\end{matrix}\\right]$"
      ],
      "text/plain": [
       "⎡3  2  2 ⎤\n",
       "⎢        ⎥\n",
       "⎢2  5  2 ⎥\n",
       "⎢        ⎥\n",
       "⎣2  2  -1⎦"
      ]
     },
     "metadata": {},
     "output_type": "display_data"
    },
    {
     "data": {
      "image/png": "[encoded data removed]",
      "text/latex": [
       "$\\displaystyle 3$"
      ],
      "text/plain": [
       "3"
      ]
     },
     "metadata": {},
     "output_type": "display_data"
    },
    {
     "data": {
      "text/latex": [
       "$\\displaystyle \\left[ \\left[\\begin{matrix}1\\\\1\\\\1\\end{matrix}\\right]\\right]$"
      ],
      "text/plain": [
       "⎡⎡1⎤⎤\n",
       "⎢⎢ ⎥⎥\n",
       "⎢⎢1⎥⎥\n",
       "⎢⎢ ⎥⎥\n",
       "⎣⎣1⎦⎦"
      ]
     },
     "metadata": {},
     "output_type": "display_data"
    },
    {
     "data": {
      "text/latex": [
       "$\\displaystyle \\left[ \\left[\\begin{matrix}-1\\\\1\\\\0\\end{matrix}\\right], \\  \\left[\\begin{matrix}-1\\\\0\\\\1\\end{matrix}\\right]\\right]$"
      ],
      "text/plain": [
       "⎡⎡-1⎤  ⎡-1⎤⎤\n",
       "⎢⎢  ⎥  ⎢  ⎥⎥\n",
       "⎢⎢1 ⎥, ⎢0 ⎥⎥\n",
       "⎢⎢  ⎥  ⎢  ⎥⎥\n",
       "⎣⎣0 ⎦  ⎣1 ⎦⎦"
      ]
     },
     "metadata": {},
     "output_type": "display_data"
    },
    {
     "data": {
      "image/png": "[encoded data removed]",
      "text/latex": [
       "$\\displaystyle \\lambda^{3} - 3 \\lambda^{2}$"
      ],
      "text/plain": [
       " 3      2\n",
       "λ  - 3⋅λ "
      ]
     },
     "metadata": {},
     "output_type": "display_data"
    },
    {
     "data": {
      "image/png": "[encoded data removed]",
      "text/latex": [
       "$\\displaystyle \\left\\{ 0 : 2, \\  3 : 1\\right\\}$"
      ],
      "text/plain": [
       "{0: 2, 3: 1}"
      ]
     },
     "execution_count": 86,
     "metadata": {},
     "output_type": "execute_result"
    }
   ],
   "source": [
    "# Re exam 2016.2\n",
    "A = Matrix([\n",
    "    [1,0,0],\n",
    "    [0,3,0],\n",
    "    [0,0,-3]\n",
    "])\n",
    "\n",
    "B = Matrix([\n",
    "    [1,1,1],\n",
    "    [1,1,1],\n",
    "    [1,1,1]\n",
    "])\n",
    "\n",
    "# (a) Solve the matrix equation X + A = 2(X-B)\n",
    "# rewrite the equation to X+A = 2X-2B\n",
    "# A = X-2B\n",
    "# A +2B = X\n",
    "display(A+2*B)\n",
    "a,b,x = symbols('a b x')\n",
    "solve(x+a - 2*(x-b), x)\n",
    "# (b) Determine the rank and the nullity of A( nullity is the dimension of nul A)\n",
    "display(A.rank())\n",
    "#  result: the nullity of A is 0 \n",
    "\n",
    "# (c) Determine the rank and the nullity of B and find a basis\n",
    "# for ColB and a basis for Null B\n",
    "\n",
    "B.rank() # 1\n",
    "B.nullspace() # nullity is 2\n",
    "display(B.columnspace())\n",
    "display(B.nullspace())\n",
    "# (d) \n",
    "# the characteristic polynomial of B\n",
    "display(B.charpoly().as_expr())\n",
    "\n",
    "# the eigenvalues of B\n",
    "B.eigenvals()"
   ]
  },
  {
   "cell_type": "code",
   "execution_count": 88,
   "metadata": {},
   "outputs": [
    {
     "data": {
      "image/png": "[encoded data removed]",
      "text/latex": [
       "$\\displaystyle 5$"
      ],
      "text/plain": [
       "5"
      ]
     },
     "metadata": {},
     "output_type": "display_data"
    },
    {
     "data": {
      "image/png": "[encoded data removed]",
      "text/latex": [
       "$\\displaystyle 8$"
      ],
      "text/plain": [
       "8"
      ]
     },
     "metadata": {},
     "output_type": "display_data"
    },
    {
     "data": {
      "image/png": "[encoded data removed]",
      "text/latex": [
       "$\\displaystyle \\frac{8}{5}$"
      ],
      "text/plain": [
       "8/5"
      ]
     },
     "metadata": {},
     "output_type": "display_data"
    }
   ],
   "source": [
    "u = Matrix([-1,2])\n",
    "v = Matrix([4,6])\n",
    "\n",
    "uu = u.dot(u)\n",
    "vu = v.dot(u)\n",
    "\n",
    "display(uu)\n",
    "display(vu)\n",
    "display(vu/uu)"
   ]
  },
  {
   "cell_type": "code",
   "execution_count": 107,
   "metadata": {},
   "outputs": [
    {
     "data": {
      "text/latex": [
       "$\\displaystyle \\left[\\begin{matrix}0.842700971600384\\\\0.240771706171538\\\\0.481543412343077\\end{matrix}\\right]$"
      ],
      "text/plain": [
       "⎡0.842700971600384⎤\n",
       "⎢                 ⎥\n",
       "⎢0.240771706171538⎥\n",
       "⎢                 ⎥\n",
       "⎣0.481543412343077⎦"
      ]
     },
     "metadata": {},
     "output_type": "display_data"
    },
    {
     "data": {
      "text/latex": [
       "$\\displaystyle \\left[\\begin{matrix}0.842700971600384\\\\0.240771706171538\\\\0.481543412343077\\end{matrix}\\right]$"
      ],
      "text/plain": [
       "⎡0.842700971600384⎤\n",
       "⎢                 ⎥\n",
       "⎢0.240771706171538⎥\n",
       "⎢                 ⎥\n",
       "⎣0.481543412343077⎦"
      ]
     },
     "metadata": {},
     "output_type": "display_data"
    }
   ],
   "source": [
    "A = Matrix([7/4, 1/2, 1])\n",
    "display(A/A.norm())\n",
    "\n",
    "res = Matrix([7/math.sqrt(69), 2/math.sqrt(69), 4/math.sqrt(69)])\n",
    "display(res)"
   ]
  },
  {
   "cell_type": "code",
   "execution_count": 109,
   "metadata": {},
   "outputs": [
    {
     "data": {
      "image/png": "[encoded data removed]",
      "text/latex": [
       "$\\displaystyle 5 \\sqrt{5}$"
      ],
      "text/plain": [
       "5⋅√5"
      ]
     },
     "execution_count": 109,
     "metadata": {},
     "output_type": "execute_result"
    }
   ],
   "source": [
    "x = Matrix([10,-3])\n",
    "y = Matrix([-1,-5])\n",
    "\n",
    "(x-y).norm()\n",
    "\n"
   ]
  },
  {
   "cell_type": "code",
   "execution_count": 115,
   "metadata": {},
   "outputs": [
    {
     "data": {
      "text/plain": [
       "'109.00'"
      ]
     },
     "execution_count": 115,
     "metadata": {},
     "output_type": "execute_result"
    }
   ],
   "source": [
    "def to_whole(input):\n",
    "    return \"{:.2f}\".format(input*input)\n",
    "\n",
    "\n",
    "to_whole(10.4403065)"
   ]
  }
 ],
 "metadata": {
  "kernelspec": {
   "display_name": "Python 3",
   "language": "python",
   "name": "python3"
  },
  "language_info": {
   "codemirror_mode": {
    "name": "ipython",
    "version": 3
   },
   "file_extension": ".py",
   "mimetype": "text/x-python",
   "name": "python",
   "nbconvert_exporter": "python",
   "pygments_lexer": "ipython3",
   "version": "3.8.3"
  }
 },
 "nbformat": 4,
 "nbformat_minor": 4
}
