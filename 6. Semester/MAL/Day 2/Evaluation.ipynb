{
 "cells": [
  {
   "cell_type": "code",
   "execution_count": 2,
   "metadata": {},
   "outputs": [],
   "source": [
    "import mglearn\n",
    "%matplotlib inline\n",
    "import numpy as np\n",
    "import matplotlib.pyplot as plt\n",
    "import pandas as pd\n",
    "from IPython.display import display\n",
    "from sklearn.model_selection import train_test_split\n",
    "import scipy as scipy\n",
    "import seaborn as sns"
   ]
  },
  {
   "cell_type": "markdown",
   "metadata": {
    "collapsed": true
   },
   "source": [
    "# Cross validation for evaluation\n",
    "\n",
    "Benefits of cross validation:\n",
    "* Uses the data more effectively than when using a standard training and test division\n",
    "* More robust (with train-test division you may get (un)lucky)\n",
    "* Gives insight into the sensitivity of the model\n",
    "\n",
    "Disadvantage:\n",
    "* Computational cost"
   ]
  },
  {
   "cell_type": "markdown",
   "metadata": {},
   "source": [
    "## Example"
   ]
  },
  {
   "cell_type": "code",
   "execution_count": 3,
   "metadata": {},
   "outputs": [],
   "source": [
    "from sklearn.datasets import load_breast_cancer\n",
    "cancer = load_breast_cancer()"
   ]
  },
  {
   "cell_type": "markdown",
   "metadata": {},
   "source": [
    "### Using a decision tree"
   ]
  },
  {
   "cell_type": "code",
   "execution_count": 4,
   "metadata": {},
   "outputs": [
    {
     "name": "stdout",
     "output_type": "stream",
     "text": [
      "Cross validation scores: [0.90434783 0.92173913 0.92920354 0.94690265 0.90265487]\n"
     ]
    }
   ],
   "source": [
    "from sklearn.model_selection import cross_val_score\n",
    "from sklearn.tree import DecisionTreeClassifier\n",
    "tree = DecisionTreeClassifier()\n",
    "scores = cross_val_score(tree, cancer.data, cancer.target, cv=5)\n",
    "print(\"Cross validation scores: {}\".format(scores))"
   ]
  },
  {
   "cell_type": "code",
   "execution_count": 5,
   "metadata": {
    "scrolled": true
   },
   "outputs": [
    {
     "name": "stdout",
     "output_type": "stream",
     "text": [
      "Average cross validation score: 0.9209696036937283\n"
     ]
    }
   ],
   "source": [
    "print(\"Average cross validation score: {}\".format(scores.mean()))"
   ]
  },
  {
   "cell_type": "code",
   "execution_count": 6,
   "metadata": {},
   "outputs": [
    {
     "name": "stdout",
     "output_type": "stream",
     "text": [
      "Standard deviation of the cross validation scores: 0.016447650776473855\n"
     ]
    }
   ],
   "source": [
    "print(\"Standard deviation of the cross validation scores: {}\".format(scores.std()))"
   ]
  },
  {
   "cell_type": "markdown",
   "metadata": {},
   "source": [
    "### Using a naive Bayes"
   ]
  },
  {
   "cell_type": "code",
   "execution_count": 9,
   "metadata": {},
   "outputs": [],
   "source": [
    "from sklearn.naive_bayes import GaussianNB\n",
    "nb = GaussianNB()\n",
    "scores = cross_val_score(nb, cancer.data, cancer.target, cv=5)"
   ]
  },
  {
   "cell_type": "code",
   "execution_count": 10,
   "metadata": {},
   "outputs": [
    {
     "name": "stdout",
     "output_type": "stream",
     "text": [
      "Cross validation scores: [0.92173913 0.92173913 0.95575221 0.94690265 0.95575221]\n"
     ]
    }
   ],
   "source": [
    "print(\"Cross validation scores: {}\".format(scores))"
   ]
  },
  {
   "cell_type": "code",
   "execution_count": 11,
   "metadata": {},
   "outputs": [
    {
     "name": "stdout",
     "output_type": "stream",
     "text": [
      "Average cross validation score: 0.9403770681031165\n"
     ]
    }
   ],
   "source": [
    "print(\"Average cross validation score: {}\".format(scores.mean()))"
   ]
  },
  {
   "cell_type": "code",
   "execution_count": 12,
   "metadata": {},
   "outputs": [
    {
     "name": "stdout",
     "output_type": "stream",
     "text": [
      "Standard deviation of the cross validation scores: 0.015557113146857272\n"
     ]
    }
   ],
   "source": [
    "print(\"Standard deviation of the cross validation scores: {}\".format(scores.std()))"
   ]
  },
  {
   "cell_type": "markdown",
   "metadata": {},
   "source": [
    "### Leave one out cross validation\n",
    "\n",
    "Leave one out cross validation is a special type of cross validation, where each fold is a single sample\n",
    "* Can provides better estimates on smaller datasets, but is more time.consuming"
   ]
  },
  {
   "cell_type": "code",
   "execution_count": 13,
   "metadata": {},
   "outputs": [],
   "source": [
    "from sklearn.model_selection import LeaveOneOut\n",
    "loo = LeaveOneOut()"
   ]
  },
  {
   "cell_type": "code",
   "execution_count": 14,
   "metadata": {},
   "outputs": [],
   "source": [
    "nb = GaussianNB()\n",
    "scores = cross_val_score(nb, cancer.data, cancer.target, cv=loo)"
   ]
  },
  {
   "cell_type": "code",
   "execution_count": 15,
   "metadata": {},
   "outputs": [
    {
     "name": "stdout",
     "output_type": "stream",
     "text": [
      "Cross validation scores: [1. 1. 1. 1. 1. 1. 1. 1. 1. 1. 1. 1. 1. 0. 1. 1. 1. 1. 1. 1. 1. 1. 1. 1.\n",
      " 1. 1. 1. 1. 1. 1. 1. 1. 1. 1. 1. 1. 1. 1. 1. 1. 0. 0. 1. 1. 0. 1. 1. 1.\n",
      " 1. 1. 1. 1. 1. 1. 0. 1. 1. 1. 1. 1. 1. 1. 1. 1. 1. 1. 1. 1. 0. 1. 1. 1.\n",
      " 1. 0. 1. 1. 1. 1. 1. 1. 1. 1. 1. 1. 1. 1. 0. 1. 1. 0. 1. 0. 1. 1. 1. 1.\n",
      " 1. 1. 1. 0. 0. 1. 1. 1. 1. 1. 1. 1. 1. 1. 1. 1. 0. 1. 1. 1. 1. 1. 1. 1.\n",
      " 1. 1. 1. 1. 1. 1. 0. 1. 0. 1. 1. 1. 1. 1. 1. 0. 1. 1. 1. 1. 1. 1. 1. 1.\n",
      " 1. 1. 1. 1. 1. 1. 1. 1. 0. 1. 1. 1. 1. 0. 1. 1. 1. 1. 1. 1. 1. 1. 1. 1.\n",
      " 1. 1. 1. 0. 1. 1. 1. 1. 1. 1. 1. 1. 1. 1. 1. 1. 0. 1. 1. 1. 1. 1. 1. 1.\n",
      " 1. 1. 1. 1. 1. 1. 1. 1. 1. 1. 1. 1. 1. 0. 1. 1. 1. 1. 1. 1. 1. 1. 1. 0.\n",
      " 1. 1. 1. 1. 1. 1. 1. 1. 1. 1. 1. 1. 1. 1. 1. 1. 1. 1. 1. 1. 1. 1. 1. 1.\n",
      " 1. 1. 1. 1. 1. 1. 1. 0. 1. 1. 1. 1. 1. 1. 1. 0. 1. 1. 1. 1. 1. 1. 1. 0.\n",
      " 1. 1. 1. 1. 1. 1. 1. 1. 1. 1. 1. 1. 1. 1. 1. 1. 1. 1. 1. 1. 1. 1. 1. 1.\n",
      " 1. 1. 0. 1. 1. 1. 1. 1. 1. 0. 1. 1. 1. 1. 1. 1. 1. 1. 1. 1. 1. 1. 1. 1.\n",
      " 1. 1. 1. 1. 1. 1. 1. 1. 1. 1. 1. 1. 1. 1. 1. 1. 1. 1. 1. 1. 1. 1. 1. 1.\n",
      " 1. 1. 1. 1. 1. 1. 1. 1. 1. 1. 1. 1. 1. 1. 1. 1. 1. 1. 1. 1. 1. 1. 1. 1.\n",
      " 1. 1. 1. 1. 1. 1. 1. 1. 1. 1. 1. 1. 1. 1. 1. 1. 1. 1. 1. 1. 1. 1. 1. 1.\n",
      " 1. 0. 1. 1. 1. 1. 1. 1. 1. 1. 1. 1. 1. 1. 1. 1. 1. 1. 1. 1. 1. 1. 1. 1.\n",
      " 1. 1. 1. 1. 1. 1. 0. 1. 1. 1. 1. 1. 1. 0. 1. 1. 1. 1. 1. 1. 1. 1. 1. 1.\n",
      " 1. 1. 1. 1. 1. 1. 1. 1. 1. 1. 1. 1. 1. 1. 1. 1. 1. 1. 1. 1. 1. 1. 1. 1.\n",
      " 1. 1. 1. 1. 1. 1. 1. 1. 1. 0. 1. 1. 1. 1. 1. 1. 1. 1. 1. 1. 1. 1. 1. 1.\n",
      " 1. 1. 1. 1. 1. 0. 1. 1. 1. 1. 1. 0. 1. 1. 1. 1. 1. 1. 1. 1. 1. 1. 1. 1.\n",
      " 1. 1. 1. 1. 1. 1. 1. 1. 1. 1. 0. 1. 1. 1. 1. 1. 1. 1. 1. 1. 1. 1. 1. 1.\n",
      " 1. 1. 1. 1. 1. 1. 1. 1. 0. 1. 1. 1. 1. 1. 1. 1. 1. 1. 1. 1. 1. 1. 1. 1.\n",
      " 1. 1. 1. 1. 1. 1. 1. 1. 1. 1. 1. 1. 1. 1. 1. 1. 1.]\n"
     ]
    }
   ],
   "source": [
    "print(\"Cross validation scores: {}\".format(scores))"
   ]
  },
  {
   "cell_type": "code",
   "execution_count": 16,
   "metadata": {},
   "outputs": [
    {
     "name": "stdout",
     "output_type": "stream",
     "text": [
      "Average cross validation score: 0.9384885764499121\n"
     ]
    }
   ],
   "source": [
    "print(\"Average cross validation score: {}\".format(scores.mean()))"
   ]
  },
  {
   "cell_type": "code",
   "execution_count": 17,
   "metadata": {},
   "outputs": [
    {
     "name": "stdout",
     "output_type": "stream",
     "text": [
      "Standard deviation of the cross validation scores: 0.24026603655724954\n"
     ]
    }
   ],
   "source": [
    "print(\"Standard deviation of the cross validation scores: {}\".format(scores.std()))"
   ]
  },
  {
   "cell_type": "markdown",
   "metadata": {},
   "source": [
    "# Overfitting"
   ]
  },
  {
   "cell_type": "markdown",
   "metadata": {},
   "source": [
    "## Load the data"
   ]
  },
  {
   "cell_type": "code",
   "execution_count": 19,
   "metadata": {},
   "outputs": [],
   "source": [
    "from sklearn.datasets import load_breast_cancer\n",
    "\n",
    "# Load the data and divide into training and test\n",
    "cancer = load_breast_cancer()\n",
    "X_train, X_test, y_train, y_test = train_test_split(\n",
    "    cancer.data, cancer.target, stratify=cancer.target, random_state=42)"
   ]
  },
  {
   "cell_type": "markdown",
   "metadata": {},
   "source": [
    "## Decision tree overfitting"
   ]
  },
  {
   "cell_type": "code",
   "execution_count": 22,
   "metadata": {},
   "outputs": [
    {
     "data": {
      "image/png": "[encoded data removed]",
      "text/plain": [
       "<Figure size 432x288 with 1 Axes>"
      ]
     },
     "metadata": {
      "needs_background": "light"
     },
     "output_type": "display_data"
    }
   ],
   "source": [
    "from sklearn.tree import DecisionTreeClassifier\n",
    "\n",
    "training_accuracy = []\n",
    "test_accuracy = []\n",
    "# try max depths from 1 to 10\n",
    "max_depth_list = range(1, 11)\n",
    "\n",
    "for depth in max_depth_list:\n",
    "    # build the model\n",
    "    clf = DecisionTreeClassifier(max_depth=depth)\n",
    "    clf.fit(X_train, y_train)\n",
    "    # record training set accuracy\n",
    "    training_accuracy.append(clf.score(X_train, y_train))\n",
    "    # record generalization accuracy\n",
    "    test_accuracy.append(clf.score(X_test, y_test))\n",
    "    \n",
    "plt.plot(max_depth_list, training_accuracy, label=\"training accuracy\")\n",
    "plt.plot(max_depth_list, test_accuracy, label=\"test accuracy\")\n",
    "plt.ylabel(\"Accuracy\")\n",
    "plt.xlabel(\"n_neighbors\")\n",
    "plt.legend();"
   ]
  },
  {
   "cell_type": "markdown",
   "metadata": {},
   "source": [
    "## kNN overfitting"
   ]
  },
  {
   "cell_type": "code",
   "execution_count": 23,
   "metadata": {},
   "outputs": [
    {
     "data": {
      "image/png": "[encoded data removed]",
      "text/plain": [
       "<Figure size 432x288 with 1 Axes>"
      ]
     },
     "metadata": {
      "needs_background": "light"
     },
     "output_type": "display_data"
    }
   ],
   "source": [
    "from sklearn.neighbors import KNeighborsClassifier\n",
    "\n",
    "training_accuracy = []\n",
    "test_accuracy = []\n",
    "# try n_neighbors from 1 to 10\n",
    "neighbors_settings = range(1, 11)\n",
    "\n",
    "for n_neighbors in neighbors_settings:\n",
    "    # build the model\n",
    "    clf = KNeighborsClassifier(n_neighbors=n_neighbors)\n",
    "    clf.fit(X_train, y_train)\n",
    "    # record training set accuracy\n",
    "    training_accuracy.append(clf.score(X_train, y_train))\n",
    "    # record generalization accuracy\n",
    "    test_accuracy.append(clf.score(X_test, y_test))\n",
    "    \n",
    "plt.plot(neighbors_settings, training_accuracy, label=\"training accuracy\")\n",
    "plt.plot(neighbors_settings, test_accuracy, label=\"test accuracy\")\n",
    "plt.ylabel(\"Accuracy\")\n",
    "plt.xlabel(\"n_neighbors\")\n",
    "plt.legend();"
   ]
  },
  {
   "cell_type": "markdown",
   "metadata": {},
   "source": [
    "## Selecting parameters using a validation set"
   ]
  },
  {
   "cell_type": "code",
   "execution_count": 24,
   "metadata": {},
   "outputs": [],
   "source": [
    "from sklearn.neighbors import KNeighborsClassifier\n",
    "from sklearn.datasets import load_breast_cancer"
   ]
  },
  {
   "cell_type": "markdown",
   "metadata": {},
   "source": [
    "Divide the data into training data, validation data, and test data"
   ]
  },
  {
   "cell_type": "code",
   "execution_count": 25,
   "metadata": {},
   "outputs": [
    {
     "name": "stdout",
     "output_type": "stream",
     "text": [
      "Size of training set:319\n",
      "Size of validation set:107\n",
      "Size of test set:143\n"
     ]
    }
   ],
   "source": [
    "cancer = load_breast_cancer()\n",
    "X_trainval, X_test, y_trainval, y_test = train_test_split(cancer.data, cancer.target, random_state=42)\n",
    "X_train, X_val, y_train, y_val = train_test_split(X_trainval, y_trainval, random_state=43)\n",
    "print(\"Size of training set:{}\".format(X_train.shape[0]))\n",
    "print(\"Size of validation set:{}\".format(X_val.shape[0]))\n",
    "print(\"Size of test set:{}\".format(X_test.shape[0]))"
   ]
  },
  {
   "cell_type": "markdown",
   "metadata": {},
   "source": [
    "Find the best number of neighbors using the validation set"
   ]
  },
  {
   "cell_type": "code",
   "execution_count": 26,
   "metadata": {},
   "outputs": [
    {
     "name": "stdout",
     "output_type": "stream",
     "text": [
      "Best number of neighbors found: 8\n",
      "Best score on validation set: 0.9626168224299065\n",
      "Score on training/validation set: 0.9389671361502347\n",
      "Score on test set: 0.958041958041958\n"
     ]
    }
   ],
   "source": [
    "best_score = 0\n",
    "for num_neighbors in range(1,15):\n",
    "    # Learn the model with a certain numnber of neighbors\n",
    "    knn = KNeighborsClassifier(n_neighbors=num_neighbors)\n",
    "    knn.fit(X_train, y_train)\n",
    "    \n",
    "    # Evaluate the model\n",
    "    score = knn.score(X_val, y_val)\n",
    "    \n",
    "    # If improvement, store score and parameter\n",
    "    if score>best_score:\n",
    "        best_score = score\n",
    "        best_num_neighbors = num_neighbors\n",
    "\n",
    "# Build a model on the combine training and valiation data\n",
    "knn = KNeighborsClassifier(n_neighbors=best_num_neighbors)\n",
    "knn.fit(X_trainval, y_trainval)\n",
    "\n",
    "print(\"Best number of neighbors found: {}\".format(best_num_neighbors))\n",
    "print(\"Best score on validation set: {}\".format(best_score))\n",
    "print(\"Score on training/validation set: {}\".format(knn.score(X_trainval, y_trainval)))\n",
    "print(\"Score on test set: {}\".format(knn.score(X_test, y_test)))"
   ]
  },
  {
   "cell_type": "markdown",
   "metadata": {},
   "source": [
    "## Selecting parameters using cross validation"
   ]
  },
  {
   "cell_type": "code",
   "execution_count": 27,
   "metadata": {},
   "outputs": [
    {
     "data": {
      "image/png": "[encoded data removed]",
      "text/plain": [
       "<Figure size 700x210 with 1 Axes>"
      ]
     },
     "metadata": {
      "needs_background": "light"
     },
     "output_type": "display_data"
    }
   ],
   "source": [
    "mglearn.plots.plot_grid_search_overview()"
   ]
  },
  {
   "cell_type": "markdown",
   "metadata": {},
   "source": [
    "Divide the data into training data and test data (no validation data!)"
   ]
  },
  {
   "cell_type": "code",
   "execution_count": 28,
   "metadata": {},
   "outputs": [
    {
     "name": "stdout",
     "output_type": "stream",
     "text": [
      "Size of training set:319\n",
      "Size of test set:143\n"
     ]
    }
   ],
   "source": [
    "cancer = load_breast_cancer()\n",
    "X_trainval, X_test, y_trainval, y_test = train_test_split(cancer.data, cancer.target, random_state=42)\n",
    "print(\"Size of training set:{}\".format(X_train.shape[0]))\n",
    "print(\"Size of test set:{}\".format(X_test.shape[0]))"
   ]
  },
  {
   "cell_type": "markdown",
   "metadata": {},
   "source": [
    "Find the best number of neighbors using cross validation"
   ]
  },
  {
   "cell_type": "code",
   "execution_count": 29,
   "metadata": {},
   "outputs": [
    {
     "name": "stdout",
     "output_type": "stream",
     "text": [
      "Best number of neighbors found: 8\n",
      "Best average score: 0.9293466223698781\n",
      "Score on training/validation set: 0.9389671361502347\n",
      "Score on test set: 0.958041958041958\n"
     ]
    }
   ],
   "source": [
    "from sklearn.model_selection import cross_val_score\n",
    "best_score = 0\n",
    "for num_neighbors in range(1,15):\n",
    "    # Set a certain number of neighbors\n",
    "    knn = KNeighborsClassifier(n_neighbors=num_neighbors)\n",
    "    \n",
    "    # Perform cross validation\n",
    "    scores = cross_val_score(knn, X_trainval, y_trainval, cv=5)\n",
    "    \n",
    "    # Compute the mean score\n",
    "    score = scores.mean()\n",
    "    \n",
    "    # If improvement, store score and parameter\n",
    "    if score>best_score:\n",
    "        best_score = score\n",
    "        best_num_neighbors = num_neighbors\n",
    "\n",
    "# Build a model on the combine training and valiation data\n",
    "knn = KNeighborsClassifier(n_neighbors=best_num_neighbors)\n",
    "knn.fit(X_trainval, y_trainval)\n",
    "\n",
    "print(\"Best number of neighbors found: {}\".format(best_num_neighbors))\n",
    "print(\"Best average score: {}\".format(best_score))\n",
    "print(\"Score on training/validation set: {}\".format(knn.score(X_trainval, y_trainval)))\n",
    "print(\"Score on test set: {}\".format(knn.score(X_test, y_test)))"
   ]
  },
  {
   "cell_type": "markdown",
   "metadata": {},
   "source": [
    "### sklearn actually has support for performing this operation"
   ]
  },
  {
   "cell_type": "code",
   "execution_count": 30,
   "metadata": {},
   "outputs": [],
   "source": [
    "from sklearn.model_selection import GridSearchCV\n",
    "from sklearn.neighbors import KNeighborsClassifier"
   ]
  },
  {
   "cell_type": "code",
   "execution_count": 31,
   "metadata": {},
   "outputs": [],
   "source": [
    "# Fix the parameter space\n",
    "parameters = {'n_neighbors': range(1,15)}\n",
    "grid_search = GridSearchCV(KNeighborsClassifier(), parameters, cv=5, return_train_score=True)"
   ]
  },
  {
   "cell_type": "code",
   "execution_count": 32,
   "metadata": {},
   "outputs": [],
   "source": [
    "# Load the data and divide into train and test\n",
    "cancer = load_breast_cancer()\n",
    "X_train, X_test, y_train, y_test = train_test_split(cancer.data, cancer.target, random_state=42)"
   ]
  },
  {
   "cell_type": "markdown",
   "metadata": {},
   "source": [
    "Perform the search; all results are stored within `grid_search`"
   ]
  },
  {
   "cell_type": "code",
   "execution_count": 33,
   "metadata": {},
   "outputs": [
    {
     "name": "stderr",
     "output_type": "stream",
     "text": [
      "C:\\anaconda3\\lib\\site-packages\\sklearn\\model_selection\\_search.py:841: DeprecationWarning: The default of the `iid` parameter will change from True to False in version 0.22 and will be removed in 0.24. This will change numeric results when test-set sizes are unequal.\n",
      "  DeprecationWarning)\n"
     ]
    },
    {
     "data": {
      "text/plain": [
       "GridSearchCV(cv=5, error_score='raise-deprecating',\n",
       "       estimator=KNeighborsClassifier(algorithm='auto', leaf_size=30, metric='minkowski',\n",
       "           metric_params=None, n_jobs=None, n_neighbors=5, p=2,\n",
       "           weights='uniform'),\n",
       "       fit_params=None, iid='warn', n_jobs=None,\n",
       "       param_grid={'n_neighbors': range(1, 15)}, pre_dispatch='2*n_jobs',\n",
       "       refit=True, return_train_score=True, scoring=None, verbose=0)"
      ]
     },
     "execution_count": 33,
     "metadata": {},
     "output_type": "execute_result"
    }
   ],
   "source": [
    "grid_search.fit(X_train, y_train)"
   ]
  },
  {
   "cell_type": "markdown",
   "metadata": {},
   "source": [
    "Print some results"
   ]
  },
  {
   "cell_type": "code",
   "execution_count": 34,
   "metadata": {},
   "outputs": [
    {
     "name": "stdout",
     "output_type": "stream",
     "text": [
      "Test score: 0.96\n"
     ]
    }
   ],
   "source": [
    "print(\"Test score: {:.2f}\".format(grid_search.score(X_test, y_test)))"
   ]
  },
  {
   "cell_type": "code",
   "execution_count": 35,
   "metadata": {},
   "outputs": [
    {
     "name": "stdout",
     "output_type": "stream",
     "text": [
      "Best parameter: {'n_neighbors': 8}\n"
     ]
    }
   ],
   "source": [
    "print(\"Best parameter: {}\".format(grid_search.best_params_))"
   ]
  },
  {
   "cell_type": "code",
   "execution_count": 36,
   "metadata": {},
   "outputs": [
    {
     "name": "stdout",
     "output_type": "stream",
     "text": [
      "Best cross-validation score: 0.9295774647887324\n"
     ]
    }
   ],
   "source": [
    "print(\"Best cross-validation score: {}\".format(grid_search.best_score_))"
   ]
  },
  {
   "cell_type": "code",
   "execution_count": 37,
   "metadata": {},
   "outputs": [
    {
     "name": "stdout",
     "output_type": "stream",
     "text": [
      "Best estimator: KNeighborsClassifier(algorithm='auto', leaf_size=30, metric='minkowski',\n",
      "           metric_params=None, n_jobs=None, n_neighbors=8, p=2,\n",
      "           weights='uniform')\n"
     ]
    }
   ],
   "source": [
    "print(\"Best estimator: {}\".format(grid_search.best_estimator_))"
   ]
  },
  {
   "cell_type": "code",
   "execution_count": 38,
   "metadata": {},
   "outputs": [
    {
     "data": {
      "text/html": [
       "<div>\n",
       "<style scoped>\n",
       "    .dataframe tbody tr th:only-of-type {\n",
       "        vertical-align: middle;\n",
       "    }\n",
       "\n",
       "    .dataframe tbody tr th {\n",
       "        vertical-align: top;\n",
       "    }\n",
       "\n",
       "    .dataframe thead th {\n",
       "        text-align: right;\n",
       "    }\n",
       "</style>\n",
       "<table border=\"1\" class=\"dataframe\">\n",
       "  <thead>\n",
       "    <tr style=\"text-align: right;\">\n",
       "      <th></th>\n",
       "      <th>mean_fit_time</th>\n",
       "      <th>std_fit_time</th>\n",
       "      <th>mean_score_time</th>\n",
       "      <th>std_score_time</th>\n",
       "      <th>param_n_neighbors</th>\n",
       "      <th>params</th>\n",
       "      <th>split0_test_score</th>\n",
       "      <th>split1_test_score</th>\n",
       "      <th>split2_test_score</th>\n",
       "      <th>split3_test_score</th>\n",
       "      <th>...</th>\n",
       "      <th>mean_test_score</th>\n",
       "      <th>std_test_score</th>\n",
       "      <th>rank_test_score</th>\n",
       "      <th>split0_train_score</th>\n",
       "      <th>split1_train_score</th>\n",
       "      <th>split2_train_score</th>\n",
       "      <th>split3_train_score</th>\n",
       "      <th>split4_train_score</th>\n",
       "      <th>mean_train_score</th>\n",
       "      <th>std_train_score</th>\n",
       "    </tr>\n",
       "  </thead>\n",
       "  <tbody>\n",
       "    <tr>\n",
       "      <th>0</th>\n",
       "      <td>0.000000</td>\n",
       "      <td>0.000000</td>\n",
       "      <td>0.002399</td>\n",
       "      <td>0.001959</td>\n",
       "      <td>1</td>\n",
       "      <td>{'n_neighbors': 1}</td>\n",
       "      <td>0.965116</td>\n",
       "      <td>0.872093</td>\n",
       "      <td>0.883721</td>\n",
       "      <td>0.869048</td>\n",
       "      <td>...</td>\n",
       "      <td>0.896714</td>\n",
       "      <td>0.035424</td>\n",
       "      <td>14</td>\n",
       "      <td>1.000000</td>\n",
       "      <td>1.000000</td>\n",
       "      <td>1.000000</td>\n",
       "      <td>1.000000</td>\n",
       "      <td>1.000000</td>\n",
       "      <td>1.000000</td>\n",
       "      <td>0.000000</td>\n",
       "    </tr>\n",
       "    <tr>\n",
       "      <th>1</th>\n",
       "      <td>0.001597</td>\n",
       "      <td>0.001956</td>\n",
       "      <td>0.000801</td>\n",
       "      <td>0.001601</td>\n",
       "      <td>2</td>\n",
       "      <td>{'n_neighbors': 2}</td>\n",
       "      <td>0.953488</td>\n",
       "      <td>0.906977</td>\n",
       "      <td>0.906977</td>\n",
       "      <td>0.857143</td>\n",
       "      <td>...</td>\n",
       "      <td>0.906103</td>\n",
       "      <td>0.030440</td>\n",
       "      <td>13</td>\n",
       "      <td>0.958824</td>\n",
       "      <td>0.964706</td>\n",
       "      <td>0.973529</td>\n",
       "      <td>0.970760</td>\n",
       "      <td>0.970760</td>\n",
       "      <td>0.967716</td>\n",
       "      <td>0.005300</td>\n",
       "    </tr>\n",
       "    <tr>\n",
       "      <th>2</th>\n",
       "      <td>0.000000</td>\n",
       "      <td>0.000000</td>\n",
       "      <td>0.000800</td>\n",
       "      <td>0.001600</td>\n",
       "      <td>3</td>\n",
       "      <td>{'n_neighbors': 3}</td>\n",
       "      <td>0.953488</td>\n",
       "      <td>0.883721</td>\n",
       "      <td>0.965116</td>\n",
       "      <td>0.869048</td>\n",
       "      <td>...</td>\n",
       "      <td>0.917840</td>\n",
       "      <td>0.037583</td>\n",
       "      <td>9</td>\n",
       "      <td>0.938235</td>\n",
       "      <td>0.955882</td>\n",
       "      <td>0.941176</td>\n",
       "      <td>0.956140</td>\n",
       "      <td>0.947368</td>\n",
       "      <td>0.947761</td>\n",
       "      <td>0.007354</td>\n",
       "    </tr>\n",
       "    <tr>\n",
       "      <th>3</th>\n",
       "      <td>0.001600</td>\n",
       "      <td>0.001959</td>\n",
       "      <td>0.002112</td>\n",
       "      <td>0.002704</td>\n",
       "      <td>4</td>\n",
       "      <td>{'n_neighbors': 4}</td>\n",
       "      <td>0.953488</td>\n",
       "      <td>0.883721</td>\n",
       "      <td>0.941860</td>\n",
       "      <td>0.845238</td>\n",
       "      <td>...</td>\n",
       "      <td>0.908451</td>\n",
       "      <td>0.039491</td>\n",
       "      <td>12</td>\n",
       "      <td>0.929412</td>\n",
       "      <td>0.955882</td>\n",
       "      <td>0.938235</td>\n",
       "      <td>0.941520</td>\n",
       "      <td>0.938596</td>\n",
       "      <td>0.940729</td>\n",
       "      <td>0.008592</td>\n",
       "    </tr>\n",
       "    <tr>\n",
       "      <th>4</th>\n",
       "      <td>0.000800</td>\n",
       "      <td>0.001600</td>\n",
       "      <td>0.002399</td>\n",
       "      <td>0.001959</td>\n",
       "      <td>5</td>\n",
       "      <td>{'n_neighbors': 5}</td>\n",
       "      <td>0.953488</td>\n",
       "      <td>0.872093</td>\n",
       "      <td>0.976744</td>\n",
       "      <td>0.869048</td>\n",
       "      <td>...</td>\n",
       "      <td>0.920188</td>\n",
       "      <td>0.043199</td>\n",
       "      <td>6</td>\n",
       "      <td>0.917647</td>\n",
       "      <td>0.950000</td>\n",
       "      <td>0.926471</td>\n",
       "      <td>0.932749</td>\n",
       "      <td>0.932749</td>\n",
       "      <td>0.931923</td>\n",
       "      <td>0.010599</td>\n",
       "    </tr>\n",
       "    <tr>\n",
       "      <th>5</th>\n",
       "      <td>0.000000</td>\n",
       "      <td>0.000000</td>\n",
       "      <td>0.000820</td>\n",
       "      <td>0.001640</td>\n",
       "      <td>6</td>\n",
       "      <td>{'n_neighbors': 6}</td>\n",
       "      <td>0.965116</td>\n",
       "      <td>0.883721</td>\n",
       "      <td>0.953488</td>\n",
       "      <td>0.869048</td>\n",
       "      <td>...</td>\n",
       "      <td>0.920188</td>\n",
       "      <td>0.037807</td>\n",
       "      <td>6</td>\n",
       "      <td>0.917647</td>\n",
       "      <td>0.944118</td>\n",
       "      <td>0.926471</td>\n",
       "      <td>0.944444</td>\n",
       "      <td>0.935673</td>\n",
       "      <td>0.933670</td>\n",
       "      <td>0.010371</td>\n",
       "    </tr>\n",
       "    <tr>\n",
       "      <th>6</th>\n",
       "      <td>0.000000</td>\n",
       "      <td>0.000000</td>\n",
       "      <td>0.000000</td>\n",
       "      <td>0.000000</td>\n",
       "      <td>7</td>\n",
       "      <td>{'n_neighbors': 7}</td>\n",
       "      <td>0.988372</td>\n",
       "      <td>0.872093</td>\n",
       "      <td>0.953488</td>\n",
       "      <td>0.869048</td>\n",
       "      <td>...</td>\n",
       "      <td>0.922535</td>\n",
       "      <td>0.046405</td>\n",
       "      <td>3</td>\n",
       "      <td>0.920588</td>\n",
       "      <td>0.944118</td>\n",
       "      <td>0.926471</td>\n",
       "      <td>0.941520</td>\n",
       "      <td>0.935673</td>\n",
       "      <td>0.933674</td>\n",
       "      <td>0.008919</td>\n",
       "    </tr>\n",
       "    <tr>\n",
       "      <th>7</th>\n",
       "      <td>0.003121</td>\n",
       "      <td>0.006243</td>\n",
       "      <td>0.003129</td>\n",
       "      <td>0.006259</td>\n",
       "      <td>8</td>\n",
       "      <td>{'n_neighbors': 8}</td>\n",
       "      <td>0.988372</td>\n",
       "      <td>0.872093</td>\n",
       "      <td>0.976744</td>\n",
       "      <td>0.880952</td>\n",
       "      <td>...</td>\n",
       "      <td>0.929577</td>\n",
       "      <td>0.047754</td>\n",
       "      <td>1</td>\n",
       "      <td>0.917647</td>\n",
       "      <td>0.941176</td>\n",
       "      <td>0.926471</td>\n",
       "      <td>0.938596</td>\n",
       "      <td>0.935673</td>\n",
       "      <td>0.931913</td>\n",
       "      <td>0.008692</td>\n",
       "    </tr>\n",
       "    <tr>\n",
       "      <th>8</th>\n",
       "      <td>0.000000</td>\n",
       "      <td>0.000000</td>\n",
       "      <td>0.000000</td>\n",
       "      <td>0.000000</td>\n",
       "      <td>9</td>\n",
       "      <td>{'n_neighbors': 9}</td>\n",
       "      <td>0.988372</td>\n",
       "      <td>0.872093</td>\n",
       "      <td>0.965116</td>\n",
       "      <td>0.880952</td>\n",
       "      <td>...</td>\n",
       "      <td>0.922535</td>\n",
       "      <td>0.046454</td>\n",
       "      <td>3</td>\n",
       "      <td>0.920588</td>\n",
       "      <td>0.938235</td>\n",
       "      <td>0.926471</td>\n",
       "      <td>0.935673</td>\n",
       "      <td>0.929825</td>\n",
       "      <td>0.930158</td>\n",
       "      <td>0.006339</td>\n",
       "    </tr>\n",
       "    <tr>\n",
       "      <th>9</th>\n",
       "      <td>0.000000</td>\n",
       "      <td>0.000000</td>\n",
       "      <td>0.000000</td>\n",
       "      <td>0.000000</td>\n",
       "      <td>10</td>\n",
       "      <td>{'n_neighbors': 10}</td>\n",
       "      <td>0.988372</td>\n",
       "      <td>0.883721</td>\n",
       "      <td>0.965116</td>\n",
       "      <td>0.880952</td>\n",
       "      <td>...</td>\n",
       "      <td>0.927230</td>\n",
       "      <td>0.043254</td>\n",
       "      <td>2</td>\n",
       "      <td>0.920588</td>\n",
       "      <td>0.935294</td>\n",
       "      <td>0.923529</td>\n",
       "      <td>0.935673</td>\n",
       "      <td>0.932749</td>\n",
       "      <td>0.929567</td>\n",
       "      <td>0.006281</td>\n",
       "    </tr>\n",
       "    <tr>\n",
       "      <th>10</th>\n",
       "      <td>0.003126</td>\n",
       "      <td>0.006252</td>\n",
       "      <td>0.003125</td>\n",
       "      <td>0.006251</td>\n",
       "      <td>11</td>\n",
       "      <td>{'n_neighbors': 11}</td>\n",
       "      <td>0.965116</td>\n",
       "      <td>0.883721</td>\n",
       "      <td>0.965116</td>\n",
       "      <td>0.880952</td>\n",
       "      <td>...</td>\n",
       "      <td>0.917840</td>\n",
       "      <td>0.039100</td>\n",
       "      <td>9</td>\n",
       "      <td>0.914706</td>\n",
       "      <td>0.938235</td>\n",
       "      <td>0.920588</td>\n",
       "      <td>0.932749</td>\n",
       "      <td>0.932749</td>\n",
       "      <td>0.927805</td>\n",
       "      <td>0.008733</td>\n",
       "    </tr>\n",
       "    <tr>\n",
       "      <th>11</th>\n",
       "      <td>0.000000</td>\n",
       "      <td>0.000000</td>\n",
       "      <td>0.000000</td>\n",
       "      <td>0.000000</td>\n",
       "      <td>12</td>\n",
       "      <td>{'n_neighbors': 12}</td>\n",
       "      <td>0.976744</td>\n",
       "      <td>0.883721</td>\n",
       "      <td>0.976744</td>\n",
       "      <td>0.869048</td>\n",
       "      <td>...</td>\n",
       "      <td>0.920188</td>\n",
       "      <td>0.047148</td>\n",
       "      <td>6</td>\n",
       "      <td>0.923529</td>\n",
       "      <td>0.941176</td>\n",
       "      <td>0.926471</td>\n",
       "      <td>0.932749</td>\n",
       "      <td>0.935673</td>\n",
       "      <td>0.931920</td>\n",
       "      <td>0.006333</td>\n",
       "    </tr>\n",
       "    <tr>\n",
       "      <th>12</th>\n",
       "      <td>0.000000</td>\n",
       "      <td>0.000000</td>\n",
       "      <td>0.000000</td>\n",
       "      <td>0.000000</td>\n",
       "      <td>13</td>\n",
       "      <td>{'n_neighbors': 13}</td>\n",
       "      <td>0.965116</td>\n",
       "      <td>0.883721</td>\n",
       "      <td>0.976744</td>\n",
       "      <td>0.869048</td>\n",
       "      <td>...</td>\n",
       "      <td>0.917840</td>\n",
       "      <td>0.044488</td>\n",
       "      <td>9</td>\n",
       "      <td>0.905882</td>\n",
       "      <td>0.932353</td>\n",
       "      <td>0.917647</td>\n",
       "      <td>0.929825</td>\n",
       "      <td>0.929825</td>\n",
       "      <td>0.923106</td>\n",
       "      <td>0.010022</td>\n",
       "    </tr>\n",
       "    <tr>\n",
       "      <th>13</th>\n",
       "      <td>0.000000</td>\n",
       "      <td>0.000000</td>\n",
       "      <td>0.000000</td>\n",
       "      <td>0.000000</td>\n",
       "      <td>14</td>\n",
       "      <td>{'n_neighbors': 14}</td>\n",
       "      <td>0.976744</td>\n",
       "      <td>0.883721</td>\n",
       "      <td>0.976744</td>\n",
       "      <td>0.880952</td>\n",
       "      <td>...</td>\n",
       "      <td>0.922535</td>\n",
       "      <td>0.044780</td>\n",
       "      <td>3</td>\n",
       "      <td>0.911765</td>\n",
       "      <td>0.929412</td>\n",
       "      <td>0.917647</td>\n",
       "      <td>0.929825</td>\n",
       "      <td>0.932749</td>\n",
       "      <td>0.924279</td>\n",
       "      <td>0.008117</td>\n",
       "    </tr>\n",
       "  </tbody>\n",
       "</table>\n",
       "<p>14 rows × 21 columns</p>\n",
       "</div>"
      ],
      "text/plain": [
       "    mean_fit_time  std_fit_time  mean_score_time  std_score_time  \\\n",
       "0        0.000000      0.000000         0.002399        0.001959   \n",
       "1        0.001597      0.001956         0.000801        0.001601   \n",
       "2        0.000000      0.000000         0.000800        0.001600   \n",
       "3        0.001600      0.001959         0.002112        0.002704   \n",
       "4        0.000800      0.001600         0.002399        0.001959   \n",
       "5        0.000000      0.000000         0.000820        0.001640   \n",
       "6        0.000000      0.000000         0.000000        0.000000   \n",
       "7        0.003121      0.006243         0.003129        0.006259   \n",
       "8        0.000000      0.000000         0.000000        0.000000   \n",
       "9        0.000000      0.000000         0.000000        0.000000   \n",
       "10       0.003126      0.006252         0.003125        0.006251   \n",
       "11       0.000000      0.000000         0.000000        0.000000   \n",
       "12       0.000000      0.000000         0.000000        0.000000   \n",
       "13       0.000000      0.000000         0.000000        0.000000   \n",
       "\n",
       "   param_n_neighbors               params  split0_test_score  \\\n",
       "0                  1   {'n_neighbors': 1}           0.965116   \n",
       "1                  2   {'n_neighbors': 2}           0.953488   \n",
       "2                  3   {'n_neighbors': 3}           0.953488   \n",
       "3                  4   {'n_neighbors': 4}           0.953488   \n",
       "4                  5   {'n_neighbors': 5}           0.953488   \n",
       "5                  6   {'n_neighbors': 6}           0.965116   \n",
       "6                  7   {'n_neighbors': 7}           0.988372   \n",
       "7                  8   {'n_neighbors': 8}           0.988372   \n",
       "8                  9   {'n_neighbors': 9}           0.988372   \n",
       "9                 10  {'n_neighbors': 10}           0.988372   \n",
       "10                11  {'n_neighbors': 11}           0.965116   \n",
       "11                12  {'n_neighbors': 12}           0.976744   \n",
       "12                13  {'n_neighbors': 13}           0.965116   \n",
       "13                14  {'n_neighbors': 14}           0.976744   \n",
       "\n",
       "    split1_test_score  split2_test_score  split3_test_score       ...         \\\n",
       "0            0.872093           0.883721           0.869048       ...          \n",
       "1            0.906977           0.906977           0.857143       ...          \n",
       "2            0.883721           0.965116           0.869048       ...          \n",
       "3            0.883721           0.941860           0.845238       ...          \n",
       "4            0.872093           0.976744           0.869048       ...          \n",
       "5            0.883721           0.953488           0.869048       ...          \n",
       "6            0.872093           0.953488           0.869048       ...          \n",
       "7            0.872093           0.976744           0.880952       ...          \n",
       "8            0.872093           0.965116           0.880952       ...          \n",
       "9            0.883721           0.965116           0.880952       ...          \n",
       "10           0.883721           0.965116           0.880952       ...          \n",
       "11           0.883721           0.976744           0.869048       ...          \n",
       "12           0.883721           0.976744           0.869048       ...          \n",
       "13           0.883721           0.976744           0.880952       ...          \n",
       "\n",
       "    mean_test_score  std_test_score  rank_test_score  split0_train_score  \\\n",
       "0          0.896714        0.035424               14            1.000000   \n",
       "1          0.906103        0.030440               13            0.958824   \n",
       "2          0.917840        0.037583                9            0.938235   \n",
       "3          0.908451        0.039491               12            0.929412   \n",
       "4          0.920188        0.043199                6            0.917647   \n",
       "5          0.920188        0.037807                6            0.917647   \n",
       "6          0.922535        0.046405                3            0.920588   \n",
       "7          0.929577        0.047754                1            0.917647   \n",
       "8          0.922535        0.046454                3            0.920588   \n",
       "9          0.927230        0.043254                2            0.920588   \n",
       "10         0.917840        0.039100                9            0.914706   \n",
       "11         0.920188        0.047148                6            0.923529   \n",
       "12         0.917840        0.044488                9            0.905882   \n",
       "13         0.922535        0.044780                3            0.911765   \n",
       "\n",
       "    split1_train_score  split2_train_score  split3_train_score  \\\n",
       "0             1.000000            1.000000            1.000000   \n",
       "1             0.964706            0.973529            0.970760   \n",
       "2             0.955882            0.941176            0.956140   \n",
       "3             0.955882            0.938235            0.941520   \n",
       "4             0.950000            0.926471            0.932749   \n",
       "5             0.944118            0.926471            0.944444   \n",
       "6             0.944118            0.926471            0.941520   \n",
       "7             0.941176            0.926471            0.938596   \n",
       "8             0.938235            0.926471            0.935673   \n",
       "9             0.935294            0.923529            0.935673   \n",
       "10            0.938235            0.920588            0.932749   \n",
       "11            0.941176            0.926471            0.932749   \n",
       "12            0.932353            0.917647            0.929825   \n",
       "13            0.929412            0.917647            0.929825   \n",
       "\n",
       "    split4_train_score  mean_train_score  std_train_score  \n",
       "0             1.000000          1.000000         0.000000  \n",
       "1             0.970760          0.967716         0.005300  \n",
       "2             0.947368          0.947761         0.007354  \n",
       "3             0.938596          0.940729         0.008592  \n",
       "4             0.932749          0.931923         0.010599  \n",
       "5             0.935673          0.933670         0.010371  \n",
       "6             0.935673          0.933674         0.008919  \n",
       "7             0.935673          0.931913         0.008692  \n",
       "8             0.929825          0.930158         0.006339  \n",
       "9             0.932749          0.929567         0.006281  \n",
       "10            0.932749          0.927805         0.008733  \n",
       "11            0.935673          0.931920         0.006333  \n",
       "12            0.929825          0.923106         0.010022  \n",
       "13            0.932749          0.924279         0.008117  \n",
       "\n",
       "[14 rows x 21 columns]"
      ]
     },
     "execution_count": 38,
     "metadata": {},
     "output_type": "execute_result"
    }
   ],
   "source": [
    "pd.DataFrame(grid_search.cv_results_)"
   ]
  },
  {
   "cell_type": "code",
   "execution_count": null,
   "metadata": {},
   "outputs": [],
   "source": []
  }
 ],
 "metadata": {
  "kernelspec": {
   "display_name": "Python 3",
   "language": "python",
   "name": "python3"
  },
  "language_info": {
   "codemirror_mode": {
    "name": "ipython",
    "version": 3
   },
   "file_extension": ".py",
   "mimetype": "text/x-python",
   "name": "python",
   "nbconvert_exporter": "python",
   "pygments_lexer": "ipython3",
   "version": "3.7.1"
  }
 },
 "nbformat": 4,
 "nbformat_minor": 2
}
