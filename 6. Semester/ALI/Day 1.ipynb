{
 "cells": [
  {
   "cell_type": "code",
   "execution_count": 1,
   "metadata": {},
   "outputs": [],
   "source": [
    "#import numpy as np\n",
    "from sympy import *\n",
    "from IPython.display import display\n",
    "import numpy as np\n",
    "init_printing()"
   ]
  },
  {
   "cell_type": "code",
   "execution_count": 2,
   "metadata": {},
   "outputs": [
    {
     "data": {
      "text/latex": [
       "$\\displaystyle \\left[\\begin{matrix}0 & 3 k + 6\\\\k + 2 & 0\\end{matrix}\\right]$"
      ],
      "text/plain": [
       "⎡  0    3⋅k + 6⎤\n",
       "⎢              ⎥\n",
       "⎣k + 2     0   ⎦"
      ]
     },
     "metadata": {},
     "output_type": "display_data"
    },
    {
     "data": {
      "text/latex": [
       "$\\displaystyle \\left[\\begin{matrix}0 & 0\\\\0 & 0\\end{matrix}\\right]$"
      ],
      "text/plain": [
       "⎡0  0⎤\n",
       "⎢    ⎥\n",
       "⎣0  0⎦"
      ]
     },
     "metadata": {},
     "output_type": "display_data"
    }
   ],
   "source": [
    "## Exam 2014 Assignment 2\n",
    "# What value(s) of k, if any, will make 𝐴𝐵 = 𝐵𝐴?\n",
    "k = Symbol('k')\n",
    "A = Matrix([[2,3],[-1,1]])\n",
    "B = Matrix([[1,9],[-3,k]])\n",
    "\n",
    "# AB-BA = 0\n",
    "display(A*B-B*A)\n",
    "\n",
    "# Set equation = 0 and isolate k\n",
    "# for k+2 = 0 => k = -2\n",
    "\n",
    "k = -2\n",
    "A = Matrix([[2,3],[-1,1]])\n",
    "B = Matrix([[1,9],[-3,k]])\n",
    "display(A*B-B*A)\n"
   ]
  },
  {
   "cell_type": "code",
   "execution_count": 3,
   "metadata": {},
   "outputs": [
    {
     "data": {
      "text/latex": [
       "$\\displaystyle \\left[\\begin{matrix}1 & -5 & 3\\\\0 & 7 & -14\\\\0 & 0 & 7 k - 21\\end{matrix}\\right]$"
      ],
      "text/plain": [
       "⎡1  -5     3    ⎤\n",
       "⎢               ⎥\n",
       "⎢0  7     -14   ⎥\n",
       "⎢               ⎥\n",
       "⎣0  0   7⋅k - 21⎦"
      ]
     },
     "execution_count": 3,
     "metadata": {},
     "output_type": "execute_result"
    }
   ],
   "source": [
    "# For what value(s) of k are the columns of the following matrix linearly dependent?\n",
    "k = Symbol('k')\n",
    "A = Matrix([[1,-5,3], [3,-8,-5], [-1,2,k]])\n",
    "A.echelon_form()\n",
    "# Når k = 3, så er den linearly dependent"
   ]
  },
  {
   "cell_type": "code",
   "execution_count": 20,
   "metadata": {},
   "outputs": [
    {
     "data": {
      "text/latex": [
       "$\\displaystyle \\left[\\begin{matrix}k^{2} & 2 k\\\\8 & k\\end{matrix}\\right]$"
      ],
      "text/plain": [
       "⎡ 2     ⎤\n",
       "⎢k   2⋅k⎥\n",
       "⎢       ⎥\n",
       "⎣8    k ⎦"
      ]
     },
     "metadata": {},
     "output_type": "display_data"
    },
    {
     "data": {
      "text/latex": [
       "$\\displaystyle \\left[\\begin{matrix}8 & k\\\\0 & - k^{3} + 16 k\\end{matrix}\\right]$"
      ],
      "text/plain": [
       "⎡8       k     ⎤\n",
       "⎢              ⎥\n",
       "⎢      3       ⎥\n",
       "⎣0  - k  + 16⋅k⎦"
      ]
     },
     "metadata": {},
     "output_type": "display_data"
    },
    {
     "data": {
      "image/png": "[encoded data removed]",
      "text/latex": [
       "$\\displaystyle k^{3} - 16 k$"
      ],
      "text/plain": [
       " 3       \n",
       "k  - 16⋅k"
      ]
     },
     "metadata": {},
     "output_type": "display_data"
    },
    {
     "data": {
      "image/png": "[encoded data removed]",
      "text/latex": [
       "$\\displaystyle \\left[ -4, \\  0, \\  4\\right]$"
      ],
      "text/plain": [
       "[-4, 0, 4]"
      ]
     },
     "execution_count": 20,
     "metadata": {},
     "output_type": "execute_result"
    }
   ],
   "source": [
    "# Find the value(s) of k for which the matrix A  is singular (i.e. not invertible).\n",
    "k = Symbol('k')\n",
    "A = Matrix([[k**2, 2*k], [8,k]])\n",
    "display(A)\n",
    "display(A.echelon_form())\n",
    "determinantA = det(A)\n",
    "display(determinantA)\n",
    "solve(determinantA)\n",
    "\n",
    "solve(det(A))\n",
    "\n"
   ]
  },
  {
   "cell_type": "code",
   "execution_count": 23,
   "metadata": {},
   "outputs": [
    {
     "data": {
      "image/png": "[encoded data removed]",
      "text/latex": [
       "$\\displaystyle \\left[ -4, \\  0, \\  4\\right]$"
      ],
      "text/plain": [
       "[-4, 0, 4]"
      ]
     },
     "execution_count": 23,
     "metadata": {},
     "output_type": "execute_result"
    }
   ],
   "source": [
    "k = Symbol('k')\n",
    "A = Matrix([[k**2, 2*k], [8,k]])\n",
    "\n",
    "solve(det(A))"
   ]
  }
 ],
 "metadata": {
  "kernelspec": {
   "display_name": "Python 3",
   "language": "python",
   "name": "python3"
  },
  "language_info": {
   "codemirror_mode": {
    "name": "ipython",
    "version": 3
   },
   "file_extension": ".py",
   "mimetype": "text/x-python",
   "name": "python",
   "nbconvert_exporter": "python",
   "pygments_lexer": "ipython3",
   "version": "3.8.3"
  }
 },
 "nbformat": 4,
 "nbformat_minor": 4
}
