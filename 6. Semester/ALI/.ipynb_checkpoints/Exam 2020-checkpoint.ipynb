{
 "cells": [
  {
   "cell_type": "code",
   "execution_count": 2,
   "metadata": {},
   "outputs": [],
   "source": [
    "#import numpy as np\n",
    "from sympy import *\n",
    "from IPython.display import display,HTML, Math\n",
    "import numpy as np\n",
    "init_printing()\n",
    "import math\n"
   ]
  },
  {
   "cell_type": "code",
   "execution_count": 67,
   "metadata": {},
   "outputs": [
    {
     "data": {
      "image/png": "[encoded data removed]",
      "text/latex": [
       "$\\displaystyle \\left\\{ -1 : 2, \\  8 : 1\\right\\}$"
      ],
      "text/plain": [
       "{-1: 2, 8: 1}"
      ]
     },
     "execution_count": 67,
     "metadata": {},
     "output_type": "execute_result"
    }
   ],
   "source": [
    "#Assignment 1\n",
    "A = Matrix([\n",
    "    [3,2,4],\n",
    "    [2,0,2],\n",
    "    [4,2,3]\n",
    "])\n",
    "\n",
    "A.eigenvals()"
   ]
  },
  {
   "cell_type": "code",
   "execution_count": 75,
   "metadata": {},
   "outputs": [
    {
     "data": {
      "image/png": "[encoded data removed]",
      "text/latex": [
       "$\\displaystyle \\left[ \\left\\{ q : 4\\right\\}\\right]$"
      ],
      "text/plain": [
       "[{q: 4}]"
      ]
     },
     "execution_count": 75,
     "metadata": {},
     "output_type": "execute_result"
    }
   ],
   "source": [
    "# Assignment 2\n",
    "q = Symbol('q')\n",
    "\n",
    "A = Matrix([\n",
    "    [3-2*q,1],\n",
    "    [4,3+2*q]\n",
    "])\n",
    "\n",
    "A2 = Matrix([\n",
    "    [29,6],\n",
    "    [24,125]\n",
    "])\n",
    "\n",
    "solve((A**2)-A2)\n"
   ]
  },
  {
   "cell_type": "code",
   "execution_count": 78,
   "metadata": {},
   "outputs": [
    {
     "data": {
      "image/png": "[encoded data removed]",
      "text/latex": [
       "$\\displaystyle B^{t + 1} \\left(\\frac{1}{B}\\right)^{t}$"
      ],
      "text/plain": [
       "          t\n",
       " t + 1 ⎛1⎞ \n",
       "B     ⋅⎜─⎟ \n",
       "       ⎝B⎠ "
      ]
     },
     "execution_count": 78,
     "metadata": {},
     "output_type": "execute_result"
    }
   ],
   "source": [
    "B = Symbol('B')\n",
    "t = Symbol('t')\n",
    "\n",
    "expression = (B**2)*(B**t)*B*(B**-1)*((B**-1)**t)*B*((B**-1)**2)\n",
    "\n",
    "simplify(expression)"
   ]
  },
  {
   "cell_type": "code",
   "execution_count": 81,
   "metadata": {},
   "outputs": [
    {
     "data": {
      "image/png": "[encoded data removed]",
      "text/latex": [
       "$\\displaystyle \\left\\{ k : -2\\right\\}$"
      ],
      "text/plain": [
       "{k: -2}"
      ]
     },
     "execution_count": 81,
     "metadata": {},
     "output_type": "execute_result"
    }
   ],
   "source": [
    "k = Symbol('k')\n",
    "A = Matrix([\n",
    "    [2,3],\n",
    "    [-1,1]\n",
    "])\n",
    "B = Matrix([\n",
    "    [1,9],\n",
    "    [-3,k]\n",
    "])\n",
    "\n",
    "solve(A*B-B*A,k)"
   ]
  },
  {
   "cell_type": "code",
   "execution_count": 83,
   "metadata": {},
   "outputs": [
    {
     "data": {
      "text/latex": [
       "$\\displaystyle \\left( \\left[\\begin{matrix}1 & 0 & \\frac{3}{2}\\\\0 & 1 & \\frac{7}{4}\\\\0 & 0 & 0\\end{matrix}\\right], \\  \\left( 0, \\  1\\right)\\right)$"
      ],
      "text/plain": [
       "⎛⎡1  0  3/2⎤        ⎞\n",
       "⎜⎢         ⎥        ⎟\n",
       "⎜⎢0  1  7/4⎥, (0, 1)⎟\n",
       "⎜⎢         ⎥        ⎟\n",
       "⎝⎣0  0   0 ⎦        ⎠"
      ]
     },
     "execution_count": 83,
     "metadata": {},
     "output_type": "execute_result"
    }
   ],
   "source": [
    "A = Matrix([\n",
    "    [1,2,5],\n",
    "    [3,-2,1],\n",
    "    [2,4,10]\n",
    "])\n",
    "\n",
    "A.rref()"
   ]
  },
  {
   "cell_type": "code",
   "execution_count": 84,
   "metadata": {},
   "outputs": [
    {
     "data": {
      "text/latex": [
       "$\\displaystyle \\left[\\begin{matrix}1 & 1 & 1 & -1\\\\0 & 1 & a - 1 & 2 a + 1\\\\0 & 0 & - a^{2} + 2 a & - 2 a^{2} + a\\end{matrix}\\right]$"
      ],
      "text/plain": [
       "⎡1  1      1           -1    ⎤\n",
       "⎢                            ⎥\n",
       "⎢0  1    a - 1      2⋅a + 1  ⎥\n",
       "⎢                            ⎥\n",
       "⎢         2             2    ⎥\n",
       "⎣0  0  - a  + 2⋅a  - 2⋅a  + a⎦"
      ]
     },
     "execution_count": 84,
     "metadata": {},
     "output_type": "execute_result"
    }
   ],
   "source": [
    "a = Symbol('a')\n",
    "\n",
    "A = Matrix([\n",
    "    [1,1,1,-1],\n",
    "    [1,2,a,2*a],\n",
    "    [1,a,2,-2]\n",
    "])\n",
    "\n",
    "A.echelon_form()"
   ]
  },
  {
   "cell_type": "code",
   "execution_count": 87,
   "metadata": {},
   "outputs": [
    {
     "data": {
      "image/png": "[encoded data removed]",
      "text/latex": [
       "$\\displaystyle - 8 x - 6 y - z - 1$"
      ],
      "text/plain": [
       "-8⋅x - 6⋅y - z - 1"
      ]
     },
     "execution_count": 87,
     "metadata": {},
     "output_type": "execute_result"
    }
   ],
   "source": [
    "x,y,z = symbols('x y z')\n",
    "\n",
    "A = Matrix([\n",
    "    [x,y,z,1],\n",
    "    [1,-2,3,1],\n",
    "    [2,-3,1,1],\n",
    "    [4,-6,3,1]\n",
    "])\n",
    "det(A)"
   ]
  },
  {
   "cell_type": "code",
   "execution_count": 3,
   "metadata": {},
   "outputs": [
    {
     "data": {
      "text/latex": [
       "$\\displaystyle \\left[ \\left( 2, \\  1, \\  \\left[ \\left[\\begin{matrix}4\\\\-1\\\\1\\end{matrix}\\right]\\right]\\right), \\  \\left( 3, \\  2, \\  \\left[ \\left[\\begin{matrix}1\\\\0\\\\0\\end{matrix}\\right]\\right]\\right)\\right]$"
      ],
      "text/plain": [
       "⎡⎛      ⎡⎡4 ⎤⎤⎞  ⎛      ⎡⎡1⎤⎤⎞⎤\n",
       "⎢⎜      ⎢⎢  ⎥⎥⎟  ⎜      ⎢⎢ ⎥⎥⎟⎥\n",
       "⎢⎜2, 1, ⎢⎢-1⎥⎥⎟, ⎜3, 2, ⎢⎢0⎥⎥⎟⎥\n",
       "⎢⎜      ⎢⎢  ⎥⎥⎟  ⎜      ⎢⎢ ⎥⎥⎟⎥\n",
       "⎣⎝      ⎣⎣1 ⎦⎦⎠  ⎝      ⎣⎣0⎦⎦⎠⎦"
      ]
     },
     "metadata": {},
     "output_type": "display_data"
    },
    {
     "data": {
      "text/latex": [
       "$\\displaystyle \\left[ \\left[\\begin{matrix}1\\\\0\\\\0\\end{matrix}\\right]\\right]$"
      ],
      "text/plain": [
       "⎡⎡1⎤⎤\n",
       "⎢⎢ ⎥⎥\n",
       "⎢⎢0⎥⎥\n",
       "⎢⎢ ⎥⎥\n",
       "⎣⎣0⎦⎦"
      ]
     },
     "metadata": {},
     "output_type": "display_data"
    },
    {
     "ename": "MatrixError",
     "evalue": "Matrix is not diagonalizable",
     "output_type": "error",
     "traceback": [
      "\u001b[1;31m---------------------------------------------------------------------------\u001b[0m",
      "\u001b[1;31mMatrixError\u001b[0m                               Traceback (most recent call last)",
      "\u001b[1;32m<ipython-input-3-cffc422658fd>\u001b[0m in \u001b[0;36m<module>\u001b[1;34m\u001b[0m\n\u001b[0;32m      8\u001b[0m \u001b[0mdisplay\u001b[0m\u001b[1;33m(\u001b[0m\u001b[1;33m(\u001b[0m\u001b[0mAdiag\u001b[0m\u001b[1;33m.\u001b[0m\u001b[0mnullspace\u001b[0m\u001b[1;33m(\u001b[0m\u001b[1;33m)\u001b[0m\u001b[1;33m)\u001b[0m\u001b[1;33m)\u001b[0m \u001b[1;31m#The geometric multiplicity is 1\u001b[0m\u001b[1;33m\u001b[0m\u001b[1;33m\u001b[0m\u001b[0m\n\u001b[0;32m      9\u001b[0m \u001b[1;31m#If the multiplicities are the same it is diagonalizable, since 2 and 1 are not the same multiplicities it is not diagonalizable\u001b[0m\u001b[1;33m\u001b[0m\u001b[1;33m\u001b[0m\u001b[1;33m\u001b[0m\u001b[0m\n\u001b[1;32m---> 10\u001b[1;33m \u001b[0mP\u001b[0m\u001b[1;33m,\u001b[0m\u001b[0mD\u001b[0m \u001b[1;33m=\u001b[0m \u001b[0mA\u001b[0m\u001b[1;33m.\u001b[0m\u001b[0mdiagonalize\u001b[0m\u001b[1;33m(\u001b[0m\u001b[1;33m)\u001b[0m\u001b[1;33m\u001b[0m\u001b[1;33m\u001b[0m\u001b[0m\n\u001b[0m\u001b[0;32m     11\u001b[0m \u001b[1;33m\u001b[0m\u001b[0m\n\u001b[0;32m     12\u001b[0m \u001b[0mPinv\u001b[0m \u001b[1;33m=\u001b[0m \u001b[0mP\u001b[0m\u001b[1;33m**\u001b[0m\u001b[1;33m-\u001b[0m\u001b[1;36m1\u001b[0m\u001b[1;33m\u001b[0m\u001b[1;33m\u001b[0m\u001b[0m\n",
      "\u001b[1;32m~\\anaconda3\\lib\\site-packages\\sympy\\matrices\\matrices.py\u001b[0m in \u001b[0;36mdiagonalize\u001b[1;34m(self, reals_only, sort, normalize)\u001b[0m\n\u001b[0;32m    375\u001b[0m \u001b[1;33m\u001b[0m\u001b[0m\n\u001b[0;32m    376\u001b[0m     \u001b[1;32mdef\u001b[0m \u001b[0mdiagonalize\u001b[0m\u001b[1;33m(\u001b[0m\u001b[0mself\u001b[0m\u001b[1;33m,\u001b[0m \u001b[0mreals_only\u001b[0m\u001b[1;33m=\u001b[0m\u001b[1;32mFalse\u001b[0m\u001b[1;33m,\u001b[0m \u001b[0msort\u001b[0m\u001b[1;33m=\u001b[0m\u001b[1;32mFalse\u001b[0m\u001b[1;33m,\u001b[0m \u001b[0mnormalize\u001b[0m\u001b[1;33m=\u001b[0m\u001b[1;32mFalse\u001b[0m\u001b[1;33m)\u001b[0m\u001b[1;33m:\u001b[0m\u001b[1;33m\u001b[0m\u001b[1;33m\u001b[0m\u001b[0m\n\u001b[1;32m--> 377\u001b[1;33m         return _diagonalize(self, reals_only=reals_only, sort=sort,\n\u001b[0m\u001b[0;32m    378\u001b[0m                 normalize=normalize)\n\u001b[0;32m    379\u001b[0m \u001b[1;33m\u001b[0m\u001b[0m\n",
      "\u001b[1;32m~\\anaconda3\\lib\\site-packages\\sympy\\matrices\\eigen.py\u001b[0m in \u001b[0;36m_diagonalize\u001b[1;34m(M, reals_only, sort, normalize)\u001b[0m\n\u001b[0;32m    603\u001b[0m \u001b[1;33m\u001b[0m\u001b[0m\n\u001b[0;32m    604\u001b[0m     \u001b[1;32mif\u001b[0m \u001b[1;32mnot\u001b[0m \u001b[0mis_diagonalizable\u001b[0m\u001b[1;33m:\u001b[0m\u001b[1;33m\u001b[0m\u001b[1;33m\u001b[0m\u001b[0m\n\u001b[1;32m--> 605\u001b[1;33m         \u001b[1;32mraise\u001b[0m \u001b[0mMatrixError\u001b[0m\u001b[1;33m(\u001b[0m\u001b[1;34m\"Matrix is not diagonalizable\"\u001b[0m\u001b[1;33m)\u001b[0m\u001b[1;33m\u001b[0m\u001b[1;33m\u001b[0m\u001b[0m\n\u001b[0m\u001b[0;32m    606\u001b[0m \u001b[1;33m\u001b[0m\u001b[0m\n\u001b[0;32m    607\u001b[0m     \u001b[1;32mif\u001b[0m \u001b[0msort\u001b[0m\u001b[1;33m:\u001b[0m\u001b[1;33m\u001b[0m\u001b[1;33m\u001b[0m\u001b[0m\n",
      "\u001b[1;31mMatrixError\u001b[0m: Matrix is not diagonalizable"
     ]
    }
   ],
   "source": [
    "#Assignment 5\n",
    "\n",
    "A=Matrix([[3,2,-2],[0,2,0],[0,1,3]])\n",
    "B=Matrix([[-5,2,-1,3],[0,1,0,2],[0,0,1,2],[0,0,0,3]])\n",
    "\n",
    "display(A.eigenvects()) #The algebraic multiplicity is 2\n",
    "Adiag=A-3*eye(3,3)\n",
    "display((Adiag.nullspace())) #The geometric multiplicity is 1\n",
    "#If the multiplicities are the same it is diagonalizable, since 2 and 1 are not the same multiplicities it is not diagonalizable\n",
    "P,D = A.diagonalize()\n",
    "\n",
    "Pinv = P**-1\n",
    "\n",
    "display(A.eigenvects())\n",
    "display(P)\n",
    "\n",
    "display(A.eigenvals())\n",
    "display(D)\n",
    "\n",
    "\n",
    "display(P*D*Pinv)"
   ]
  },
  {
   "cell_type": "code",
   "execution_count": 107,
   "metadata": {},
   "outputs": [
    {
     "data": {
      "text/latex": [
       "$\\displaystyle \\left[\\begin{matrix}-13.9508241758278\\\\27.388224275728\\\\14.7688561438554\\\\-0.0820804195803814\\end{matrix}\\right]$"
      ],
      "text/plain": [
       "⎡ -13.9508241758278 ⎤\n",
       "⎢                   ⎥\n",
       "⎢  27.388224275728  ⎥\n",
       "⎢                   ⎥\n",
       "⎢ 14.7688561438554  ⎥\n",
       "⎢                   ⎥\n",
       "⎣-0.0820804195803814⎦"
      ]
     },
     "metadata": {},
     "output_type": "display_data"
    },
    {
     "data": {
      "text/latex": [
       "$\\displaystyle \\left[\\begin{matrix}19.1317931125545\\\\16.0849716321398\\\\-0.143499142366969\\end{matrix}\\right]$"
      ],
      "text/plain": [
       "⎡ 19.1317931125545 ⎤\n",
       "⎢                  ⎥\n",
       "⎢ 16.0849716321398 ⎥\n",
       "⎢                  ⎥\n",
       "⎣-0.143499142366969⎦"
      ]
     },
     "metadata": {},
     "output_type": "display_data"
    },
    {
     "data": {
      "text/latex": [
       "$\\displaystyle \\left[\\begin{matrix}-19.3681318681329\\\\34.2008991008997\\\\13.2914085914085\\end{matrix}\\right]$"
      ],
      "text/plain": [
       "⎡-19.3681318681329⎤\n",
       "⎢                 ⎥\n",
       "⎢34.2008991008997 ⎥\n",
       "⎢                 ⎥\n",
       "⎣13.2914085914085 ⎦"
      ]
     },
     "metadata": {},
     "output_type": "display_data"
    },
    {
     "data": {
      "image/png": "[encoded data removed]",
      "text/latex": [
       "$\\displaystyle 293.798550463146$"
      ],
      "text/plain": [
       "293.798550463146"
      ]
     },
     "metadata": {},
     "output_type": "display_data"
    },
    {
     "data": {
      "image/png": "[encoded data removed]",
      "text/latex": [
       "$\\displaystyle 294.253161234826$"
      ],
      "text/plain": [
       "294.253161234826"
      ]
     },
     "metadata": {},
     "output_type": "display_data"
    },
    {
     "data": {
      "image/png": "[encoded data removed]",
      "text/latex": [
       "$\\displaystyle 294.034556777636$"
      ],
      "text/plain": [
       "294.034556777636"
      ]
     },
     "metadata": {},
     "output_type": "display_data"
    },
    {
     "data": {
      "image/png": "[encoded data removed]",
      "text/latex": [
       "$\\displaystyle 400.885943743758$"
      ],
      "text/plain": [
       "400.885943743758"
      ]
     },
     "metadata": {},
     "output_type": "display_data"
    },
    {
     "data": {
      "image/png": "[encoded data removed]",
      "text/latex": [
       "$\\displaystyle 155.321544080919$"
      ],
      "text/plain": [
       "155.321544080919"
      ]
     },
     "metadata": {},
     "output_type": "display_data"
    }
   ],
   "source": [
    "# Assignment 6\n",
    "\n",
    "t = Matrix([0,1,2,3,4,5,6,7,8,9,10,11,12])\n",
    "t_squared = Matrix([0**2,1**2,2**2,3**2,4**2,5**2,6**2,7**2,8**2,9**2,10**2,11**2,12**2])\n",
    "t_cubed = Matrix([0**3,1**3,2**3,3**3,4**3,5**3,6**3,7**3,8**3,9**3,10**3,11**3,12**3])\n",
    "\n",
    "y = Matrix([0,26.4, 89.7, 186, 314.1, 477.3, 666.0, 883.5, 1141.2, 1413.3, 1715.1, 1715.1, 2427.6])\n",
    "\n",
    "\n",
    "#(a) Determine the design matrix and observation matrix of all three models.\n",
    "X1 = Matrix([ones(13,1)]).row_join(t).row_join(t_squared).row_join(t_cubed) # Design matrix\n",
    "X2 = t.row_join(t_squared).row_join(t_cubed) # Design matrix\n",
    "X3 = Matrix([ones(13,1)]).row_join(t).row_join(t_squared) # Design matrix\n",
    "\n",
    "\n",
    "# (b) Determine the parameters of all three models (Least squared)\n",
    "#y1\n",
    "X1TX = X1.T * X1\n",
    "X1Ty = X1.T * y\n",
    "\n",
    "augmented = X1TX.row_join(X1Ty)\n",
    "X1Hat = N(augmented.rref()[0][:,-1])\n",
    "display(X1Hat)\n",
    "\n",
    "#y2\n",
    "X2TX = X2.T * X2\n",
    "X2Ty = X2.T * y\n",
    "\n",
    "augmented = X2TX.row_join(X2Ty)\n",
    "display(N(augmented.rref()[0][:,-1]))\n",
    "X2Hat = N(augmented.rref()[0][:,-1])\n",
    "\n",
    "#y3\n",
    "X3TX = X3.T * X3\n",
    "X3Ty = X3.T * y\n",
    "\n",
    "augmented = X3TX.row_join(X3Ty)\n",
    "display(N(augmented.rref()[0][:,-1]))\n",
    "X3Hat = N(augmented.rref()[0][:,-1])\n",
    "\n",
    "\n",
    "# (c) State, with substantiation, which of the three models is the best fit for the measured data\n",
    "display((y - X1 * X1Hat).norm())\n",
    "display((y - X2 * X2Hat).norm())\n",
    "display((y - X3 * X3Hat).norm())\n",
    "\n",
    "\n",
    "# (d) Use the best fitted model to estimate the velocity of the plane when t = 4:5 seconds.\n",
    "y45 = X1Hat[0]+X1Hat[1]*4.5+X1Hat[2]*(4.5**2)+X1Hat[3]*(4.5**3)\n",
    "y45diff = X1Hat[1]+2*X1Hat[2]*4.5+3*X1Hat[3]*(4.5**2)\n",
    "display(y45)\n",
    "display(y45diff)\n"
   ]
  },
  {
   "cell_type": "code",
   "execution_count": 149,
   "metadata": {},
   "outputs": [
    {
     "data": {
      "text/latex": [
       "$\\displaystyle \\left[ \\left( 1, \\  1, \\  \\left[ \\left[\\begin{matrix}0\\\\-1\\\\1\\end{matrix}\\right]\\right]\\right), \\  \\left( 4, \\  1, \\  \\left[ \\left[\\begin{matrix}1\\\\0\\\\0\\end{matrix}\\right]\\right]\\right), \\  \\left( 9, \\  1, \\  \\left[ \\left[\\begin{matrix}0\\\\1\\\\1\\end{matrix}\\right]\\right]\\right)\\right]$"
      ],
      "text/plain": [
       "⎡⎛      ⎡⎡0 ⎤⎤⎞  ⎛      ⎡⎡1⎤⎤⎞  ⎛      ⎡⎡0⎤⎤⎞⎤\n",
       "⎢⎜      ⎢⎢  ⎥⎥⎟  ⎜      ⎢⎢ ⎥⎥⎟  ⎜      ⎢⎢ ⎥⎥⎟⎥\n",
       "⎢⎜1, 1, ⎢⎢-1⎥⎥⎟, ⎜4, 1, ⎢⎢0⎥⎥⎟, ⎜9, 1, ⎢⎢1⎥⎥⎟⎥\n",
       "⎢⎜      ⎢⎢  ⎥⎥⎟  ⎜      ⎢⎢ ⎥⎥⎟  ⎜      ⎢⎢ ⎥⎥⎟⎥\n",
       "⎣⎝      ⎣⎣1 ⎦⎦⎠  ⎝      ⎣⎣0⎦⎦⎠  ⎝      ⎣⎣1⎦⎦⎠⎦"
      ]
     },
     "metadata": {},
     "output_type": "display_data"
    },
    {
     "data": {
      "text/latex": [
       "$\\displaystyle U S V^T = \\left[\\begin{matrix}2 & 0 & 0\\\\0 & 2 & 1\\\\0 & 1 & 2\\\\0 & 0 & 0\\end{matrix}\\right]$"
      ],
      "text/plain": [
       "<IPython.core.display.Math object>"
      ]
     },
     "metadata": {},
     "output_type": "display_data"
    },
    {
     "data": {
      "text/latex": [
       "$\\displaystyle U  = \\left[\\begin{matrix}0 & 1 & 0\\\\\\frac{\\sqrt{2}}{2} & 0 & - \\frac{\\sqrt{2}}{2}\\\\\\frac{\\sqrt{2}}{2} & 0 & \\frac{\\sqrt{2}}{2}\\\\0 & 0 & 0\\end{matrix}\\right]$"
      ],
      "text/plain": [
       "<IPython.core.display.Math object>"
      ]
     },
     "metadata": {},
     "output_type": "display_data"
    },
    {
     "data": {
      "text/latex": [
       "$\\displaystyle \\left[\\begin{matrix}2 & 0 & 0\\\\0 & 2 & 1\\\\0 & 1 & 2\\\\0 & 0 & 0\\end{matrix}\\right]$"
      ],
      "text/plain": [
       "⎡2  0  0⎤\n",
       "⎢       ⎥\n",
       "⎢0  2  1⎥\n",
       "⎢       ⎥\n",
       "⎢0  1  2⎥\n",
       "⎢       ⎥\n",
       "⎣0  0  0⎦"
      ]
     },
     "metadata": {},
     "output_type": "display_data"
    },
    {
     "name": "stdout",
     "output_type": "stream",
     "text": [
      "cola\n"
     ]
    },
    {
     "data": {
      "text/latex": [
       "$\\displaystyle \\left[ \\left[\\begin{matrix}2\\\\0\\\\0\\\\0\\end{matrix}\\right], \\  \\left[\\begin{matrix}0\\\\2\\\\1\\\\0\\end{matrix}\\right], \\  \\left[\\begin{matrix}0\\\\1\\\\2\\\\0\\end{matrix}\\right]\\right]$"
      ],
      "text/plain": [
       "⎡⎡2⎤  ⎡0⎤  ⎡0⎤⎤\n",
       "⎢⎢ ⎥  ⎢ ⎥  ⎢ ⎥⎥\n",
       "⎢⎢0⎥  ⎢2⎥  ⎢1⎥⎥\n",
       "⎢⎢ ⎥, ⎢ ⎥, ⎢ ⎥⎥\n",
       "⎢⎢0⎥  ⎢1⎥  ⎢2⎥⎥\n",
       "⎢⎢ ⎥  ⎢ ⎥  ⎢ ⎥⎥\n",
       "⎣⎣0⎦  ⎣0⎦  ⎣0⎦⎦"
      ]
     },
     "metadata": {},
     "output_type": "display_data"
    },
    {
     "data": {
      "text/latex": [
       "$\\displaystyle \\left[\\begin{matrix}0\\\\\\frac{\\sqrt{2}}{2}\\\\\\frac{\\sqrt{2}}{2}\\\\0\\end{matrix}\\right]$"
      ],
      "text/plain": [
       "⎡0 ⎤\n",
       "⎢  ⎥\n",
       "⎢√2⎥\n",
       "⎢──⎥\n",
       "⎢2 ⎥\n",
       "⎢  ⎥\n",
       "⎢√2⎥\n",
       "⎢──⎥\n",
       "⎢2 ⎥\n",
       "⎢  ⎥\n",
       "⎣0 ⎦"
      ]
     },
     "metadata": {},
     "output_type": "display_data"
    },
    {
     "data": {
      "text/latex": [
       "$\\displaystyle \\left[\\begin{matrix}1\\\\0\\\\0\\\\0\\end{matrix}\\right]$"
      ],
      "text/plain": [
       "⎡1⎤\n",
       "⎢ ⎥\n",
       "⎢0⎥\n",
       "⎢ ⎥\n",
       "⎢0⎥\n",
       "⎢ ⎥\n",
       "⎣0⎦"
      ]
     },
     "metadata": {},
     "output_type": "display_data"
    },
    {
     "data": {
      "text/latex": [
       "$\\displaystyle \\left[\\begin{matrix}0\\\\- \\frac{\\sqrt{2}}{2}\\\\\\frac{\\sqrt{2}}{2}\\\\0\\end{matrix}\\right]$"
      ],
      "text/plain": [
       "⎡ 0  ⎤\n",
       "⎢    ⎥\n",
       "⎢-√2 ⎥\n",
       "⎢────⎥\n",
       "⎢ 2  ⎥\n",
       "⎢    ⎥\n",
       "⎢ √2 ⎥\n",
       "⎢ ── ⎥\n",
       "⎢ 2  ⎥\n",
       "⎢    ⎥\n",
       "⎣ 0  ⎦"
      ]
     },
     "metadata": {},
     "output_type": "display_data"
    },
    {
     "data": {
      "text/latex": [
       "$\\displaystyle \\left[\\begin{matrix}0 & 1 & 0\\\\\\frac{\\sqrt{2}}{2} & 0 & - \\frac{\\sqrt{2}}{2}\\\\\\frac{\\sqrt{2}}{2} & 0 & \\frac{\\sqrt{2}}{2}\\\\0 & 0 & 0\\end{matrix}\\right]$"
      ],
      "text/plain": [
       "⎡0   1   0  ⎤\n",
       "⎢           ⎥\n",
       "⎢√2     -√2 ⎥\n",
       "⎢──  0  ────⎥\n",
       "⎢2       2  ⎥\n",
       "⎢           ⎥\n",
       "⎢√2      √2 ⎥\n",
       "⎢──  0   ── ⎥\n",
       "⎢2       2  ⎥\n",
       "⎢           ⎥\n",
       "⎣0   0   0  ⎦"
      ]
     },
     "metadata": {},
     "output_type": "display_data"
    }
   ],
   "source": [
    "# Assignment 7\n",
    "A = Matrix([\n",
    "    [2,0,0],\n",
    "    [0,2,1],\n",
    "    [0,1,2],\n",
    "    [0,0,0]\n",
    "])\n",
    "\n",
    "ATA = A.T*A\n",
    "AAT = A*A.T\n",
    "\n",
    "# (a) Finding the eigenvalues of either ATA or AAT\n",
    "vects = ATA.eigenvects()\n",
    "display(vects)\n",
    "\n",
    "# (a1) Determining the corresponding eigenvectors, (descending for S)\n",
    "s1 = sqrt(vects[2][0])\n",
    "s2 = sqrt(vects[1][0])\n",
    "s3 = sqrt(vects[0][0])\n",
    "\n",
    "v1 = vects[2][2][0].normalized()\n",
    "v2 = vects[1][2][0].normalized()\n",
    "v3 = vects[0][2][0].normalized()\n",
    "\n",
    "u1 = (s1**-1)*A*v1\n",
    "u2 = (s2**-1)*A*v2\n",
    "u3 = (s3**-1)*A*v3\n",
    "u4 = u1.T.col_join(u2.T).col_join(u3.T).nullspace()[0].normalized() #This is finding a 3rd vector we dont have\n",
    "\n",
    "\n",
    "# setup A = U * S * VT\n",
    "U = u1.row_join(u2).row_join(u3)\n",
    "V = v1.row_join(v2).row_join(v3)\n",
    "S = diag(s1,s2,s3).col_join(zeros(0,3))\n",
    "VT = V.T\n",
    "\n",
    "# Test A 0 U * S * VT\n",
    "display(Math(r'U S V^T = ' +latex(U*S*VT)))\n",
    "display(Math(r'U  = ' +latex(U)))\n",
    "display(A)\n",
    "\n",
    "\n",
    "# (b)\n",
    "cola = A.columnspace()\n",
    "\n",
    "display(cola)\n",
    "\n",
    "display(u1)\n",
    "display(u2)\n",
    "display(u3)\n",
    "display(U)\n"
   ]
  },
  {
   "cell_type": "code",
   "execution_count": 144,
   "metadata": {},
   "outputs": [
    {
     "data": {
      "text/latex": [
       "$\\displaystyle \\left[\\begin{matrix}0\\\\0\\\\0\\\\1\\end{matrix}\\right]$"
      ],
      "text/plain": [
       "⎡0⎤\n",
       "⎢ ⎥\n",
       "⎢0⎥\n",
       "⎢ ⎥\n",
       "⎢0⎥\n",
       "⎢ ⎥\n",
       "⎣1⎦"
      ]
     },
     "metadata": {},
     "output_type": "display_data"
    }
   ],
   "source": [
    "display(u4)"
   ]
  },
  {
   "cell_type": "code",
   "execution_count": 124,
   "metadata": {},
   "outputs": [
    {
     "data": {
      "text/latex": [
       "$\\displaystyle Col A = \\left[\\begin{matrix}0\\\\\\frac{\\sqrt{2}}{2}\\\\\\frac{\\sqrt{2}}{2}\\\\0\\end{matrix}\\right] , \\left[\\begin{matrix}1\\\\0\\\\0\\\\0\\end{matrix}\\right] , \\left[\\begin{matrix}0\\\\- \\frac{\\sqrt{2}}{2}\\\\\\frac{\\sqrt{2}}{2}\\\\0\\end{matrix}\\right]$"
      ],
      "text/plain": [
       "<IPython.core.display.Math object>"
      ]
     },
     "metadata": {},
     "output_type": "display_data"
    },
    {
     "data": {
      "text/latex": [
       "$\\displaystyle Nul A^T = \\left[\\begin{matrix}0\\\\- \\frac{\\sqrt{2}}{2}\\\\\\frac{\\sqrt{2}}{2}\\\\0\\end{matrix}\\right]$"
      ],
      "text/plain": [
       "<IPython.core.display.Math object>"
      ]
     },
     "metadata": {},
     "output_type": "display_data"
    },
    {
     "data": {
      "text/latex": [
       "$\\displaystyle Col A^T = Row A = \\left[\\begin{matrix}0\\\\\\frac{\\sqrt{2}}{2}\\\\\\frac{\\sqrt{2}}{2}\\end{matrix}\\right] , \\left[\\begin{matrix}1\\\\0\\\\0\\end{matrix}\\right] , \\left[\\begin{matrix}0\\\\- \\frac{\\sqrt{2}}{2}\\\\\\frac{\\sqrt{2}}{2}\\end{matrix}\\right]$"
      ],
      "text/plain": [
       "<IPython.core.display.Math object>"
      ]
     },
     "metadata": {},
     "output_type": "display_data"
    },
    {
     "data": {
      "text/latex": [
       "$\\displaystyle Nul A = \\left[ \\right]$"
      ],
      "text/plain": [
       "<IPython.core.display.Math object>"
      ]
     },
     "metadata": {},
     "output_type": "display_data"
    }
   ],
   "source": [
    "find_colnul_svd(U,V)"
   ]
  },
  {
   "cell_type": "code",
   "execution_count": 145,
   "metadata": {},
   "outputs": [
    {
     "data": {
      "text/latex": [
       "$\\displaystyle Col A = \\left[\\begin{matrix}0\\\\\\frac{\\sqrt{2}}{2}\\\\\\frac{\\sqrt{2}}{2}\\\\0\\end{matrix}\\right] , \\left[\\begin{matrix}1\\\\0\\\\0\\\\0\\end{matrix}\\right] , \\left[\\begin{matrix}0\\\\- \\frac{\\sqrt{2}}{2}\\\\\\frac{\\sqrt{2}}{2}\\\\0\\end{matrix}\\right]$"
      ],
      "text/plain": [
       "<IPython.core.display.Math object>"
      ]
     },
     "metadata": {},
     "output_type": "display_data"
    },
    {
     "data": {
      "text/latex": [
       "$\\displaystyle Nul A^T = \\left[\\begin{matrix}0\\\\0\\\\0\\\\1\\end{matrix}\\right]$"
      ],
      "text/plain": [
       "<IPython.core.display.Math object>"
      ]
     },
     "metadata": {},
     "output_type": "display_data"
    },
    {
     "data": {
      "text/latex": [
       "$\\displaystyle Col A^T = \\left[\\begin{matrix}0\\\\\\frac{\\sqrt{2}}{2}\\\\\\frac{\\sqrt{2}}{2}\\end{matrix}\\right] , \\left[\\begin{matrix}1\\\\0\\\\0\\end{matrix}\\right] , \\left[\\begin{matrix}0\\\\- \\frac{\\sqrt{2}}{2}\\\\\\frac{\\sqrt{2}}{2}\\end{matrix}\\right]$"
      ],
      "text/plain": [
       "<IPython.core.display.Math object>"
      ]
     },
     "metadata": {},
     "output_type": "display_data"
    }
   ],
   "source": [
    "#  Orthonormal bases for Col A:\n",
    "# The first three columns of U is an orthonormal basis for the column space\n",
    "cola = display(Math(r'Col A = ' + latex(u1) + ' , ' + latex(u2) + ' , ' + latex(u3)))\n",
    "\n",
    "# Orthonormal bases for Nul A T:\n",
    "# The last column of U is an orthonormal basis for the left nullspace, i.e. the nullspace of A transpose\n",
    "AAT = A*A.T\n",
    "display(Math(r'Nul A^T = ' +latex(AAT.eigenvects()[0][2][0])))\n",
    "\n",
    "# Orthonormal bases for Col A T:\n",
    "# The first three columns of V is is an orthonormal basis for the row space (= Column space of A transpose)\n",
    "display(Math(r'Col A^T = ' + latex(v1) + ' , ' + latex(v2) + ' , ' + latex(v3)))\n",
    "\n",
    "# Orthonormal bases for Nul A:\n",
    "# Since V only has three columns, the null space of A must be empty as this would have been the remaining columns of V.\n"
   ]
  },
  {
   "cell_type": "code",
   "execution_count": 122,
   "metadata": {},
   "outputs": [],
   "source": [
    "def find_colnul_svd(U,V):\n",
    "    \n",
    "# The rank r of A is three since this is the number of nonzero singular values.\n",
    "\n",
    "# The first three columns of U is an orthonormal basis for the column space\n",
    "\n",
    "# The last column of U is an orthonormal basis for the left nullspace, i.e. the nullspace of A transpose\n",
    "\n",
    "# The first three columns of V is is an orthonormal basis for the row space (= Column space of A transpose)\n",
    "\n",
    "# Since V only has three columns, the null space of A must be empty as this would have been the remaining columns of V.\n",
    "    \n",
    "    display(Math(r'Col A = ' + latex(U[:, 0]) + ' , ' + latex(U[:, 1]) + ' , ' + latex(U[:,2])))\n",
    "    display(Math(r'Nul A^T = ' + latex(U[:, -1])))\n",
    "    display(Math(r'Col A^T = Row A = ' + latex(V[:, 0]) + ' , ' + latex(V[:, 1]) + ' , ' +latex(V[:, 2])))\n",
    "    display(Math(r'Nul A = ' + latex([])))"
   ]
  }
 ],
 "metadata": {
  "kernelspec": {
   "display_name": "Python 3",
   "language": "python",
   "name": "python3"
  },
  "language_info": {
   "codemirror_mode": {
    "name": "ipython",
    "version": 3
   },
   "file_extension": ".py",
   "mimetype": "text/x-python",
   "name": "python",
   "nbconvert_exporter": "python",
   "pygments_lexer": "ipython3",
   "version": "3.8.3"
  }
 },
 "nbformat": 4,
 "nbformat_minor": 4
}
