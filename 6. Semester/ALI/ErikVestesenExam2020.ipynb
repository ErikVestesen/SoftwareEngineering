{
 "cells": [
  {
   "cell_type": "code",
   "execution_count": 1,
   "metadata": {},
   "outputs": [],
   "source": [
    "#Student number: 293125"
   ]
  },
  {
   "cell_type": "code",
   "execution_count": 2,
   "metadata": {},
   "outputs": [],
   "source": [
    "from sympy import *\n",
    "from IPython.display import display, Latex, HTML, Math\n",
    "import numpy as np\n",
    "init_printing()\n",
    "import math"
   ]
  },
  {
   "cell_type": "code",
   "execution_count": 43,
   "metadata": {},
   "outputs": [
    {
     "data": {
      "text/latex": [
       "$\\displaystyle \\left[\\begin{matrix}-2 & 2 & 3 & 1 & -3 & -2\\\\0 & 2 & 0 & 0 & 1 & -1\\\\-1 & 0 & 1 & -3 & -2 & 2\\end{matrix}\\right]$"
      ],
      "text/plain": [
       "⎡-2  2  3  1   -3  -2⎤\n",
       "⎢                    ⎥\n",
       "⎢0   2  0  0   1   -1⎥\n",
       "⎢                    ⎥\n",
       "⎣-1  0  1  -3  -2  2 ⎦"
      ]
     },
     "metadata": {},
     "output_type": "display_data"
    },
    {
     "data": {
      "text/latex": [
       "$\\displaystyle \\left( \\left[\\begin{matrix}1 & 0 & 0 & 10 & 2 & -7 & 0\\\\0 & 1 & 0 & 0 & \\frac{1}{2} & - \\frac{1}{2} & 0\\\\0 & 0 & 1 & 7 & 0 & -5 & 0\\end{matrix}\\right], \\  \\left( 0, \\  1, \\  2\\right)\\right)$"
      ],
      "text/plain": [
       "⎛⎡1  0  0  10   2    -7   0⎤           ⎞\n",
       "⎜⎢                         ⎥           ⎟\n",
       "⎜⎢0  1  0  0   1/2  -1/2  0⎥, (0, 1, 2)⎟\n",
       "⎜⎢                         ⎥           ⎟\n",
       "⎝⎣0  0  1  7    0    -5   0⎦           ⎠"
      ]
     },
     "execution_count": 43,
     "metadata": {},
     "output_type": "execute_result"
    }
   ],
   "source": [
    "# Assignment 1\n",
    "x = Symbol('x')\n",
    "A = Matrix([\n",
    "    [3,0,0,0],\n",
    "    [0,1,0,1],\n",
    "    [0,0,x,0],\n",
    "    [0,1,0,1]\n",
    "])\n",
    "\n",
    "\n",
    "# (c)\n",
    "A = Matrix([\n",
    "    [2,0,1,1],\n",
    "    [0,-1,-2,3],\n",
    "    [0,0,1,4],\n",
    "    [0,0,0,2]\n",
    "])\n",
    "\n",
    "#display(A)\n",
    "#display(A.nullspace()) # dim null = 0\n",
    "#display(A.columnspace()) # dim(cola) = 4\n",
    "#display(A.eigenvals()) # no zero\n",
    "#display(det(A)) # -4\n",
    "#display(A.rref())\n",
    "\n",
    "\n",
    "# (d)\n",
    "\n",
    "\n",
    "# (e)\n",
    "A = Matrix([\n",
    "    [-2,2,3,1,-3,-2],\n",
    "    [0,2,0,0,1,-1],\n",
    "    [-1,0,1,-3,-2,2]\n",
    "])\n",
    "display(A)\n",
    "A.nullspace()\n",
    "A.columnspace()\n",
    "A = Matrix([\n",
    "    [-2,2,3,1,-3,-2,0],\n",
    "    [0,2,0,0,1,-1,0],\n",
    "    [-1,0,1,-3,-2,2,0]\n",
    "])\n",
    "A.rref()"
   ]
  },
  {
   "cell_type": "code",
   "execution_count": 68,
   "metadata": {},
   "outputs": [
    {
     "data": {
      "text/latex": [
       "$\\displaystyle \\left[\\begin{matrix}4 & 0 & -1\\\\-1 & 2 & 1\\\\2 & 1 & 3\\end{matrix}\\right]$"
      ],
      "text/plain": [
       "⎡4   0  -1⎤\n",
       "⎢         ⎥\n",
       "⎢-1  2  1 ⎥\n",
       "⎢         ⎥\n",
       "⎣2   1  3 ⎦"
      ]
     },
     "metadata": {},
     "output_type": "display_data"
    },
    {
     "data": {
      "image/png": "[encoded data removed]",
      "text/latex": [
       "$\\displaystyle \\left\\{ a : 2, \\  b : \\frac{y}{3} + \\frac{7}{3}, \\  c : 5, \\  d : 0, \\  x : 4, \\  z : 4\\right\\}$"
      ],
      "text/plain": [
       "⎧         y   7                        ⎫\n",
       "⎨a: 2, b: ─ + ─, c: 5, d: 0, x: 4, z: 4⎬\n",
       "⎩         3   3                        ⎭"
      ]
     },
     "metadata": {},
     "output_type": "display_data"
    },
    {
     "data": {
      "text/latex": [
       "$\\displaystyle \\left[\\begin{matrix}9 & -7 & 3 b - y\\\\20 & 3 & -10\\end{matrix}\\right]$"
      ],
      "text/plain": [
       "⎡9   -7  3⋅b - y⎤\n",
       "⎢               ⎥\n",
       "⎣20  3     -10  ⎦"
      ]
     },
     "metadata": {},
     "output_type": "display_data"
    },
    {
     "data": {
      "text/latex": [
       "$\\displaystyle \\left[\\begin{matrix}9 & -7 & 7\\\\20 & 3 & -10\\end{matrix}\\right]$"
      ],
      "text/plain": [
       "⎡9   -7   7 ⎤\n",
       "⎢           ⎥\n",
       "⎣20  3   -10⎦"
      ]
     },
     "metadata": {},
     "output_type": "display_data"
    }
   ],
   "source": [
    "# Assignment 2\n",
    "A = Matrix([\n",
    "    [1,1,0],\n",
    "    [0,1,1],\n",
    "    [0,0,1]\n",
    "])\n",
    "\n",
    "B = Matrix([\n",
    "    [2,0,0],\n",
    "    [1,1,2],\n",
    "    [2,0,1]\n",
    "])\n",
    "C = Matrix([\n",
    "    [1,1,0],\n",
    "    [0,1,0],\n",
    "    [0,1,2]\n",
    "])\n",
    "\n",
    "display((A**-1)*B+C)\n",
    "X = (A**-1)*B+C\n",
    "det((A**-1)*X)\n",
    "\n",
    "\n",
    "# (b)\n",
    "a,b,c,d,x,y,z = symbols('a b c d x y z')\n",
    "A = Matrix([\n",
    "    [a,-1,b],\n",
    "    [c,d,-2]\n",
    "])\n",
    "B = Matrix([\n",
    "    [-3,x,y],\n",
    "    [-5,-3,z]\n",
    "])\n",
    "res1 = Matrix([\n",
    "    [9,-7,7],\n",
    "    [20,3,-10]\n",
    "])\n",
    "\n",
    "display(solve(3*A-B-res1))\n",
    "\n",
    "A = Matrix([\n",
    "    [2,-1,b],\n",
    "    [5,0,-2]\n",
    "])\n",
    "B = Matrix([\n",
    "    [-3,4,y],\n",
    "    [-5,-3,4]\n",
    "])\n",
    "\n",
    "#display(solve(3*A-B-res1))\n",
    "res2= Matrix([\n",
    "    [9,-2,20],\n",
    "    [25,-3,-8]\n",
    "])\n",
    "\n",
    "display(3*A-B)\n",
    "display(res1)\n",
    "#solve(6*A+B-res2)"
   ]
  },
  {
   "cell_type": "code",
   "execution_count": 189,
   "metadata": {},
   "outputs": [
    {
     "data": {
      "text/latex": [
       "$\\displaystyle \\left[\\begin{matrix}0 & 2 & 3 & 4\\\\1 & -3 & 4 & 5\\\\-3 & 10 & -6 & -7\\end{matrix}\\right]$"
      ],
      "text/plain": [
       "⎡0   2   3   4 ⎤\n",
       "⎢              ⎥\n",
       "⎢1   -3  4   5 ⎥\n",
       "⎢              ⎥\n",
       "⎣-3  10  -6  -7⎦"
      ]
     },
     "metadata": {},
     "output_type": "display_data"
    },
    {
     "data": {
      "text/latex": [
       "$\\displaystyle \\left( \\left[\\begin{matrix}1 & 0 & 0 & - \\frac{1}{3} & \\frac{2}{3}\\\\0 & 1 & 0 & 0 & 0\\\\0 & 0 & 1 & \\frac{4}{3} & \\frac{1}{3}\\end{matrix}\\right], \\  \\left( 0, \\  1, \\  2\\right)\\right)$"
      ],
      "text/plain": [
       "⎛⎡1  0  0  -1/3  2/3⎤           ⎞\n",
       "⎜⎢                  ⎥           ⎟\n",
       "⎜⎢0  1  0   0     0 ⎥, (0, 1, 2)⎟\n",
       "⎜⎢                  ⎥           ⎟\n",
       "⎝⎣0  0  1  4/3   1/3⎦           ⎠"
      ]
     },
     "metadata": {},
     "output_type": "display_data"
    },
    {
     "name": "stdout",
     "output_type": "stream",
     "text": [
      "f\n"
     ]
    },
    {
     "data": {
      "text/latex": [
       "$\\displaystyle \\left[ \\left[\\begin{matrix}2 & 3 & 10\\end{matrix}\\right], \\  \\left[\\begin{matrix}0 & 1 & -3\\end{matrix}\\right], \\  \\left[\\begin{matrix}0 & 0 & -45\\end{matrix}\\right]\\right]$"
      ],
      "text/plain": [
       "[[2  3  10], [0  1  -3], [0  0  -45]]"
      ]
     },
     "metadata": {},
     "output_type": "display_data"
    },
    {
     "data": {
      "image/png": "[encoded data removed]",
      "text/latex": [
       "$\\displaystyle \\left[ \\right]$"
      ],
      "text/plain": [
       "[]"
      ]
     },
     "metadata": {},
     "output_type": "display_data"
    },
    {
     "data": {
      "image/png": "[encoded data removed]",
      "text/latex": [
       "$\\displaystyle 38$"
      ],
      "text/plain": [
       "38"
      ]
     },
     "metadata": {},
     "output_type": "display_data"
    },
    {
     "data": {
      "image/png": "[encoded data removed]",
      "text/latex": [
       "$\\displaystyle -26$"
      ],
      "text/plain": [
       "-26"
      ]
     },
     "metadata": {},
     "output_type": "display_data"
    },
    {
     "data": {
      "image/png": "[encoded data removed]",
      "text/latex": [
       "$\\displaystyle -32$"
      ],
      "text/plain": [
       "-32"
      ]
     },
     "metadata": {},
     "output_type": "display_data"
    },
    {
     "name": "stdout",
     "output_type": "stream",
     "text": [
      "Basis\n",
      "Basis\n",
      "f end\n"
     ]
    },
    {
     "data": {
      "text/latex": [
       "$\\displaystyle \\left[\\begin{matrix}1\\\\1\\\\1\\\\1\\end{matrix}\\right]$"
      ],
      "text/plain": [
       "⎡1⎤\n",
       "⎢ ⎥\n",
       "⎢1⎥\n",
       "⎢ ⎥\n",
       "⎢1⎥\n",
       "⎢ ⎥\n",
       "⎣1⎦"
      ]
     },
     "metadata": {},
     "output_type": "display_data"
    },
    {
     "data": {
      "text/latex": [
       "$\\displaystyle \\left[\\begin{matrix}0 & 2 & 3 & 4\\\\1 & -3 & 4 & 5\\\\-3 & 10 & -6 & -7\\end{matrix}\\right]$"
      ],
      "text/plain": [
       "⎡0   2   3   4 ⎤\n",
       "⎢              ⎥\n",
       "⎢1   -3  4   5 ⎥\n",
       "⎢              ⎥\n",
       "⎣-3  10  -6  -7⎦"
      ]
     },
     "metadata": {},
     "output_type": "display_data"
    }
   ],
   "source": [
    "# Assignment 3\n",
    "A = Matrix([\n",
    "    [0,2,3,4],\n",
    "    [1,-3,4,5],\n",
    "    [-3,10,-6,-7]\n",
    "])\n",
    "b= Matrix([1,2,-4])\n",
    "display(A)\n",
    "Ab = A.row_join(b)\n",
    "A = A.row_join(b)\n",
    "display(A.rref())\n",
    "\n",
    "\n",
    "# (f)\n",
    "print('f')\n",
    "v1 = Matrix([0,2,3,4])\n",
    "v2 = Matrix([1,3,4,5])\n",
    "v3 = Matrix([-3,10,-6,-7])\n",
    "V = v1.row_join(v2).row_join(v3)\n",
    "display(V.rowspace())\n",
    "k = Symbol('k')\n",
    "\n",
    "display(solve(v1.dot(v2),k))\n",
    "display(v1.dot(v2))\n",
    "display(v1.dot(v3))\n",
    "display(v2.dot(v3))\n",
    "\n",
    "print('Basis')\n",
    "#display(GramSchmidt(V,True))\n",
    "\n",
    "#display(V.rowspace())\n",
    "#display(V.rref())\n",
    "#x1 = v1.normalized()\n",
    "#x2 = v2.normalized()\n",
    "#x3 = v3.normalized()\n",
    "#display(x1)\n",
    "#display(x2)\n",
    "#display(x3)\n",
    "print('Basis')\n",
    "#V = x1.row_join(x2).row_join(x3)\n",
    "#display(V.nullspace())\n",
    "print('f end')\n",
    "\n",
    "\n",
    "# g\n",
    "A = Matrix([\n",
    "    [0,2,3,4],\n",
    "    [1,-3,4,5],\n",
    "    [-3,10,-6,-7]\n",
    "])\n",
    "A.nullspace()\n",
    "\n",
    "# h\n",
    "w = Matrix([1,1,1,1])\n",
    "display(w)\n",
    "display(A)"
   ]
  },
  {
   "cell_type": "code",
   "execution_count": 118,
   "metadata": {},
   "outputs": [
    {
     "data": {
      "text/latex": [
       "$\\displaystyle \\left[\\begin{matrix}1\\\\-1\\\\0\\\\2\\end{matrix}\\right]$"
      ],
      "text/plain": [
       "⎡1 ⎤\n",
       "⎢  ⎥\n",
       "⎢-1⎥\n",
       "⎢  ⎥\n",
       "⎢0 ⎥\n",
       "⎢  ⎥\n",
       "⎣2 ⎦"
      ]
     },
     "metadata": {},
     "output_type": "display_data"
    },
    {
     "data": {
      "text/latex": [
       "$\\displaystyle \\left[\\begin{matrix}0\\\\2\\\\1\\\\1\\end{matrix}\\right]$"
      ],
      "text/plain": [
       "⎡0⎤\n",
       "⎢ ⎥\n",
       "⎢2⎥\n",
       "⎢ ⎥\n",
       "⎢1⎥\n",
       "⎢ ⎥\n",
       "⎣1⎦"
      ]
     },
     "metadata": {},
     "output_type": "display_data"
    },
    {
     "data": {
      "text/latex": [
       "$\\displaystyle \\left[\\begin{matrix}1\\\\\\frac{1}{3}\\\\- \\frac{1}{3}\\\\- \\frac{1}{3}\\end{matrix}\\right]$"
      ],
      "text/plain": [
       "⎡ 1  ⎤\n",
       "⎢    ⎥\n",
       "⎢1/3 ⎥\n",
       "⎢    ⎥\n",
       "⎢-1/3⎥\n",
       "⎢    ⎥\n",
       "⎣-1/3⎦"
      ]
     },
     "metadata": {},
     "output_type": "display_data"
    },
    {
     "data": {
      "text/latex": [
       "$\\displaystyle \\left[\\begin{matrix}\\frac{\\sqrt{6}}{6}\\\\- \\frac{\\sqrt{6}}{6}\\\\0\\\\\\frac{\\sqrt{6}}{3}\\end{matrix}\\right]$"
      ],
      "text/plain": [
       "⎡ √6 ⎤\n",
       "⎢ ── ⎥\n",
       "⎢ 6  ⎥\n",
       "⎢    ⎥\n",
       "⎢-√6 ⎥\n",
       "⎢────⎥\n",
       "⎢ 6  ⎥\n",
       "⎢    ⎥\n",
       "⎢ 0  ⎥\n",
       "⎢    ⎥\n",
       "⎢ √6 ⎥\n",
       "⎢ ── ⎥\n",
       "⎣ 3  ⎦"
      ]
     },
     "metadata": {},
     "output_type": "display_data"
    },
    {
     "data": {
      "text/latex": [
       "$\\displaystyle \\left[\\begin{matrix}0\\\\\\frac{\\sqrt{6}}{3}\\\\\\frac{\\sqrt{6}}{6}\\\\\\frac{\\sqrt{6}}{6}\\end{matrix}\\right]$"
      ],
      "text/plain": [
       "⎡0 ⎤\n",
       "⎢  ⎥\n",
       "⎢√6⎥\n",
       "⎢──⎥\n",
       "⎢3 ⎥\n",
       "⎢  ⎥\n",
       "⎢√6⎥\n",
       "⎢──⎥\n",
       "⎢6 ⎥\n",
       "⎢  ⎥\n",
       "⎢√6⎥\n",
       "⎢──⎥\n",
       "⎣6 ⎦"
      ]
     },
     "metadata": {},
     "output_type": "display_data"
    },
    {
     "data": {
      "text/latex": [
       "$\\displaystyle \\left[\\begin{matrix}\\frac{\\sqrt{3}}{2}\\\\\\frac{\\sqrt{3}}{6}\\\\- \\frac{\\sqrt{3}}{6}\\\\- \\frac{\\sqrt{3}}{6}\\end{matrix}\\right]$"
      ],
      "text/plain": [
       "⎡ √3 ⎤\n",
       "⎢ ── ⎥\n",
       "⎢ 2  ⎥\n",
       "⎢    ⎥\n",
       "⎢ √3 ⎥\n",
       "⎢ ── ⎥\n",
       "⎢ 6  ⎥\n",
       "⎢    ⎥\n",
       "⎢-√3 ⎥\n",
       "⎢────⎥\n",
       "⎢ 6  ⎥\n",
       "⎢    ⎥\n",
       "⎢-√3 ⎥\n",
       "⎢────⎥\n",
       "⎣ 6  ⎦"
      ]
     },
     "metadata": {},
     "output_type": "display_data"
    },
    {
     "name": "stdout",
     "output_type": "stream",
     "text": [
      "Basis\n"
     ]
    },
    {
     "data": {
      "text/latex": [
       "$\\displaystyle \\left[\\begin{matrix}\\frac{\\sqrt{6}}{6} & 0 & \\frac{\\sqrt{3}}{2}\\\\- \\frac{\\sqrt{6}}{6} & \\frac{\\sqrt{6}}{3} & \\frac{\\sqrt{3}}{6}\\\\0 & \\frac{\\sqrt{6}}{6} & - \\frac{\\sqrt{3}}{6}\\\\\\frac{\\sqrt{6}}{3} & \\frac{\\sqrt{6}}{6} & - \\frac{\\sqrt{3}}{6}\\end{matrix}\\right]$"
      ],
      "text/plain": [
       "⎡ √6        √3 ⎤\n",
       "⎢ ──   0    ── ⎥\n",
       "⎢ 6         2  ⎥\n",
       "⎢              ⎥\n",
       "⎢-√6   √6   √3 ⎥\n",
       "⎢────  ──   ── ⎥\n",
       "⎢ 6    3    6  ⎥\n",
       "⎢              ⎥\n",
       "⎢      √6  -√3 ⎥\n",
       "⎢ 0    ──  ────⎥\n",
       "⎢      6    6  ⎥\n",
       "⎢              ⎥\n",
       "⎢ √6   √6  -√3 ⎥\n",
       "⎢ ──   ──  ────⎥\n",
       "⎣ 3    6    6  ⎦"
      ]
     },
     "metadata": {},
     "output_type": "display_data"
    },
    {
     "name": "stdout",
     "output_type": "stream",
     "text": [
      "u\n"
     ]
    },
    {
     "data": {
      "text/latex": [
       "$\\displaystyle \\left[\\begin{matrix}\\frac{\\sqrt{3}}{2}\\\\\\frac{\\sqrt{3}}{6}\\\\- \\frac{\\sqrt{3}}{6}\\\\- \\frac{\\sqrt{3}}{6}\\end{matrix}\\right]$"
      ],
      "text/plain": [
       "⎡ √3 ⎤\n",
       "⎢ ── ⎥\n",
       "⎢ 2  ⎥\n",
       "⎢    ⎥\n",
       "⎢ √3 ⎥\n",
       "⎢ ── ⎥\n",
       "⎢ 6  ⎥\n",
       "⎢    ⎥\n",
       "⎢-√3 ⎥\n",
       "⎢────⎥\n",
       "⎢ 6  ⎥\n",
       "⎢    ⎥\n",
       "⎢-√3 ⎥\n",
       "⎢────⎥\n",
       "⎣ 6  ⎦"
      ]
     },
     "metadata": {},
     "output_type": "display_data"
    },
    {
     "data": {
      "image/png": "[encoded data removed]",
      "text/latex": [
       "$\\displaystyle 0$"
      ],
      "text/plain": [
       "0"
      ]
     },
     "metadata": {},
     "output_type": "display_data"
    }
   ],
   "source": [
    "# Assignment 4\n",
    "# a\n",
    "u1 = Matrix([1,-1,0,2])\n",
    "u2 = Matrix([1,1,1,3])\n",
    "u3 = Matrix([3,1,1,5])\n",
    "S = s1.row_join(s2).row_join(s3)\n",
    "\n",
    "v1 = u1\n",
    "v2 = u2-u2.dot(v1)/v1.dot(v1)*v1\n",
    "v3 = u3-u3.dot(v1)/v1.dot(v1)*v1-u3.dot(v2)/v2.dot(v2)*v2\n",
    "display(v1)\n",
    "display(v2)\n",
    "display(v3)\n",
    "\n",
    "\n",
    "# 4 b\n",
    "x1 = v1.normalized()\n",
    "x2 = v2.normalized()\n",
    "x3 = v3.normalized()\n",
    "display(x1)\n",
    "display(x2)\n",
    "display(x3)\n",
    "print('Basis')\n",
    "V = x1.row_join(x2).row_join(x3)\n",
    "display(V)\n",
    "\n",
    "# c\n",
    "print('u')\n",
    "u = v3/v3.norm()\n",
    "display(u) \n",
    "\n",
    "# d\n",
    "\n",
    "M = V.row_join(u)\n",
    "M = u.row_join(V)\n",
    "display(det(M))"
   ]
  },
  {
   "cell_type": "code",
   "execution_count": 199,
   "metadata": {},
   "outputs": [
    {
     "data": {
      "text/latex": [
       "$\\displaystyle \\left[\\begin{matrix}1 - l & 0 & -2\\\\0 & 5 - l & 0\\\\-2 & 0 & 4 - l\\end{matrix}\\right]$"
      ],
      "text/plain": [
       "⎡1 - l    0     -2  ⎤\n",
       "⎢                   ⎥\n",
       "⎢  0    5 - l    0  ⎥\n",
       "⎢                   ⎥\n",
       "⎣ -2      0    4 - l⎦"
      ]
     },
     "metadata": {},
     "output_type": "display_data"
    },
    {
     "data": {
      "text/latex": [
       "$\\displaystyle \\left[ \\left( 0, \\  1, \\  \\left[ \\left[\\begin{matrix}2\\\\0\\\\1\\end{matrix}\\right]\\right]\\right), \\  \\left( 5, \\  2, \\  \\left[ \\left[\\begin{matrix}0\\\\1\\\\0\\end{matrix}\\right], \\  \\left[\\begin{matrix}- \\frac{1}{2}\\\\0\\\\1\\end{matrix}\\right]\\right]\\right)\\right]$"
      ],
      "text/plain": [
       "⎡⎛      ⎡⎡2⎤⎤⎞  ⎛      ⎡⎡0⎤  ⎡-1/2⎤⎤⎞⎤\n",
       "⎢⎜      ⎢⎢ ⎥⎥⎟  ⎜      ⎢⎢ ⎥  ⎢    ⎥⎥⎟⎥\n",
       "⎢⎜0, 1, ⎢⎢0⎥⎥⎟, ⎜5, 2, ⎢⎢1⎥, ⎢ 0  ⎥⎥⎟⎥\n",
       "⎢⎜      ⎢⎢ ⎥⎥⎟  ⎜      ⎢⎢ ⎥  ⎢    ⎥⎥⎟⎥\n",
       "⎣⎝      ⎣⎣1⎦⎦⎠  ⎝      ⎣⎣0⎦  ⎣ 1  ⎦⎦⎠⎦"
      ]
     },
     "metadata": {},
     "output_type": "display_data"
    },
    {
     "data": {
      "text/latex": [
       "$\\displaystyle \\left( \\left[\\begin{matrix}1 & 0 & -2\\\\0 & 1 & 0\\\\0 & 0 & 0\\end{matrix}\\right], \\  \\left( 0, \\  1\\right)\\right)$"
      ],
      "text/plain": [
       "⎛⎡1  0  -2⎤        ⎞\n",
       "⎜⎢        ⎥        ⎟\n",
       "⎜⎢0  1  0 ⎥, (0, 1)⎟\n",
       "⎜⎢        ⎥        ⎟\n",
       "⎝⎣0  0  0 ⎦        ⎠"
      ]
     },
     "metadata": {},
     "output_type": "display_data"
    },
    {
     "data": {
      "text/latex": [
       "$\\displaystyle P D P^{-1} = \\left[\\begin{matrix}- \\frac{1}{2} & 0 & 2\\\\0 & 1 & 0\\\\1 & 0 & 1\\end{matrix}\\right]\\left[\\begin{matrix}0 & 0 & 0\\\\0 & 5 & 0\\\\0 & 0 & 5\\end{matrix}\\right]\\left[\\begin{matrix}- \\frac{2}{5} & 0 & \\frac{4}{5}\\\\0 & 1 & 0\\\\\\frac{2}{5} & 0 & \\frac{1}{5}\\end{matrix}\\right]$"
      ],
      "text/plain": [
       "<IPython.core.display.Math object>"
      ]
     },
     "metadata": {},
     "output_type": "display_data"
    }
   ],
   "source": [
    "# Assignment 5\n",
    "l = Symbol('l') \n",
    "A = Matrix([\n",
    "    [1-l,0,-2],\n",
    "    [0,5-l,0],\n",
    "    [-2,0,4-l]\n",
    "])\n",
    "display(A)\n",
    "A = Matrix([\n",
    "    [1,0,-2],\n",
    "    [0,5,0],\n",
    "    [-2,0,4]\n",
    "])\n",
    "display(A.eigenvects()) \n",
    "# a charpoly written in hand\n",
    "\n",
    "# b\n",
    "u = A.nullspace()[0]\n",
    "v = Symbol('v')\n",
    "solve(u/v,v)\n",
    "\n",
    "#c ???\n",
    "display(A.rref()) \n",
    "\n",
    "#d ???\n",
    "P, D = A.diagonalize()\n",
    "v1 = A.eigenvects()[1][2][1]\n",
    "v2 = A.eigenvects()[1][2][0]\n",
    "v3 = A.eigenvects()[0][2][0]\n",
    "\n",
    "P = v1.row_join(v2).row_join(v3)\n",
    "Pinv = P**-1\n",
    "\n",
    "display(Math(r'P D P^{-1} = ' + latex(P) + latex(D) + latex(Pinv)))"
   ]
  },
  {
   "cell_type": "code",
   "execution_count": 154,
   "metadata": {},
   "outputs": [
    {
     "name": "stdout",
     "output_type": "stream",
     "text": [
      "x1tx\n"
     ]
    },
    {
     "data": {
      "text/latex": [
       "$\\displaystyle \\left[\\begin{matrix}13 & 5954394\\\\5954394 & 6316847487430\\end{matrix}\\right]$"
      ],
      "text/plain": [
       "⎡  13        5954394   ⎤\n",
       "⎢                      ⎥\n",
       "⎣5954394  6316847487430⎦"
      ]
     },
     "metadata": {},
     "output_type": "display_data"
    },
    {
     "name": "stdout",
     "output_type": "stream",
     "text": [
      "x1ty\n"
     ]
    },
    {
     "data": {
      "text/latex": [
       "$\\displaystyle \\left[\\begin{matrix}56558\\\\31894029580\\end{matrix}\\right]$"
      ],
      "text/plain": [
       "⎡   56558   ⎤\n",
       "⎢           ⎥\n",
       "⎣31894029580⎦"
      ]
     },
     "metadata": {},
     "output_type": "display_data"
    },
    {
     "name": "stdout",
     "output_type": "stream",
     "text": [
      "parameter y1\n"
     ]
    },
    {
     "data": {
      "text/latex": [
       "$\\displaystyle \\left[\\begin{matrix}3586.44545517179\\\\0.00166838289215774\\end{matrix}\\right]$"
      ],
      "text/plain": [
       "⎡ 3586.44545517179  ⎤\n",
       "⎢                   ⎥\n",
       "⎣0.00166838289215774⎦"
      ]
     },
     "metadata": {},
     "output_type": "display_data"
    },
    {
     "name": "stdout",
     "output_type": "stream",
     "text": [
      "x2tx\n"
     ]
    },
    {
     "data": {
      "text/latex": [
       "$\\displaystyle \\left[\\begin{matrix}13 & 780 & 5954394\\\\780 & 64330 & 586551382\\\\5954394 & 586551382 & 6316847487430\\end{matrix}\\right]$"
      ],
      "text/plain": [
       "⎡  13        780        5954394   ⎤\n",
       "⎢                                 ⎥\n",
       "⎢  780      64330      586551382  ⎥\n",
       "⎢                                 ⎥\n",
       "⎣5954394  586551382  6316847487430⎦"
      ]
     },
     "metadata": {},
     "output_type": "display_data"
    },
    {
     "name": "stdout",
     "output_type": "stream",
     "text": [
      "x2ty\n"
     ]
    },
    {
     "data": {
      "text/latex": [
       "$\\displaystyle \\left[\\begin{matrix}56558\\\\3885466\\\\31894029580\\end{matrix}\\right]$"
      ],
      "text/plain": [
       "⎡   56558   ⎤\n",
       "⎢           ⎥\n",
       "⎢  3885466  ⎥\n",
       "⎢           ⎥\n",
       "⎣31894029580⎦"
      ]
     },
     "metadata": {},
     "output_type": "display_data"
    },
    {
     "name": "stdout",
     "output_type": "stream",
     "text": [
      "parameter y2\n"
     ]
    },
    {
     "data": {
      "text/latex": [
       "$\\displaystyle \\left[\\begin{matrix}2419.74866364447\\\\37.9503890824293\\\\-0.000755750477995397\\end{matrix}\\right]$"
      ],
      "text/plain": [
       "⎡  2419.74866364447   ⎤\n",
       "⎢                     ⎥\n",
       "⎢  37.9503890824293   ⎥\n",
       "⎢                     ⎥\n",
       "⎣-0.000755750477995397⎦"
      ]
     },
     "metadata": {},
     "output_type": "display_data"
    },
    {
     "name": "stdout",
     "output_type": "stream",
     "text": [
      "x3tx\n"
     ]
    },
    {
     "data": {
      "text/latex": [
       "$\\displaystyle \\left[\\begin{matrix}13 & 780\\\\780 & 64330\\end{matrix}\\right]$"
      ],
      "text/plain": [
       "⎡13    780 ⎤\n",
       "⎢          ⎥\n",
       "⎣780  64330⎦"
      ]
     },
     "metadata": {},
     "output_type": "display_data"
    },
    {
     "name": "stdout",
     "output_type": "stream",
     "text": [
      "x3ty\n"
     ]
    },
    {
     "data": {
      "text/latex": [
       "$\\displaystyle \\left[\\begin{matrix}56558\\\\3885466\\end{matrix}\\right]$"
      ],
      "text/plain": [
       "⎡ 56558 ⎤\n",
       "⎢       ⎥\n",
       "⎣3885466⎦"
      ]
     },
     "metadata": {},
     "output_type": "display_data"
    },
    {
     "name": "stdout",
     "output_type": "stream",
     "text": [
      "parameter y3\n"
     ]
    },
    {
     "data": {
      "text/latex": [
       "$\\displaystyle \\left[\\begin{matrix}2666.6929659046\\\\28.0653736451797\\end{matrix}\\right]$"
      ],
      "text/plain": [
       "⎡2666.6929659046 ⎤\n",
       "⎢                ⎥\n",
       "⎣28.0653736451797⎦"
      ]
     },
     "metadata": {},
     "output_type": "display_data"
    },
    {
     "data": {
      "image/png": "[encoded data removed]",
      "text/latex": [
       "$\\displaystyle 2062.15388202453$"
      ],
      "text/plain": [
       "2062.15388202453"
      ]
     },
     "metadata": {},
     "output_type": "display_data"
    },
    {
     "data": {
      "image/png": "[encoded data removed]",
      "text/latex": [
       "$\\displaystyle 314.564326220154$"
      ],
      "text/plain": [
       "314.564326220154"
      ]
     },
     "metadata": {},
     "output_type": "display_data"
    },
    {
     "data": {
      "image/png": "[encoded data removed]",
      "text/latex": [
       "$\\displaystyle 660.483276643475$"
      ],
      "text/plain": [
       "660.483276643475"
      ]
     },
     "metadata": {},
     "output_type": "display_data"
    },
    {
     "name": "stdout",
     "output_type": "stream",
     "text": [
      "prediction:\n"
     ]
    },
    {
     "data": {
      "image/png": "[encoded data removed]",
      "text/latex": [
       "$\\displaystyle 5561.64916277439$"
      ],
      "text/plain": [
       "5561.64916277439"
      ]
     },
     "metadata": {},
     "output_type": "display_data"
    }
   ],
   "source": [
    "# Assignment 6\n",
    "x = Matrix([1,11,21,30,40,50,60,70,81,90,99,109,118])\n",
    "y = Matrix([2450, 2757,3262,3551,3844,4281,4585,4938,5124,5135,5314,5511,5806])\n",
    "x_cubed = Matrix([1**3,11**3,21**3,30**3,40**3,50**3,60**3,70**3,81**3,90**3,99**3,109**3,118**3])\n",
    "\n",
    "# y1  \n",
    "X1 = Matrix([ones(len(x),1)]).row_join(x_cubed)\n",
    "\n",
    "# parameter for y1\n",
    "X1TX = X1.T*X1\n",
    "print('x1tx')\n",
    "display(X1TX)\n",
    "X1Ty = X1.T*y\n",
    "print('x1ty')\n",
    "display(X1Ty)\n",
    "augmented = X1TX.row_join(X1Ty)\n",
    "print('parameter y1')\n",
    "display(N(augmented.rref()[0][:,-1]))\n",
    "X1Hat = N(augmented.rref()[0][:,-1]) # parameter vector\n",
    "\n",
    "# y2  \n",
    "X2 = Matrix([ones(len(x),1)]).row_join(x).row_join(x_cubed)\n",
    "\n",
    "# parameter for y2\n",
    "X2TX = X2.T*X2\n",
    "print('x2tx')\n",
    "display(X2TX)\n",
    "X2Ty = X2.T*y\n",
    "print('x2ty')\n",
    "display(X2Ty)\n",
    "augmented = X2TX.row_join(X2Ty)\n",
    "print('parameter y2')\n",
    "display(N(augmented.rref()[0][:,-1]))\n",
    "X2Hat = N(augmented.rref()[0][:,-1]) # parameter vector\n",
    "\n",
    "# y3  \n",
    "X3 = Matrix([ones(len(x),1)]).row_join(x)\n",
    "\n",
    "# parameter for y3\n",
    "X3TX = X3.T*X3\n",
    "print('x3tx')\n",
    "display(X3TX)\n",
    "X3Ty = X3.T*y\n",
    "print('x3ty')\n",
    "display(X3Ty)\n",
    "augmented = X3TX.row_join(X3Ty)\n",
    "print('parameter y3')\n",
    "display(N(augmented.rref()[0][:,-1]))\n",
    "X3Hat = N(augmented.rref()[0][:,-1]) # parameter vector\n",
    "\n",
    "y1 = (y - X1*X1Hat).norm()\n",
    "y2 = (y - X2*X2Hat).norm()\n",
    "y3 = (y - X3*X3Hat).norm()\n",
    "display(y1)\n",
    "display(y2)\n",
    "display(y3)\n",
    "\n",
    "\n",
    "year = 150\n",
    "prediction = X2Hat[0]+X2Hat[1]*year+X2Hat[2]*(year**3)\n",
    "print('prediction:')\n",
    "display(prediction)"
   ]
  },
  {
   "cell_type": "code",
   "execution_count": 180,
   "metadata": {},
   "outputs": [
    {
     "data": {
      "text/latex": [
       "$\\displaystyle \\left[ \\left( 4, \\  1, \\  \\left[ \\left[\\begin{matrix}1\\\\1\\\\0\\end{matrix}\\right]\\right]\\right), \\  \\left( 16, \\  1, \\  \\left[ \\left[\\begin{matrix}0\\\\0\\\\1\\end{matrix}\\right]\\right]\\right), \\  \\left( 36, \\  1, \\  \\left[ \\left[\\begin{matrix}-1\\\\1\\\\0\\end{matrix}\\right]\\right]\\right)\\right]$"
      ],
      "text/plain": [
       "⎡⎛      ⎡⎡1⎤⎤⎞  ⎛       ⎡⎡0⎤⎤⎞  ⎛       ⎡⎡-1⎤⎤⎞⎤\n",
       "⎢⎜      ⎢⎢ ⎥⎥⎟  ⎜       ⎢⎢ ⎥⎥⎟  ⎜       ⎢⎢  ⎥⎥⎟⎥\n",
       "⎢⎜4, 1, ⎢⎢1⎥⎥⎟, ⎜16, 1, ⎢⎢0⎥⎥⎟, ⎜36, 1, ⎢⎢1 ⎥⎥⎟⎥\n",
       "⎢⎜      ⎢⎢ ⎥⎥⎟  ⎜       ⎢⎢ ⎥⎥⎟  ⎜       ⎢⎢  ⎥⎥⎟⎥\n",
       "⎣⎝      ⎣⎣0⎦⎦⎠  ⎝       ⎣⎣1⎦⎦⎠  ⎝       ⎣⎣0 ⎦⎦⎠⎦"
      ]
     },
     "metadata": {},
     "output_type": "display_data"
    },
    {
     "data": {
      "text/latex": [
       "$\\displaystyle U \\Sigma V^T = \\left[\\begin{matrix}- \\frac{\\sqrt{2}}{2} & \\frac{1}{2} & 0 & - \\frac{1}{2}\\\\0 & \\frac{1}{2} & \\frac{\\sqrt{2}}{2} & \\frac{1}{2}\\\\\\frac{\\sqrt{2}}{2} & \\frac{1}{2} & 0 & - \\frac{1}{2}\\\\0 & \\frac{1}{2} & - \\frac{\\sqrt{2}}{2} & \\frac{1}{2}\\end{matrix}\\right]\\left[\\begin{matrix}6 & 0 & 0\\\\0 & 4 & 0\\\\0 & 0 & 2\\\\0 & 0 & 0\\end{matrix}\\right]\\left[\\begin{matrix}- \\frac{\\sqrt{2}}{2} & \\frac{\\sqrt{2}}{2} & 0\\\\0 & 0 & 1\\\\\\frac{\\sqrt{2}}{2} & \\frac{\\sqrt{2}}{2} & 0\\end{matrix}\\right]$"
      ],
      "text/plain": [
       "<IPython.core.display.Math object>"
      ]
     },
     "metadata": {},
     "output_type": "display_data"
    },
    {
     "data": {
      "text/latex": [
       "Test:"
      ],
      "text/plain": [
       "<IPython.core.display.Latex object>"
      ]
     },
     "metadata": {},
     "output_type": "display_data"
    },
    {
     "data": {
      "text/latex": [
       "$\\displaystyle \\left[\\begin{matrix}- \\frac{\\sqrt{2}}{2} & \\frac{1}{2} & 0 & - \\frac{1}{2}\\\\0 & \\frac{1}{2} & \\frac{\\sqrt{2}}{2} & \\frac{1}{2}\\\\\\frac{\\sqrt{2}}{2} & \\frac{1}{2} & 0 & - \\frac{1}{2}\\\\0 & \\frac{1}{2} & - \\frac{\\sqrt{2}}{2} & \\frac{1}{2}\\end{matrix}\\right]$"
      ],
      "text/plain": [
       "⎡-√2                  ⎤\n",
       "⎢────  1/2   0    -1/2⎥\n",
       "⎢ 2                   ⎥\n",
       "⎢                     ⎥\n",
       "⎢            √2       ⎥\n",
       "⎢ 0    1/2   ──   1/2 ⎥\n",
       "⎢            2        ⎥\n",
       "⎢                     ⎥\n",
       "⎢ √2                  ⎥\n",
       "⎢ ──   1/2   0    -1/2⎥\n",
       "⎢ 2                   ⎥\n",
       "⎢                     ⎥\n",
       "⎢           -√2       ⎥\n",
       "⎢ 0    1/2  ────  1/2 ⎥\n",
       "⎣            2        ⎦"
      ]
     },
     "metadata": {},
     "output_type": "display_data"
    },
    {
     "data": {
      "text/latex": [
       "$\\displaystyle \\left[\\begin{matrix}3 & -3 & 2\\\\1 & 1 & 2\\\\-3 & 3 & 2\\\\-1 & -1 & 2\\end{matrix}\\right]$"
      ],
      "text/plain": [
       "⎡3   -3  2⎤\n",
       "⎢         ⎥\n",
       "⎢1   1   2⎥\n",
       "⎢         ⎥\n",
       "⎢-3  3   2⎥\n",
       "⎢         ⎥\n",
       "⎣-1  -1  2⎦"
      ]
     },
     "metadata": {},
     "output_type": "display_data"
    },
    {
     "data": {
      "text/latex": [
       "$\\displaystyle \\left[\\begin{matrix}3 & -3 & 2\\\\1 & 1 & 2\\\\-3 & 3 & 2\\\\-1 & -1 & 2\\end{matrix}\\right]$"
      ],
      "text/plain": [
       "⎡3   -3  2⎤\n",
       "⎢         ⎥\n",
       "⎢1   1   2⎥\n",
       "⎢         ⎥\n",
       "⎢-3  3   2⎥\n",
       "⎢         ⎥\n",
       "⎣-1  -1  2⎦"
      ]
     },
     "metadata": {},
     "output_type": "display_data"
    },
    {
     "data": {
      "text/plain": [
       "True"
      ]
     },
     "metadata": {},
     "output_type": "display_data"
    },
    {
     "data": {
      "text/latex": [
       "$\\displaystyle \\left[ \\left( 0, \\  1, \\  \\left[ \\left[\\begin{matrix}-1\\\\1\\\\-1\\\\1\\end{matrix}\\right]\\right]\\right), \\  \\left( 4, \\  1, \\  \\left[ \\left[\\begin{matrix}0\\\\-1\\\\0\\\\1\\end{matrix}\\right]\\right]\\right), \\  \\left( 16, \\  1, \\  \\left[ \\left[\\begin{matrix}1\\\\1\\\\1\\\\1\\end{matrix}\\right]\\right]\\right), \\  \\left( 36, \\  1, \\  \\left[ \\left[\\begin{matrix}-1\\\\0\\\\1\\\\0\\end{matrix}\\right]\\right]\\right)\\right]$"
      ],
      "text/plain": [
       "⎡⎛      ⎡⎡-1⎤⎤⎞  ⎛      ⎡⎡0 ⎤⎤⎞  ⎛       ⎡⎡1⎤⎤⎞  ⎛       ⎡⎡-1⎤⎤⎞⎤\n",
       "⎢⎜      ⎢⎢  ⎥⎥⎟  ⎜      ⎢⎢  ⎥⎥⎟  ⎜       ⎢⎢ ⎥⎥⎟  ⎜       ⎢⎢  ⎥⎥⎟⎥\n",
       "⎢⎜      ⎢⎢1 ⎥⎥⎟  ⎜      ⎢⎢-1⎥⎥⎟  ⎜       ⎢⎢1⎥⎥⎟  ⎜       ⎢⎢0 ⎥⎥⎟⎥\n",
       "⎢⎜0, 1, ⎢⎢  ⎥⎥⎟, ⎜4, 1, ⎢⎢  ⎥⎥⎟, ⎜16, 1, ⎢⎢ ⎥⎥⎟, ⎜36, 1, ⎢⎢  ⎥⎥⎟⎥\n",
       "⎢⎜      ⎢⎢-1⎥⎥⎟  ⎜      ⎢⎢0 ⎥⎥⎟  ⎜       ⎢⎢1⎥⎥⎟  ⎜       ⎢⎢1 ⎥⎥⎟⎥\n",
       "⎢⎜      ⎢⎢  ⎥⎥⎟  ⎜      ⎢⎢  ⎥⎥⎟  ⎜       ⎢⎢ ⎥⎥⎟  ⎜       ⎢⎢  ⎥⎥⎟⎥\n",
       "⎣⎝      ⎣⎣1 ⎦⎦⎠  ⎝      ⎣⎣1 ⎦⎦⎠  ⎝       ⎣⎣1⎦⎦⎠  ⎝       ⎣⎣0 ⎦⎦⎠⎦"
      ]
     },
     "metadata": {},
     "output_type": "display_data"
    },
    {
     "data": {
      "text/latex": [
       "$\\displaystyle U \\Sigma V^T = \\left[\\begin{matrix}- \\frac{\\sqrt{2}}{2} & \\frac{1}{2} & 0 & - \\frac{1}{2}\\\\0 & \\frac{1}{2} & - \\frac{\\sqrt{2}}{2} & \\frac{1}{2}\\\\\\frac{\\sqrt{2}}{2} & \\frac{1}{2} & 0 & - \\frac{1}{2}\\\\0 & \\frac{1}{2} & \\frac{\\sqrt{2}}{2} & \\frac{1}{2}\\end{matrix}\\right]\\left[\\begin{matrix}6 & 0 & 0\\\\0 & 4 & 0\\\\0 & 0 & 2\\\\0 & 0 & 0\\end{matrix}\\right]\\left[\\begin{matrix}- \\frac{\\sqrt{2}}{2} & \\frac{\\sqrt{2}}{2} & 0\\\\0 & 0 & 1\\\\\\frac{\\sqrt{2}}{2} & \\frac{\\sqrt{2}}{2} & 0\\end{matrix}\\right]$"
      ],
      "text/plain": [
       "<IPython.core.display.Math object>"
      ]
     },
     "metadata": {},
     "output_type": "display_data"
    },
    {
     "data": {
      "text/latex": [
       "Test:"
      ],
      "text/plain": [
       "<IPython.core.display.Latex object>"
      ]
     },
     "metadata": {},
     "output_type": "display_data"
    },
    {
     "data": {
      "text/latex": [
       "$\\displaystyle \\left[\\begin{matrix}3 & -3 & 2\\\\-1 & -1 & 2\\\\-3 & 3 & 2\\\\1 & 1 & 2\\end{matrix}\\right]$"
      ],
      "text/plain": [
       "⎡3   -3  2⎤\n",
       "⎢         ⎥\n",
       "⎢-1  -1  2⎥\n",
       "⎢         ⎥\n",
       "⎢-3  3   2⎥\n",
       "⎢         ⎥\n",
       "⎣1   1   2⎦"
      ]
     },
     "metadata": {},
     "output_type": "display_data"
    },
    {
     "data": {
      "text/latex": [
       "$\\displaystyle \\left[\\begin{matrix}3 & -3 & 2\\\\1 & 1 & 2\\\\-3 & 3 & 2\\\\-1 & -1 & 2\\end{matrix}\\right]$"
      ],
      "text/plain": [
       "⎡3   -3  2⎤\n",
       "⎢         ⎥\n",
       "⎢1   1   2⎥\n",
       "⎢         ⎥\n",
       "⎢-3  3   2⎥\n",
       "⎢         ⎥\n",
       "⎣-1  -1  2⎦"
      ]
     },
     "metadata": {},
     "output_type": "display_data"
    },
    {
     "data": {
      "text/plain": [
       "False"
      ]
     },
     "metadata": {},
     "output_type": "display_data"
    },
    {
     "data": {
      "text/latex": [
       "$\\displaystyle \\left[\\begin{matrix}- \\frac{\\sqrt{2}}{2} & \\frac{1}{2} & 0 & - \\frac{1}{2}\\\\0 & \\frac{1}{2} & - \\frac{\\sqrt{2}}{2} & \\frac{1}{2}\\\\\\frac{\\sqrt{2}}{2} & \\frac{1}{2} & 0 & - \\frac{1}{2}\\\\0 & \\frac{1}{2} & \\frac{\\sqrt{2}}{2} & \\frac{1}{2}\\end{matrix}\\right]$"
      ],
      "text/plain": [
       "⎡-√2                  ⎤\n",
       "⎢────  1/2   0    -1/2⎥\n",
       "⎢ 2                   ⎥\n",
       "⎢                     ⎥\n",
       "⎢           -√2       ⎥\n",
       "⎢ 0    1/2  ────  1/2 ⎥\n",
       "⎢            2        ⎥\n",
       "⎢                     ⎥\n",
       "⎢ √2                  ⎥\n",
       "⎢ ──   1/2   0    -1/2⎥\n",
       "⎢ 2                   ⎥\n",
       "⎢                     ⎥\n",
       "⎢            √2       ⎥\n",
       "⎢ 0    1/2   ──   1/2 ⎥\n",
       "⎣            2        ⎦"
      ]
     },
     "metadata": {},
     "output_type": "display_data"
    },
    {
     "data": {
      "text/latex": [
       "$\\displaystyle \\left[\\begin{matrix}- \\frac{\\sqrt{2}}{2} & \\frac{1}{2} & 0 & - \\frac{1}{2}\\\\0 & \\frac{1}{2} & \\frac{\\sqrt{2}}{2} & \\frac{1}{2}\\\\\\frac{\\sqrt{2}}{2} & \\frac{1}{2} & 0 & - \\frac{1}{2}\\\\0 & \\frac{1}{2} & - \\frac{\\sqrt{2}}{2} & \\frac{1}{2}\\end{matrix}\\right]$"
      ],
      "text/plain": [
       "⎡-√2                  ⎤\n",
       "⎢────  1/2   0    -1/2⎥\n",
       "⎢ 2                   ⎥\n",
       "⎢                     ⎥\n",
       "⎢            √2       ⎥\n",
       "⎢ 0    1/2   ──   1/2 ⎥\n",
       "⎢            2        ⎥\n",
       "⎢                     ⎥\n",
       "⎢ √2                  ⎥\n",
       "⎢ ──   1/2   0    -1/2⎥\n",
       "⎢ 2                   ⎥\n",
       "⎢                     ⎥\n",
       "⎢           -√2       ⎥\n",
       "⎢ 0    1/2  ────  1/2 ⎥\n",
       "⎣            2        ⎦"
      ]
     },
     "metadata": {},
     "output_type": "display_data"
    },
    {
     "data": {
      "text/latex": [
       "$\\displaystyle \\left[ \\left( 4, \\  1, \\  \\left[ \\left[\\begin{matrix}1\\\\1\\\\0\\end{matrix}\\right]\\right]\\right), \\  \\left( 16, \\  1, \\  \\left[ \\left[\\begin{matrix}0\\\\0\\\\1\\end{matrix}\\right]\\right]\\right), \\  \\left( 36, \\  1, \\  \\left[ \\left[\\begin{matrix}-1\\\\1\\\\0\\end{matrix}\\right]\\right]\\right)\\right]$"
      ],
      "text/plain": [
       "⎡⎛      ⎡⎡1⎤⎤⎞  ⎛       ⎡⎡0⎤⎤⎞  ⎛       ⎡⎡-1⎤⎤⎞⎤\n",
       "⎢⎜      ⎢⎢ ⎥⎥⎟  ⎜       ⎢⎢ ⎥⎥⎟  ⎜       ⎢⎢  ⎥⎥⎟⎥\n",
       "⎢⎜4, 1, ⎢⎢1⎥⎥⎟, ⎜16, 1, ⎢⎢0⎥⎥⎟, ⎜36, 1, ⎢⎢1 ⎥⎥⎟⎥\n",
       "⎢⎜      ⎢⎢ ⎥⎥⎟  ⎜       ⎢⎢ ⎥⎥⎟  ⎜       ⎢⎢  ⎥⎥⎟⎥\n",
       "⎣⎝      ⎣⎣0⎦⎦⎠  ⎝       ⎣⎣1⎦⎦⎠  ⎝       ⎣⎣0 ⎦⎦⎠⎦"
      ]
     },
     "metadata": {},
     "output_type": "display_data"
    },
    {
     "data": {
      "text/latex": [
       "$\\displaystyle \\left[ \\left( 0, \\  1, \\  \\left[ \\left[\\begin{matrix}-1\\\\1\\\\-1\\\\1\\end{matrix}\\right]\\right]\\right), \\  \\left( 4, \\  1, \\  \\left[ \\left[\\begin{matrix}0\\\\-1\\\\0\\\\1\\end{matrix}\\right]\\right]\\right), \\  \\left( 16, \\  1, \\  \\left[ \\left[\\begin{matrix}1\\\\1\\\\1\\\\1\\end{matrix}\\right]\\right]\\right), \\  \\left( 36, \\  1, \\  \\left[ \\left[\\begin{matrix}-1\\\\0\\\\1\\\\0\\end{matrix}\\right]\\right]\\right)\\right]$"
      ],
      "text/plain": [
       "⎡⎛      ⎡⎡-1⎤⎤⎞  ⎛      ⎡⎡0 ⎤⎤⎞  ⎛       ⎡⎡1⎤⎤⎞  ⎛       ⎡⎡-1⎤⎤⎞⎤\n",
       "⎢⎜      ⎢⎢  ⎥⎥⎟  ⎜      ⎢⎢  ⎥⎥⎟  ⎜       ⎢⎢ ⎥⎥⎟  ⎜       ⎢⎢  ⎥⎥⎟⎥\n",
       "⎢⎜      ⎢⎢1 ⎥⎥⎟  ⎜      ⎢⎢-1⎥⎥⎟  ⎜       ⎢⎢1⎥⎥⎟  ⎜       ⎢⎢0 ⎥⎥⎟⎥\n",
       "⎢⎜0, 1, ⎢⎢  ⎥⎥⎟, ⎜4, 1, ⎢⎢  ⎥⎥⎟, ⎜16, 1, ⎢⎢ ⎥⎥⎟, ⎜36, 1, ⎢⎢  ⎥⎥⎟⎥\n",
       "⎢⎜      ⎢⎢-1⎥⎥⎟  ⎜      ⎢⎢0 ⎥⎥⎟  ⎜       ⎢⎢1⎥⎥⎟  ⎜       ⎢⎢1 ⎥⎥⎟⎥\n",
       "⎢⎜      ⎢⎢  ⎥⎥⎟  ⎜      ⎢⎢  ⎥⎥⎟  ⎜       ⎢⎢ ⎥⎥⎟  ⎜       ⎢⎢  ⎥⎥⎟⎥\n",
       "⎣⎝      ⎣⎣1 ⎦⎦⎠  ⎝      ⎣⎣1 ⎦⎦⎠  ⎝       ⎣⎣1⎦⎦⎠  ⎝       ⎣⎣0 ⎦⎦⎠⎦"
      ]
     },
     "metadata": {},
     "output_type": "display_data"
    }
   ],
   "source": [
    "# Assignment 7\n",
    "\n",
    "# Assignment 7\n",
    "A = Matrix([\n",
    "    [3,-3,2],\n",
    "    [1,1,2],\n",
    "    [-3,3,2],\n",
    "    [-1,-1,2]\n",
    "])\n",
    "\n",
    "\n",
    "# (a) Finding the eigenvalues of either ATA or AAT\n",
    "AtA = A.T*A\n",
    "AAt = A*A.T\n",
    "vecs = AtA.eigenvects()\n",
    "display(vecs)\n",
    "\n",
    "# (a1) Determining the corresponding eigenvectors, (descending for S)\n",
    "s1 = sqrt(vecs[2][0])\n",
    "s2 = sqrt(vecs[1][0])\n",
    "s3 = sqrt(vecs[0][0])\n",
    "\n",
    "v1 = vecs[2][2][0].normalized()\n",
    "v2 = vecs[1][2][0].normalized()\n",
    "v3 = vecs[0][2][0].normalized()\n",
    "\n",
    "u1 = (s1**-1)*A*v1\n",
    "u2 = (s2**-1)*A*v2\n",
    "u3 = (s3**-1)*A*v3\n",
    "u4 = AAt.eigenvects()[0][2][0].normalized() #This is finding a vector we dont have\n",
    "\n",
    "# setup A = U * S * VT\n",
    "U = u1.row_join(u2).row_join(u3).row_join(u4)\n",
    "V = v1.row_join(v2).row_join(v3)\n",
    "Vt = V.T\n",
    "S = diag(s1,s2,s3).col_join(zeros(1,3))\n",
    "\n",
    "display(Math('U \\Sigma V^T = {}{}{}'.format(latex(U), latex(S), latex(Vt))))\n",
    "\n",
    "display(Latex(\"Test:\"))\n",
    "display(U)\n",
    "# Test A = U * S * VT\n",
    "display(U*S*Vt)\n",
    "display(A)\n",
    "display(A == U*S*Vt)\n",
    "\n",
    "# b\n",
    "\n",
    "AAt = A*A.T\n",
    "vecs2 = AAt.eigenvects()\n",
    "display(vecs2)\n",
    "u1 = vecs2[3][2][0].normalized()\n",
    "u2 = vecs2[2][2][0].normalized()\n",
    "u3 = vecs2[1][2][0].normalized()\n",
    "u4 = vecs2[0][2][0].normalized()\n",
    "U1 = u1.row_join(u2).row_join(u3).row_join(u4)\n",
    "S = diag(s1, s2, s3).col_join(zeros(1,3))\n",
    "V = v1.row_join(v2).row_join(v3)\n",
    "Vt = V.T\n",
    "display(Math('U \\Sigma V^T = {}{}{}'.format(latex(U1), latex(S), latex(Vt))))\n",
    "display(Latex(\"Test:\"))\n",
    "display(U1*S*Vt)\n",
    "display(A)\n",
    "\n",
    "display(U1 == U)\n",
    "display(U1)\n",
    "display(U)\n",
    "\n",
    "\n",
    "display(vecs) # u \n",
    "display(vecs2) # u henter fra eigenvects"
   ]
  }
 ],
 "metadata": {
  "kernelspec": {
   "display_name": "Python 3",
   "language": "python",
   "name": "python3"
  },
  "language_info": {
   "codemirror_mode": {
    "name": "ipython",
    "version": 3
   },
   "file_extension": ".py",
   "mimetype": "text/x-python",
   "name": "python",
   "nbconvert_exporter": "python",
   "pygments_lexer": "ipython3",
   "version": "3.8.3"
  }
 },
 "nbformat": 4,
 "nbformat_minor": 4
}
