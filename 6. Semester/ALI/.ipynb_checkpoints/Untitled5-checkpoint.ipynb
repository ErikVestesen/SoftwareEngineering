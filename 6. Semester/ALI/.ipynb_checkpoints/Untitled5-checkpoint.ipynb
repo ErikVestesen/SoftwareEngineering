{
 "cells": [
  {
   "cell_type": "code",
   "execution_count": 1,
   "metadata": {},
   "outputs": [],
   "source": [
    "#import numpy as np\n",
    "from sympy import *\n",
    "from IPython.display import display\n",
    "import numpy as np\n",
    "init_printing()"
   ]
  },
  {
   "cell_type": "code",
   "execution_count": 3,
   "metadata": {},
   "outputs": [
    {
     "data": {
      "text/latex": [
       "$\\displaystyle \\left[ \\left[\\begin{matrix}- \\frac{1}{2}\\\\- \\frac{3}{4}\\\\1\\\\0\\end{matrix}\\right], \\  \\left[\\begin{matrix}-1\\\\- \\frac{5}{2}\\\\0\\\\1\\end{matrix}\\right]\\right]$"
      ],
      "text/plain": [
       "⎡⎡-1/2⎤  ⎡ -1 ⎤⎤\n",
       "⎢⎢    ⎥  ⎢    ⎥⎥\n",
       "⎢⎢-3/4⎥  ⎢-5/2⎥⎥\n",
       "⎢⎢    ⎥, ⎢    ⎥⎥\n",
       "⎢⎢ 1  ⎥  ⎢ 0  ⎥⎥\n",
       "⎢⎢    ⎥  ⎢    ⎥⎥\n",
       "⎣⎣ 0  ⎦  ⎣ 1  ⎦⎦"
      ]
     },
     "execution_count": 3,
     "metadata": {},
     "output_type": "execute_result"
    }
   ],
   "source": [
    "# Exam 2016 assignment 2\n",
    "A = Matrix([\n",
    "    [-1,2,1,4],\n",
    "    [1,2,2,6]\n",
    "])\n",
    "A.rref()\n",
    "\n",
    "A.nullspace()"
   ]
  },
  {
   "cell_type": "code",
   "execution_count": 22,
   "metadata": {},
   "outputs": [
    {
     "data": {
      "image/png": "[encoded data removed]",
      "text/latex": [
       "$\\displaystyle 2 a + λ^{2} + λ \\left(- a - 2\\right) - 2$"
      ],
      "text/plain": [
       "       2                 \n",
       "2⋅a + λ  + λ⋅(-a - 2) - 2"
      ]
     },
     "metadata": {},
     "output_type": "display_data"
    },
    {
     "data": {
      "image/png": "[encoded data removed]",
      "text/latex": [
       "$\\displaystyle 3$"
      ],
      "text/plain": [
       "3"
      ]
     },
     "metadata": {},
     "output_type": "display_data"
    },
    {
     "data": {
      "text/latex": [
       "$\\displaystyle \\left[ \\left( 1, \\  1, \\  \\left[ \\left[\\begin{matrix}-1\\\\1\\end{matrix}\\right]\\right]\\right), \\  \\left( 4, \\  1, \\  \\left[ \\left[\\begin{matrix}2\\\\1\\end{matrix}\\right]\\right]\\right)\\right]$"
      ],
      "text/plain": [
       "⎡⎛      ⎡⎡-1⎤⎤⎞  ⎛      ⎡⎡2⎤⎤⎞⎤\n",
       "⎢⎜1, 1, ⎢⎢  ⎥⎥⎟, ⎜4, 1, ⎢⎢ ⎥⎥⎟⎥\n",
       "⎣⎝      ⎣⎣1 ⎦⎦⎠  ⎝      ⎣⎣1⎦⎦⎠⎦"
      ]
     },
     "execution_count": 22,
     "metadata": {},
     "output_type": "execute_result"
    }
   ],
   "source": [
    "# Exam 2016 assignment 3\n",
    "a, l = symbols('a \\u03bb')\n",
    "A = Matrix([\n",
    "    [a,2],\n",
    "    [1,2]\n",
    "])\n",
    "\n",
    "# (a) Express the eigenvalues of A as a function of a\n",
    "display(A.charpoly(l).as_expr())\n",
    "\n",
    "# (b) Calculate a so that lambda = 4 is an eigenvalue of A\n",
    "a_res =solve(2*a+4**2+4*(-a-2)-2,a)[0]\n",
    "# result is 3\n",
    "display(a_res)\n",
    "\n",
    "# (c) Using the value of a found in (b), determine the remaining eigenvalues(s) and the eigenspaces\n",
    "A = Matrix([\n",
    "    [a_res,2],\n",
    "    [1,2]\n",
    "])\n",
    "A.eigenvects()"
   ]
  },
  {
   "cell_type": "code",
   "execution_count": 24,
   "metadata": {},
   "outputs": [
    {
     "data": {
      "text/latex": [
       "$\\displaystyle \\left[ \\left[\\begin{matrix}0\\\\1\\\\0\\end{matrix}\\right]\\right]$"
      ],
      "text/plain": [
       "⎡⎡0⎤⎤\n",
       "⎢⎢ ⎥⎥\n",
       "⎢⎢1⎥⎥\n",
       "⎢⎢ ⎥⎥\n",
       "⎣⎣0⎦⎦"
      ]
     },
     "metadata": {},
     "output_type": "display_data"
    },
    {
     "data": {
      "text/latex": [
       "$\\displaystyle \\left[ \\left[\\begin{matrix}- \\frac{1}{2}\\\\1\\\\1\\end{matrix}\\right]\\right]$"
      ],
      "text/plain": [
       "⎡⎡-1/2⎤⎤\n",
       "⎢⎢    ⎥⎥\n",
       "⎢⎢ 1  ⎥⎥\n",
       "⎢⎢    ⎥⎥\n",
       "⎣⎣ 1  ⎦⎦"
      ]
     },
     "metadata": {},
     "output_type": "display_data"
    },
    {
     "data": {
      "text/latex": [
       "$\\displaystyle \\left[ \\left[\\begin{matrix}-1\\\\1\\\\1\\end{matrix}\\right]\\right]$"
      ],
      "text/plain": [
       "⎡⎡-1⎤⎤\n",
       "⎢⎢  ⎥⎥\n",
       "⎢⎢1 ⎥⎥\n",
       "⎢⎢  ⎥⎥\n",
       "⎣⎣1 ⎦⎦"
      ]
     },
     "metadata": {},
     "output_type": "display_data"
    }
   ],
   "source": [
    "A = Matrix([\n",
    "    [4,0,1],\n",
    "    [-2,1,0],\n",
    "    [-2,0,1]\n",
    "])\n",
    "\n",
    "# 5.1.13\n",
    "\n",
    "display((A-1*eye(A.shape[0])).nullspace())\n",
    "display((A-2*eye(A.shape[0])).nullspace())\n",
    "display((A-3*eye(A.shape[0])).nullspace())"
   ]
  },
  {
   "cell_type": "code",
   "execution_count": 27,
   "metadata": {},
   "outputs": [
    {
     "data": {
      "image/png": "[encoded data removed]",
      "text/latex": [
       "$\\displaystyle \\left[ - \\frac{2}{5}, \\  3\\right]$"
      ],
      "text/plain": [
       "[-2/5, 3]"
      ]
     },
     "execution_count": 27,
     "metadata": {},
     "output_type": "execute_result"
    }
   ],
   "source": [
    "a = Symbol('a')\n",
    "solve(39*a-15*a**2+18,a)"
   ]
  },
  {
   "cell_type": "code",
   "execution_count": 45,
   "metadata": {},
   "outputs": [
    {
     "data": {
      "image/png": "[encoded data removed]",
      "text/latex": [
       "$\\displaystyle 0$"
      ],
      "text/plain": [
       "0"
      ]
     },
     "metadata": {},
     "output_type": "display_data"
    },
    {
     "data": {
      "image/png": "[encoded data removed]",
      "text/latex": [
       "$\\displaystyle 0$"
      ],
      "text/plain": [
       "0"
      ]
     },
     "metadata": {},
     "output_type": "display_data"
    },
    {
     "data": {
      "image/png": "[encoded data removed]",
      "text/latex": [
       "$\\displaystyle 0$"
      ],
      "text/plain": [
       "0"
      ]
     },
     "metadata": {},
     "output_type": "display_data"
    },
    {
     "data": {
      "text/latex": [
       "$\\displaystyle \\left[\\begin{matrix}4\\\\-6\\\\1\\end{matrix}\\right]$"
      ],
      "text/plain": [
       "⎡4 ⎤\n",
       "⎢  ⎥\n",
       "⎢-6⎥\n",
       "⎢  ⎥\n",
       "⎣1 ⎦"
      ]
     },
     "metadata": {},
     "output_type": "display_data"
    },
    {
     "data": {
      "text/latex": [
       "$\\displaystyle \\left[\\begin{matrix}4\\\\2\\\\-4\\end{matrix}\\right]$"
      ],
      "text/plain": [
       "⎡4 ⎤\n",
       "⎢  ⎥\n",
       "⎢2 ⎥\n",
       "⎢  ⎥\n",
       "⎣-4⎦"
      ]
     },
     "metadata": {},
     "output_type": "display_data"
    },
    {
     "data": {
      "text/latex": [
       "$\\displaystyle \\left[\\begin{matrix}8\\\\-4\\\\-3\\end{matrix}\\right]$"
      ],
      "text/plain": [
       "⎡8 ⎤\n",
       "⎢  ⎥\n",
       "⎢-4⎥\n",
       "⎢  ⎥\n",
       "⎣-3⎦"
      ]
     },
     "metadata": {},
     "output_type": "display_data"
    }
   ],
   "source": [
    "# 2016.4 \n",
    "# (a) Show that u1,u2,u3 is a linearly independent set\n",
    "\n",
    "u1 = Matrix([1,0,1])\n",
    "u2 = Matrix([-1,4,1])\n",
    "u3 = Matrix([2,1,-2])\n",
    "x = Matrix([8,-4,-3])\n",
    "\n",
    "A = u1.row_join(u2).row_join(u3)\n",
    "A.rref()\n",
    "# Result:has pivots in all columns, then it is a linearly independent set\n",
    "\n",
    "\n",
    "# (b) Show that u1,u2,u3 is an orthogonal basis R3\n",
    "\n",
    "display(u1.dot(u2))\n",
    "display(u1.dot(u3))\n",
    "display(u2.dot(u3))\n",
    "\n",
    "# Result: Because they are all 0, then they are all orthogonal.\n",
    "\n",
    "# (c) Express x as the sum of two vectors, one in span(u1,2) \n",
    "# and the other in span(u3)\n",
    "v1 = x.project(u1)+x.project(u2)\n",
    "v2 = x.project(u3)\n",
    "\n",
    "display(v1)\n",
    "display(v2)\n",
    "display(v1+v2)\n",
    "# result is the result vector"
   ]
  },
  {
   "cell_type": "code",
   "execution_count": 62,
   "metadata": {},
   "outputs": [
    {
     "data": {
      "text/latex": [
       "$\\displaystyle \\left[\\begin{matrix}3 & 2 & 2\\\\2 & 5 & 2\\\\2 & 2 & -1\\end{matrix}\\right]$"
      ],
      "text/plain": [
       "⎡3  2  2 ⎤\n",
       "⎢        ⎥\n",
       "⎢2  5  2 ⎥\n",
       "⎢        ⎥\n",
       "⎣2  2  -1⎦"
      ]
     },
     "metadata": {},
     "output_type": "display_data"
    },
    {
     "ename": "AttributeError",
     "evalue": "'MutableDenseMatrix' object has no attribute 'distance'",
     "output_type": "error",
     "traceback": [
      "\u001b[1;31m---------------------------------------------------------------------------\u001b[0m",
      "\u001b[1;31mAttributeError\u001b[0m                            Traceback (most recent call last)",
      "\u001b[1;32m<ipython-input-62-a9f63a577a0c>\u001b[0m in \u001b[0;36m<module>\u001b[1;34m\u001b[0m\n\u001b[0;32m     20\u001b[0m \u001b[0msolve\u001b[0m\u001b[1;33m(\u001b[0m\u001b[0mx\u001b[0m\u001b[1;33m+\u001b[0m\u001b[0ma\u001b[0m \u001b[1;33m-\u001b[0m \u001b[1;36m2\u001b[0m\u001b[1;33m*\u001b[0m\u001b[1;33m(\u001b[0m\u001b[0mx\u001b[0m\u001b[1;33m-\u001b[0m\u001b[0mb\u001b[0m\u001b[1;33m)\u001b[0m\u001b[1;33m,\u001b[0m \u001b[0mx\u001b[0m\u001b[1;33m)\u001b[0m\u001b[1;33m\u001b[0m\u001b[1;33m\u001b[0m\u001b[0m\n\u001b[0;32m     21\u001b[0m \u001b[1;31m# (b) Determine the rank and the nullity of A( nullity is the dimension of nul A)\u001b[0m\u001b[1;33m\u001b[0m\u001b[1;33m\u001b[0m\u001b[1;33m\u001b[0m\u001b[0m\n\u001b[1;32m---> 22\u001b[1;33m \u001b[0mdisplay\u001b[0m\u001b[1;33m(\u001b[0m\u001b[0mv1\u001b[0m\u001b[1;33m.\u001b[0m\u001b[0mdistance\u001b[0m\u001b[1;33m(\u001b[0m\u001b[0mv2\u001b[0m\u001b[1;33m)\u001b[0m\u001b[1;33m)\u001b[0m\u001b[1;33m\u001b[0m\u001b[1;33m\u001b[0m\u001b[0m\n\u001b[0m",
      "\u001b[1;31mAttributeError\u001b[0m: 'MutableDenseMatrix' object has no attribute 'distance'"
     ]
    }
   ],
   "source": [
    "# Re exam 2016.2\n",
    "A = Matrix([\n",
    "    [1,0,0],\n",
    "    [0,3,0],\n",
    "    [0,0,-3]\n",
    "])\n",
    "\n",
    "B = Matrix([\n",
    "    [1,1,1],\n",
    "    [1,1,1],\n",
    "    [1,1,1]\n",
    "])\n",
    "\n",
    "# (a) Solve the matrix equation X + A = 2(X-B)\n",
    "# rewrite the equation to X+A = 2X-2B\n",
    "# A = X-2B\n",
    "# A +2B = X\n",
    "display(A+2*B)\n",
    "a,b,x = symbols('a b x')\n",
    "solve(x+a - 2*(x-b), x)\n",
    "# (b) Determine the rank and the nullity of A( nullity is the dimension of nul A)\n"
   ]
  }
 ],
 "metadata": {
  "kernelspec": {
   "display_name": "Python 3",
   "language": "python",
   "name": "python3"
  },
  "language_info": {
   "codemirror_mode": {
    "name": "ipython",
    "version": 3
   },
   "file_extension": ".py",
   "mimetype": "text/x-python",
   "name": "python",
   "nbconvert_exporter": "python",
   "pygments_lexer": "ipython3",
   "version": "3.8.3"
  }
 },
 "nbformat": 4,
 "nbformat_minor": 4
}
